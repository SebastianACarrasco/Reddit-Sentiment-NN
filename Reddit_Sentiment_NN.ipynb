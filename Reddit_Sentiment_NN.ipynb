{
  "nbformat": 4,
  "nbformat_minor": 0,
  "metadata": {
    "colab": {
      "name": "Reddit-Sentiment-NN.ipynb",
      "provenance": []
    },
    "kernelspec": {
      "name": "python3",
      "display_name": "Python 3"
    },
    "language_info": {
      "name": "python"
    }
  },
  "cells": [
    {
      "cell_type": "code",
      "metadata": {
        "id": "58aoN0ng1hUB",
        "colab": {
          "base_uri": "https://localhost:8080/"
        },
        "outputId": "d455ccdd-94f3-4c5d-9bad-384c7c05960d"
      },
      "source": [
        "from google.colab import drive\n",
        "drive.mount('/content/drive', force_remount = True)"
      ],
      "execution_count": null,
      "outputs": [
        {
          "output_type": "stream",
          "text": [
            "Mounted at /content/drive\n"
          ],
          "name": "stdout"
        }
      ]
    },
    {
      "cell_type": "code",
      "metadata": {
        "id": "0u6qrZYomzVy"
      },
      "source": [
        "!pip install import-ipynb"
      ],
      "execution_count": null,
      "outputs": []
    },
    {
      "cell_type": "code",
      "metadata": {
        "id": "nIAhUHqzjMyk"
      },
      "source": [
        "import matplotlib.pyplot as plt\n",
        "import os\n",
        "import re\n",
        "import pandas as pd\n",
        "import numpy as np\n",
        "import shutil\n",
        "import string\n",
        "import tensorflow as tf\n",
        "import import_ipynb\n",
        "\n",
        "from tensorflow.keras import layers\n",
        "from tensorflow.keras import losses\n",
        "from tensorflow.keras import preprocessing\n",
        "from tensorflow.keras.layers.experimental.preprocessing import TextVectorization"
      ],
      "execution_count": null,
      "outputs": []
    },
    {
      "cell_type": "markdown",
      "metadata": {
        "id": "3N040cuk2d6b"
      },
      "source": [
        "Can update to use my own dataset but it cannot read the URL from my drive"
      ]
    },
    {
      "cell_type": "code",
      "metadata": {
        "id": "0DPu44J24egA",
        "colab": {
          "base_uri": "https://localhost:8080/"
        },
        "outputId": "fff8450b-4bb3-44de-dc78-f5aa85dbaec7"
      },
      "source": [
        "url = \"https://ai.stanford.edu/~amaas/data/sentiment/aclImdb_v1.tar.gz\"\n",
        "\n",
        "dataset = tf.keras.utils.get_file('aclImdb_v1', url, untar = True, cache_dir= '.', cache_subdir='')\n",
        "\n",
        "dataset_dir = os.path.join(os.path.dirname(dataset), 'aclImdb')"
      ],
      "execution_count": null,
      "outputs": [
        {
          "output_type": "stream",
          "text": [
            "Downloading data from https://ai.stanford.edu/~amaas/data/sentiment/aclImdb_v1.tar.gz\n",
            "84131840/84125825 [==============================] - 7s 0us/step\n"
          ],
          "name": "stdout"
        }
      ]
    },
    {
      "cell_type": "code",
      "metadata": {
        "colab": {
          "base_uri": "https://localhost:8080/"
        },
        "id": "LGKtOdCKE4by",
        "outputId": "a37a2330-9adc-4cb6-a6ec-b36b849b06d4"
      },
      "source": [
        "os.listdir(dataset_dir)"
      ],
      "execution_count": null,
      "outputs": [
        {
          "output_type": "execute_result",
          "data": {
            "text/plain": [
              "['README', 'imdb.vocab', 'test', 'imdbEr.txt', 'train']"
            ]
          },
          "metadata": {
            "tags": []
          },
          "execution_count": 5
        }
      ]
    },
    {
      "cell_type": "code",
      "metadata": {
        "colab": {
          "base_uri": "https://localhost:8080/"
        },
        "id": "rrEvD35CE_cM",
        "outputId": "fbce21a7-3a47-41d9-88d0-b9fa66638ec0"
      },
      "source": [
        "train_dir = os.path.join(dataset_dir, 'train')\n",
        "os.listdir(train_dir)"
      ],
      "execution_count": null,
      "outputs": [
        {
          "output_type": "execute_result",
          "data": {
            "text/plain": [
              "['urls_neg.txt',\n",
              " 'urls_unsup.txt',\n",
              " 'unsupBow.feat',\n",
              " 'unsup',\n",
              " 'urls_pos.txt',\n",
              " 'neg',\n",
              " 'labeledBow.feat',\n",
              " 'pos']"
            ]
          },
          "metadata": {
            "tags": []
          },
          "execution_count": 6
        }
      ]
    },
    {
      "cell_type": "markdown",
      "metadata": {
        "id": "qNzHCedkFMKU"
      },
      "source": [
        "loading in the dataset from file. For this we need two folders for binary classification"
      ]
    },
    {
      "cell_type": "code",
      "metadata": {
        "id": "u_ZoGDO2FP-3"
      },
      "source": [
        "remove_dir = os.path.join(train_dir, 'unsup')\n",
        "shutil.rmtree(remove_dir)"
      ],
      "execution_count": null,
      "outputs": []
    },
    {
      "cell_type": "code",
      "metadata": {
        "colab": {
          "base_uri": "https://localhost:8080/"
        },
        "id": "wcQBHzfAGMx8",
        "outputId": "b8bb0fa5-20b8-4434-e967-4f3062497959"
      },
      "source": [
        "batch_size = 32\n",
        "seed = 42\n",
        "\n",
        "raw_train_ds = tf.keras.preprocessing.text_dataset_from_directory(\n",
        "    'aclImdb/train',\n",
        "    batch_size = batch_size,\n",
        "    validation_split = 0.2,\n",
        "    subset = 'training',\n",
        "    seed = seed\n",
        ")"
      ],
      "execution_count": null,
      "outputs": [
        {
          "output_type": "stream",
          "text": [
            "Found 25000 files belonging to 2 classes.\n",
            "Using 20000 files for training.\n"
          ],
          "name": "stdout"
        }
      ]
    },
    {
      "cell_type": "markdown",
      "metadata": {
        "id": "tFcdzh_auOGh"
      },
      "source": [
        "text is in: text, label(positive(1), negative(0))\n"
      ]
    },
    {
      "cell_type": "code",
      "metadata": {
        "id": "mKhVDpHcG4EQ",
        "colab": {
          "base_uri": "https://localhost:8080/"
        },
        "outputId": "ad2466be-f0ba-4082-ae97-97abf9e7bab9"
      },
      "source": [
        "print(\"Label 0 corresponds to\", raw_train_ds.class_names[0])\n",
        "print(\"Label 1 corresponds to\", raw_train_ds.class_names[1])"
      ],
      "execution_count": null,
      "outputs": [
        {
          "output_type": "stream",
          "text": [
            "Label 0 corresponds to neg\n",
            "Label 1 corresponds to pos\n"
          ],
          "name": "stdout"
        }
      ]
    },
    {
      "cell_type": "code",
      "metadata": {
        "colab": {
          "base_uri": "https://localhost:8080/"
        },
        "id": "vHhH28jFuZ-Q",
        "outputId": "f9401f52-2afd-4839-a035-11042121ee6a"
      },
      "source": [
        "raw_val_ds = tf.keras.preprocessing.text_dataset_from_directory(\n",
        "    'aclImdb/train',\n",
        "    batch_size = batch_size,\n",
        "    validation_split = 0.2,\n",
        "    subset = 'validation',\n",
        "    seed = seed\n",
        ")"
      ],
      "execution_count": null,
      "outputs": [
        {
          "output_type": "stream",
          "text": [
            "Found 25000 files belonging to 2 classes.\n",
            "Using 5000 files for validation.\n"
          ],
          "name": "stdout"
        }
      ]
    },
    {
      "cell_type": "code",
      "metadata": {
        "colab": {
          "base_uri": "https://localhost:8080/"
        },
        "id": "lFQYkFA0x5_j",
        "outputId": "c13efd85-c365-4db6-a463-0174dc3e5b57"
      },
      "source": [
        "raw_test_ds = tf.keras.preprocessing.text_dataset_from_directory(\n",
        "    'aclImdb/test',\n",
        "    batch_size = batch_size\n",
        ")"
      ],
      "execution_count": null,
      "outputs": [
        {
          "output_type": "stream",
          "text": [
            "Found 25000 files belonging to 2 classes.\n"
          ],
          "name": "stdout"
        }
      ]
    },
    {
      "cell_type": "markdown",
      "metadata": {
        "id": "X080SNAV1iZI"
      },
      "source": [
        "Below is standardize, tokenize, vectorize data"
      ]
    },
    {
      "cell_type": "code",
      "metadata": {
        "id": "cyprPg-L1oo9"
      },
      "source": [
        "def custom_standardization(input_data):\n",
        "  lowercase = tf.strings.lower(input_data)\n",
        "  stripped_html = tf.strings.regex_replace(lowercase, '<br />', '')\n",
        "  return tf.strings.regex_replace(stripped_html, '[%s]' % re.escape(string.punctuation), '')"
      ],
      "execution_count": null,
      "outputs": []
    },
    {
      "cell_type": "code",
      "metadata": {
        "id": "urtkdKvj972-"
      },
      "source": [
        "max_feature = 10000\n",
        "sequence_length = 250\n",
        "\n",
        "vectorize_layer = TextVectorization(\n",
        "    standardize = custom_standardization,\n",
        "    max_tokens = max_feature,\n",
        "    output_mode = 'int',\n",
        "    output_sequence_length = sequence_length\n",
        ")"
      ],
      "execution_count": null,
      "outputs": []
    },
    {
      "cell_type": "code",
      "metadata": {
        "id": "CFzMbCIhBxkg"
      },
      "source": [
        "#text dataset\n",
        "train_text = raw_train_ds.map(lambda x, y:x)\n",
        "vectorize_layer.adapt(train_text)"
      ],
      "execution_count": null,
      "outputs": []
    },
    {
      "cell_type": "code",
      "metadata": {
        "id": "m7Z96wygCNCk"
      },
      "source": [
        "def vectorize_text(text, label):\n",
        "  text = tf.expand_dims(text, -1)\n",
        "  return vectorize_layer(text), label"
      ],
      "execution_count": null,
      "outputs": []
    },
    {
      "cell_type": "code",
      "metadata": {
        "colab": {
          "base_uri": "https://localhost:8080/"
        },
        "id": "p99ofDKKGCg2",
        "outputId": "072f2e76-afba-46c8-a51b-df44006f3cd0"
      },
      "source": [
        "\n",
        "text_batch, label_batch = next(iter(raw_train_ds))\n",
        "first_review, first_label = text_batch[0], label_batch[0]\n",
        "print(\"Review \", first_review)\n",
        "print(\"Label \", raw_train_ds.class_names[first_label])\n",
        "print(\"Vectorized review \", vectorize_text(first_review, first_label))"
      ],
      "execution_count": null,
      "outputs": [
        {
          "output_type": "stream",
          "text": [
            "Review  tf.Tensor(b'Silent Night, Deadly Night 5 is the very last of the series, and like part 4, it\\'s unrelated to the first three except by title and the fact that it\\'s a Christmas-themed horror flick.<br /><br />Except to the oblivious, there\\'s some obvious things going on here...Mickey Rooney plays a toymaker named Joe Petto and his creepy son\\'s name is Pino. Ring a bell, anyone? Now, a little boy named Derek heard a knock at the door one evening, and opened it to find a present on the doorstep for him. Even though it said \"don\\'t open till Christmas\", he begins to open it anyway but is stopped by his dad, who scolds him and sends him to bed, and opens the gift himself. Inside is a little red ball that sprouts Santa arms and a head, and proceeds to kill dad. Oops, maybe he should have left well-enough alone. Of course Derek is then traumatized by the incident since he watched it from the stairs, but he doesn\\'t grow up to be some killer Santa, he just stops talking.<br /><br />There\\'s a mysterious stranger lurking around, who seems very interested in the toys that Joe Petto makes. We even see him buying a bunch when Derek\\'s mom takes him to the store to find a gift for him to bring him out of his trauma. And what exactly is this guy doing? Well, we\\'re not sure but he does seem to be taking these toys apart to see what makes them tick. He does keep his landlord from evicting him by promising him to pay him in cash the next day and presents him with a \"Larry the Larvae\" toy for his kid, but of course \"Larry\" is not a good toy and gets out of the box in the car and of course, well, things aren\\'t pretty.<br /><br />Anyway, eventually what\\'s going on with Joe Petto and Pino is of course revealed, and as with the old story, Pino is not a \"real boy\". Pino is probably even more agitated and naughty because he suffers from \"Kenitalia\" (a smooth plastic crotch) so that could account for his evil ways. And the identity of the lurking stranger is revealed too, and there\\'s even kind of a happy ending of sorts. Whee.<br /><br />A step up from part 4, but not much of one. Again, Brian Yuzna is involved, and Screaming Mad George, so some decent special effects, but not enough to make this great. A few leftovers from part 4 are hanging around too, like Clint Howard and Neith Hunter, but that doesn\\'t really make any difference. Anyway, I now have seeing the whole series out of my system. Now if I could get some of it out of my brain. 4 out of 5.', shape=(), dtype=string)\n",
            "Label  neg\n",
            "Vectorized review  (<tf.Tensor: shape=(1, 250), dtype=int64, numpy=\n",
            "array([[1270,  312, 2355,  312,  682,    7,    2,   51,  227,    5,    2,\n",
            "         203,    3,   37,  170,  725,   29, 5496,    6,    2,   86,  295,\n",
            "         541,   32,  427,    3,    2,  185,   12,   29,    4,    1,  191,\n",
            "           1,    6,    2, 8333,  221,   46,  573,  176,  167,   20,    1,\n",
            "        5434,  284,    4,    1,  752,  965,    1,    3,   24,  931, 2275,\n",
            "         396,    7,    1, 1655,    4, 3734,  252,  157,    4,  110,  437,\n",
            "         752, 3561,  538,    4, 3648,   30,    2, 1347,   28, 2121,    3,\n",
            "        2877,    9,    6,  160,    4,  998,   20,    2,    1,   15,   88,\n",
            "          54,  149,    9,  290,   89,  960, 2273,  983,   27,  766,    6,\n",
            "         960,    9,  687,   18,    7, 2138,   32,   24, 1265,   36,    1,\n",
            "          88,    3, 3249,   88,    6, 1411,    3, 1897,    2, 3365,  301,\n",
            "         969,    7,    4,  110,  744, 1965,   12,    1, 1995, 2830,    3,\n",
            "           4,  424,    3, 5102,    6,  501, 1265,    1,  280,   27,  138,\n",
            "          25,  304,    1,  594,    5,  258, 3561,    7,   94, 8887,   32,\n",
            "           2, 3823,  233,   27,  281,    9,   35,    2, 5895,   18,   27,\n",
            "         143, 2120,   55,    6,   26,   46,  459, 1995,   27,   40, 2717,\n",
            "           1,    4, 1364, 2960, 6995,  183,   36,  180,   51,  909,    8,\n",
            "           2, 3978,   12,  965,    1,  155,   71,   54,   68,   88, 2711,\n",
            "           4,  727,   52,    1, 1587,  289,   88,    6,    2, 1160,    6,\n",
            "         160,    4, 3365,   15,   88,    6,  705,   88,   44,    5,   24,\n",
            "        7206,    3,   47,  590,    7,   10,  225,  381,   76,   65,   21,\n",
            "         243,   18,   27,  119,  292,    6,   26,  662,  128, 3978,  978,\n",
            "           6,   68,   47,  155,   98,    1,   27,  119]])>, <tf.Tensor: shape=(), dtype=int32, numpy=0>)\n"
          ],
          "name": "stdout"
        }
      ]
    },
    {
      "cell_type": "code",
      "metadata": {
        "colab": {
          "base_uri": "https://localhost:8080/"
        },
        "id": "7DXyMPPnHBS2",
        "outputId": "068357a0-7824-40ef-86d9-dcb987f0efb9"
      },
      "source": [
        "print(\"313 ->\", vectorize_layer.get_vocabulary()[313])"
      ],
      "execution_count": null,
      "outputs": [
        {
          "output_type": "stream",
          "text": [
            "313 -> audience\n"
          ],
          "name": "stdout"
        }
      ]
    },
    {
      "cell_type": "code",
      "metadata": {
        "id": "8nhTTLM_HLYJ"
      },
      "source": [
        "train_ds = raw_test_ds.map(vectorize_text)\n",
        "val_ds = raw_val_ds.map(vectorize_text)\n",
        "test_ds = raw_test_ds.map(vectorize_text)"
      ],
      "execution_count": null,
      "outputs": []
    },
    {
      "cell_type": "code",
      "metadata": {
        "id": "nLDBrZACH-zv"
      },
      "source": [
        "AUTOTUNE = tf.data.AUTOTUNE\n",
        "\n",
        "train_ds = train_ds.cache().prefetch(buffer_size = AUTOTUNE)\n",
        "val_ds = val_ds.cache().prefetch(buffer_size = AUTOTUNE)\n",
        "test_ds = test_ds.cache().prefetch(buffer_size = AUTOTUNE)"
      ],
      "execution_count": null,
      "outputs": []
    },
    {
      "cell_type": "code",
      "metadata": {
        "id": "6cP3VsJxo0Cy"
      },
      "source": [
        "embedding_dim = 16"
      ],
      "execution_count": null,
      "outputs": []
    },
    {
      "cell_type": "code",
      "metadata": {
        "colab": {
          "base_uri": "https://localhost:8080/"
        },
        "id": "3c_R7_Sxo8_h",
        "outputId": "ca837453-3edc-4f99-d242-47a9ff282b3c"
      },
      "source": [
        "model = tf.keras.Sequential([\n",
        "    layers.Embedding(max_feature+1, embedding_dim),\n",
        "    layers.Dropout(0.2),\n",
        "    layers.GlobalAveragePooling1D(),\n",
        "    layers.Dropout(0.2),\n",
        "    layers.Dense(1)\n",
        "])\n",
        "\n",
        "model.summary()"
      ],
      "execution_count": null,
      "outputs": [
        {
          "output_type": "stream",
          "text": [
            "Model: \"sequential\"\n",
            "_________________________________________________________________\n",
            "Layer (type)                 Output Shape              Param #   \n",
            "=================================================================\n",
            "embedding (Embedding)        (None, None, 16)          160016    \n",
            "_________________________________________________________________\n",
            "dropout (Dropout)            (None, None, 16)          0         \n",
            "_________________________________________________________________\n",
            "global_average_pooling1d (Gl (None, 16)                0         \n",
            "_________________________________________________________________\n",
            "dropout_1 (Dropout)          (None, 16)                0         \n",
            "_________________________________________________________________\n",
            "dense (Dense)                (None, 1)                 17        \n",
            "=================================================================\n",
            "Total params: 160,033\n",
            "Trainable params: 160,033\n",
            "Non-trainable params: 0\n",
            "_________________________________________________________________\n"
          ],
          "name": "stdout"
        }
      ]
    },
    {
      "cell_type": "code",
      "metadata": {
        "id": "qwmQXWqRpUgc"
      },
      "source": [
        "model.compile(\n",
        "    loss=losses.BinaryCrossentropy(from_logits=True), \n",
        "    optimizer='adam', \n",
        "    metrics=tf.metrics.BinaryAccuracy(threshold = 0.0))"
      ],
      "execution_count": null,
      "outputs": []
    },
    {
      "cell_type": "code",
      "metadata": {
        "colab": {
          "base_uri": "https://localhost:8080/"
        },
        "id": "qvywWXtGqCcT",
        "outputId": "b582f6fb-7c08-406b-f040-4d9e518a7b9b"
      },
      "source": [ 
        "epochs = 10\n",
        "history = model.fit(\n",
        "    train_ds,\n",
        "    validation_data=val_ds,\n",
        "    epochs=epochs\n",
        ")"
      ],
      "execution_count": null,
      "outputs": [
        {
          "output_type": "stream",
          "text": [
            "Epoch 1/10\n",
            "782/782 [==============================] - 9s 11ms/step - loss: 0.6532 - binary_accuracy: 0.7062 - val_loss: 0.5902 - val_binary_accuracy: 0.7756\n",
            "Epoch 2/10\n",
            "782/782 [==============================] - 4s 5ms/step - loss: 0.5134 - binary_accuracy: 0.8157 - val_loss: 0.4675 - val_binary_accuracy: 0.8296\n",
            "Epoch 3/10\n",
            "782/782 [==============================] - 4s 5ms/step - loss: 0.4089 - binary_accuracy: 0.8561 - val_loss: 0.4002 - val_binary_accuracy: 0.8458\n",
            "Epoch 4/10\n",
            "782/782 [==============================] - 4s 5ms/step - loss: 0.3481 - binary_accuracy: 0.8746 - val_loss: 0.3651 - val_binary_accuracy: 0.8540\n",
            "Epoch 5/10\n",
            "782/782 [==============================] - 4s 5ms/step - loss: 0.3100 - binary_accuracy: 0.8866 - val_loss: 0.3453 - val_binary_accuracy: 0.8624\n",
            "Epoch 6/10\n",
            "782/782 [==============================] - 4s 5ms/step - loss: 0.2828 - binary_accuracy: 0.8959 - val_loss: 0.3337 - val_binary_accuracy: 0.8630\n",
            "Epoch 7/10\n",
            "782/782 [==============================] - 4s 5ms/step - loss: 0.2611 - binary_accuracy: 0.9034 - val_loss: 0.3264 - val_binary_accuracy: 0.8656\n",
            "Epoch 8/10\n",
            "782/782 [==============================] - 4s 5ms/step - loss: 0.2439 - binary_accuracy: 0.9092 - val_loss: 0.3227 - val_binary_accuracy: 0.8654\n",
            "Epoch 9/10\n",
            "782/782 [==============================] - 4s 5ms/step - loss: 0.2302 - binary_accuracy: 0.9144 - val_loss: 0.3215 - val_binary_accuracy: 0.8644\n",
            "Epoch 10/10\n",
            "782/782 [==============================] - 4s 5ms/step - loss: 0.2169 - binary_accuracy: 0.9195 - val_loss: 0.3224 - val_binary_accuracy: 0.8648\n"
          ],
          "name": "stdout"
        }
      ]
    },
    {
      "cell_type": "markdown",
      "metadata": {
        "id": "JbhY78y6qXBq"
      },
      "source": [
        "Evaluating Model for Accuracy\n"
      ]
    },
    {
      "cell_type": "code",
      "metadata": {
        "colab": {
          "base_uri": "https://localhost:8080/"
        },
        "id": "Lqee9LYdqJ_C",
        "outputId": "895eb638-9552-4d47-b2a8-a484c249bebd"
      },
      "source": [
        "loss, accuracy = model.evaluate(test_ds)\n",
        "\n",
        "print(\"Loss: \", loss)\n",
        "print(\"Accuracy: \", accuracy)"
      ],
      "execution_count": null,
      "outputs": [
        {
          "output_type": "stream",
          "text": [
            "782/782 [==============================] - 6s 7ms/step - loss: 0.2015 - binary_accuracy: 0.9275\n",
            "Loss:  0.2015070915222168\n",
            "Accuracy:  0.9275199770927429\n"
          ],
          "name": "stdout"
        }
      ]
    },
    {
      "cell_type": "markdown",
      "metadata": {
        "id": "iOu91dy-q-6Y"
      },
      "source": [
        "Plotting Model"
      ]
    },
    {
      "cell_type": "code",
      "metadata": {
        "colab": {
          "base_uri": "https://localhost:8080/"
        },
        "id": "lIXPxmadq0ty",
        "outputId": "63eda263-f9ed-440a-9de8-6f143c6c319e"
      },
      "source": [
        "history_dict = history.history\n",
        "history_dict.keys()"
      ],
      "execution_count": null,
      "outputs": [
        {
          "output_type": "execute_result",
          "data": {
            "text/plain": [
              "dict_keys(['loss', 'binary_accuracy', 'val_loss', 'val_binary_accuracy'])"
            ]
          },
          "metadata": {
            "tags": []
          },
          "execution_count": 25
        }
      ]
    },
    {
      "cell_type": "code",
      "metadata": {
        "colab": {
          "base_uri": "https://localhost:8080/",
          "height": 295
        },
        "id": "kqjd9VFJrJRr",
        "outputId": "72790355-fd73-41c8-e422-86b1b331e020"
      },
      "source": [
        "acc = history_dict['binary_accuracy']\n",
        "val_acc = history_dict['val_binary_accuracy']\n",
        "loss = history_dict['loss']\n",
        "val_loss = history_dict['val_loss']\n",
        "\n",
        "epochs = range(1,len(acc)+1)\n",
        "\n",
        "# \"bo\" is for \"blue dot\"\n",
        "plt.plot(epochs, loss, 'bo', label='Training loss')\n",
        "# b is for \"solid blue line\"\n",
        "plt.plot(epochs, val_loss, 'b', label='Validation loss')\n",
        "plt.title('Training and validation loss')\n",
        "plt.xlabel('Epochs')\n",
        "plt.ylabel('Loss')\n",
        "plt.legend()\n",
        "\n",
        "plt.show()"
      ],
      "execution_count": null,
      "outputs": [
        {
          "output_type": "display_data",
          "data": {
            "image/png": "[encoded data removed]",
            "text/plain": [
              "<Figure size 432x288 with 1 Axes>"
            ]
          },
          "metadata": {
            "tags": [],
            "needs_background": "light"
          }
        }
      ]
    },
    {
      "cell_type": "markdown",
      "metadata": {
        "id": "5urrRYibrvwh"
      },
      "source": [
        "Create new model for Reddit with weights already trained"
      ]
    },
    {
      "cell_type": "code",
      "metadata": {
        "colab": {
          "base_uri": "https://localhost:8080/"
        },
        "id": "0YqEUD3krkk6",
        "outputId": "84499190-8324-4ea6-e577-fc558fa81cf7"
      },
      "source": [
        "export_model = tf.keras.Sequential([\n",
        "      vectorize_layer,\n",
        "      model,\n",
        "      layers.Activation('sigmoid')\n",
        "])\n",
        "\n",
        "export_model.compile(\n",
        "    loss=losses.BinaryCrossentropy(from_logits=False), optimizer=\"adam\", metrics=['accuracy']\n",
        ")\n",
        "\n",
        "# Test it with `raw_test_ds`, which yields raw strings\n",
        "loss, accuracy = export_model.evaluate(raw_test_ds)\n",
        "print(accuracy)"
      ],
      "execution_count": null,
      "outputs": [
        {
          "output_type": "stream",
          "text": [
            "782/782 [==============================] - 7s 8ms/step - loss: 0.2015 - accuracy: 0.9275\n",
            "0.9275199770927429\n"
          ],
          "name": "stdout"
        }
      ]
    },
    {
      "cell_type": "code",
      "metadata": {
        "colab": {
          "base_uri": "https://localhost:8080/"
        },
        "id": "ZwQzznMRY-0R",
        "outputId": "a1cfae80-72db-4454-90f2-fc82b1d12ad2"
      },
      "source": [
        "# Code to read csv file into Colaboratory:\n",
        "!pip install -U -q PyDrive\n",
        "from google.colab import drive\n",
        "from pydrive.auth import GoogleAuth\n",
        "from pydrive.drive import GoogleDrive\n",
        "from google.colab import auth\n",
        "from oauth2client.client import GoogleCredentials\n",
        "# Authenticate and create the PyDrive client.\n",
        "auth.authenticate_user()\n",
        "gauth = GoogleAuth()\n",
        "gauth.credentials = GoogleCredentials.get_application_default()\n",
        "drive = GoogleDrive(gauth)"
      ],
      "execution_count": null,
      "outputs": [
        {
          "output_type": "stream",
          "text": [
            "Collecting ipynb\n",
            "  Downloading https://files.pythonhosted.org/packages/31/42/4c0bbb66390e3a68e04ebf134c8d074a00c18b5882293f8ace5f7497fbf0/ipynb-0.5.1-py3-none-any.whl\n",
            "Installing collected packages: ipynb\n",
            "Successfully installed ipynb-0.5.1\n"
          ],
          "name": "stdout"
        }
      ]
    },
    {
      "cell_type": "markdown",
      "metadata": {
        "id": "k-qsAnBajdwH"
      },
      "source": [
        "## **START OF REDDIT CRAWLER**"
      ]
    },
    {
      "cell_type": "code",
      "metadata": {
        "id": "btJZsMnPmrw8",
        "colab": {
          "base_uri": "https://localhost:8080/"
        },
        "outputId": "2c73860d-d2e4-4b38-9740-d5122e933259"
      },
      "source": [
        "!pip install praw"
      ],
      "execution_count": null,
      "outputs": [
        {
          "output_type": "stream",
          "text": [
            "Collecting praw\n",
            "\u001b[?25l  Downloading https://files.pythonhosted.org/packages/1b/3f/14c92b8a33564aaab1725162240ca081dc28d84e384bb1c08ada83485ccf/praw-7.3.0-py3-none-any.whl (165kB)\n",
            "\r\u001b[K     |██                              | 10kB 19.6MB/s eta 0:00:01\r\u001b[K     |████                            | 20kB 25.7MB/s eta 0:00:01\r\u001b[K     |██████                          | 30kB 27.9MB/s eta 0:00:01\r\u001b[K     |████████                        | 40kB 16.4MB/s eta 0:00:01\r\u001b[K     |█████████▉                      | 51kB 14.9MB/s eta 0:00:01\r\u001b[K     |███████████▉                    | 61kB 11.2MB/s eta 0:00:01\r\u001b[K     |█████████████▉                  | 71kB 11.7MB/s eta 0:00:01\r\u001b[K     |███████████████▉                | 81kB 12.1MB/s eta 0:00:01\r\u001b[K     |█████████████████▊              | 92kB 12.1MB/s eta 0:00:01\r\u001b[K     |███████████████████▊            | 102kB 13.0MB/s eta 0:00:01\r\u001b[K     |█████████████████████▊          | 112kB 13.0MB/s eta 0:00:01\r\u001b[K     |███████████████████████▊        | 122kB 13.0MB/s eta 0:00:01\r\u001b[K     |█████████████████████████▊      | 133kB 13.0MB/s eta 0:00:01\r\u001b[K     |███████████████████████████▋    | 143kB 13.0MB/s eta 0:00:01\r\u001b[K     |█████████████████████████████▋  | 153kB 13.0MB/s eta 0:00:01\r\u001b[K     |███████████████████████████████▋| 163kB 13.0MB/s eta 0:00:01\r\u001b[K     |████████████████████████████████| 174kB 13.0MB/s \n",
            "\u001b[?25hCollecting prawcore<3,>=2.1\n",
            "  Downloading https://files.pythonhosted.org/packages/d7/27/e5ca770e299ed4e94646eb630a8c2dfbb202eefc4d17980550f4ec817e5a/prawcore-2.2.0-py3-none-any.whl\n",
            "Collecting update-checker>=0.18\n",
            "  Downloading https://files.pythonhosted.org/packages/0c/ba/8dd7fa5f0b1c6a8ac62f8f57f7e794160c1f86f31c6d0fb00f582372a3e4/update_checker-0.18.0-py3-none-any.whl\n",
            "Collecting websocket-client>=0.54.0\n",
            "\u001b[?25l  Downloading https://files.pythonhosted.org/packages/ca/5f/3c211d168b2e9f9342cfb53bcfc26aab0eac63b998015e7af7bcae66119d/websocket_client-1.1.0-py2.py3-none-any.whl (68kB)\n",
            "\u001b[K     |████████████████████████████████| 71kB 6.3MB/s \n",
            "\u001b[?25hRequirement already satisfied: requests<3.0,>=2.6.0 in /usr/local/lib/python3.7/dist-packages (from prawcore<3,>=2.1->praw) (2.23.0)\n",
            "Requirement already satisfied: urllib3!=1.25.0,!=1.25.1,<1.26,>=1.21.1 in /usr/local/lib/python3.7/dist-packages (from requests<3.0,>=2.6.0->prawcore<3,>=2.1->praw) (1.24.3)\n",
            "Requirement already satisfied: certifi>=2017.4.17 in /usr/local/lib/python3.7/dist-packages (from requests<3.0,>=2.6.0->prawcore<3,>=2.1->praw) (2021.5.30)\n",
            "Requirement already satisfied: idna<3,>=2.5 in /usr/local/lib/python3.7/dist-packages (from requests<3.0,>=2.6.0->prawcore<3,>=2.1->praw) (2.10)\n",
            "Requirement already satisfied: chardet<4,>=3.0.2 in /usr/local/lib/python3.7/dist-packages (from requests<3.0,>=2.6.0->prawcore<3,>=2.1->praw) (3.0.4)\n",
            "Installing collected packages: prawcore, update-checker, websocket-client, praw\n",
            "Successfully installed praw-7.3.0 prawcore-2.2.0 update-checker-0.18.0 websocket-client-1.1.0\n"
          ],
          "name": "stdout"
        }
      ]
    },
    {
      "cell_type": "code",
      "metadata": {
        "id": "iic_GlLevaGR"
      },
      "source": [
        "import praw\n",
        "from prawcore import NotFound\n",
        "import io\n",
        "from praw.models import MoreComments\n",
        "\n"
      ],
      "execution_count": null,
      "outputs": []
    },
    {
      "cell_type": "code",
      "metadata": {
        "id": "v5rpumoxveSc",
        "colab": {
          "base_uri": "https://localhost:8080/",
          "height": 197
        },
        "outputId": "5c4f7e84-92e0-4963-8cfb-d7ce6f728384"
      },
      "source": [
        "reddit = praw.Reddit(client_id='...', \n",
        "                    client_secret='...', \n",
        "                    user_agent='...', check_for_async = False)\n"
      ],
      "execution_count": null,
      "outputs": [
        {
          "output_type": "error",
          "ename": "NameError",
          "evalue": "ignored",
          "traceback": [
            "\u001b[0;31m---------------------------------------------------------------------------\u001b[0m",
            "\u001b[0;31mNameError\u001b[0m                                 Traceback (most recent call last)",
            "\u001b[0;32m<ipython-input-1-11cadac0e3de>\u001b[0m in \u001b[0;36m<module>\u001b[0;34m()\u001b[0m\n\u001b[0;32m----> 1\u001b[0;31m reddit = praw.Reddit(client_id='...', \n\u001b[0m\u001b[1;32m      2\u001b[0m                     \u001b[0mclient_secret\u001b[0m\u001b[0;34m=\u001b[0m\u001b[0;34m'...'\u001b[0m\u001b[0;34m,\u001b[0m\u001b[0;34m\u001b[0m\u001b[0;34m\u001b[0m\u001b[0m\n\u001b[1;32m      3\u001b[0m                     user_agent='...', check_for_async = False)\n",
            "\u001b[0;31mNameError\u001b[0m: name 'praw' is not defined"
          ]
        }
      ]
    },
    {
      "cell_type": "code",
      "metadata": {
        "id": "asOdZIfpS8C1"
      },
      "source": [
        "# Code to read csv file into Colaboratory:\n",
        "!pip install -U -q PyDrive\n",
        "from pydrive.auth import GoogleAuth\n",
        "from pydrive.drive import GoogleDrive\n",
        "from google.colab import auth\n",
        "from oauth2client.client import GoogleCredentials\n",
        "# Authenticate and create the PyDrive client.\n",
        "auth.authenticate_user()\n",
        "gauth = GoogleAuth()\n",
        "gauth.credentials = GoogleCredentials.get_application_default()\n",
        "drive = GoogleDrive(gauth)"
      ],
      "execution_count": null,
      "outputs": []
    },
    {
      "cell_type": "code",
      "metadata": {
        "id": "BZNOnpu0UMGx"
      },
      "source": [
        "link = '/content/drive/MyDrive/personal_projects/Reddit/list_of_subreddits.csv'\n",
        "#empty dict with subreddit:posts values\n",
        "posts = {}"
      ],
      "execution_count": null,
      "outputs": []
    },
    {
      "cell_type": "code",
      "metadata": {
        "colab": {
          "base_uri": "https://localhost:8080/"
        },
        "id": "We07okCrVMJp",
        "outputId": "65c59d3b-6c0d-4283-8aac-ec92059a77fc"
      },
      "source": [
        "subs = pd.read_csv(link)\n",
        "print(subs)"
      ],
      "execution_count": null,
      "outputs": [
        {
          "output_type": "stream",
          "text": [
            "            Subreddit  ...                                        Description\n",
            "0             Finance  ...  Welcome to r/Finance!\\n\\nNo Personal Finance, ...\n",
            "1              Stocks  ...  Almost any post related to stocks is welcome o...\n",
            "2             Bitcoin  ...  A community dedicated to Bitcoin, the currency...\n",
            "3    SecurityAnalysis  ...                        Welcome to SecurityAnalysis\n",
            "4   Wallstreetbetsnew  ...           This is the public Wall Street Bets Sub!\n",
            "..                ...  ...                                                ...\n",
            "59     Cryptocurrency  ...  The leading community for cryptocurrency news,...\n",
            "60        UKInvesting  ...  Welcome to /r/UKInvesting, a subreddit for tho...\n",
            "61          ausstocks  ...  A place for Australians to discuss securities ...\n",
            "62     WallStreetBets  ...              Like 4chan found a Bloomberg Terminal\n",
            "63          dividends  ...  A community by and for dividend growth investo...\n",
            "\n",
            "[64 rows x 3 columns]\n"
          ],
          "name": "stdout"
        }
      ]
    },
    {
      "cell_type": "code",
      "metadata": {
        "colab": {
          "base_uri": "https://localhost:8080/"
        },
        "id": "6MSoJWoRVoxu",
        "outputId": "3d8a7bcc-f2ae-4e77-9692-01286cd6acb5"
      },
      "source": [
        "\n",
        "sub_list = subs['Subreddit'].tolist()\n",
        "print(sub_list)"
      ],
      "execution_count": null,
      "outputs": [
        {
          "output_type": "stream",
          "text": [
            "['Finance', 'Stocks', 'Bitcoin', 'SecurityAnalysis', 'Wallstreetbetsnew', 'StocksAndTrading', 'PennystocksDD', 'PennyStocks', 'algotrading', 'babystreetbets', 'Economics', 'ASX_Bets', 'antstreetbets', 'quant', 'weedstocks', 'investing', 'Economy', 'shortinterestbets', 'thetagang', 'Pennystocks', 'InvestingRetards', 'wallstreetbet', 'wallstreetbetsoptions', 'econmonitor', 'Wallstreetwarrior', 'StockMarket', 'Dividends', 'wallstreetbets2', 'Trading', 'WSBAfterHours', 'smallstreetbets', 'retardbets', 'finance', 'InvestmentClub', 'stocks', 'IndianStreetBets', 'wallstreetsidebets', 'Stock_Picks', 'baystreetbets', 'ameisenstrassenwetten', 'wallstreetbets_', 'ISKbets', 'quantfinance', 'stonks', 'GlobalMarkets', 'Investing', 'Daytrading', 'WallStreetbetsELITE', 'RobinHoodPennyStocks', 'DayTrading', 'CanadianInvestor', 'pennystocks', 'Options', 'AlgoTrading', 'MoonBets', 'algorithmictrading', 'farialimabets', 'Wallstreetsilver', 'wallstreetbets', 'Cryptocurrency', 'UKInvesting', 'ausstocks', 'WallStreetBets', 'dividends']\n"
          ],
          "name": "stdout"
        }
      ]
    },
    {
      "cell_type": "markdown",
      "metadata": {
        "id": "AOuE1z68hts6"
      },
      "source": [
        "Made dictionary 'posts' with <sub,posts> values to keep data organized if extraction is wanted\n",
        "\n",
        "---\n",
        "\n"
      ]
    },
    {
      "cell_type": "code",
      "metadata": {
        "colab": {
          "base_uri": "https://localhost:8080/"
        },
        "id": "4HY26DijcQhF",
        "outputId": "5ac7f428-eb1b-4f97-d3de-8f1475ea5fc7"
      },
      "source": [
        "\n",
        "#dict to organize posts\n",
        "for subs in sub_list:\n",
        "  posts[subs] = None\n",
        "\n",
        "print(posts)"
      ],
      "execution_count": null,
      "outputs": [
        {
          "output_type": "stream",
          "text": [
            "{'Finance': None, 'Stocks': None, 'Bitcoin': None, 'SecurityAnalysis': None, 'Wallstreetbetsnew': None, 'StocksAndTrading': None, 'PennystocksDD': None, 'PennyStocks': None, 'algotrading': None, 'babystreetbets': None, 'Economics': None, 'ASX_Bets': None, 'antstreetbets': None, 'quant': None, 'weedstocks': None, 'investing': None, 'Economy': None, 'shortinterestbets': None, 'thetagang': None, 'Pennystocks': None, 'InvestingRetards': None, 'wallstreetbet': None, 'wallstreetbetsoptions': None, 'econmonitor': None, 'Wallstreetwarrior': None, 'StockMarket': None, 'Dividends': None, 'wallstreetbets2': None, 'Trading': None, 'WSBAfterHours': None, 'smallstreetbets': None, 'retardbets': None, 'finance': None, 'InvestmentClub': None, 'stocks': None, 'IndianStreetBets': None, 'wallstreetsidebets': None, 'Stock_Picks': None, 'baystreetbets': None, 'ameisenstrassenwetten': None, 'wallstreetbets_': None, 'ISKbets': None, 'quantfinance': None, 'stonks': None, 'GlobalMarkets': None, 'Investing': None, 'Daytrading': None, 'WallStreetbetsELITE': None, 'RobinHoodPennyStocks': None, 'DayTrading': None, 'CanadianInvestor': None, 'pennystocks': None, 'Options': None, 'AlgoTrading': None, 'MoonBets': None, 'algorithmictrading': None, 'farialimabets': None, 'Wallstreetsilver': None, 'wallstreetbets': None, 'Cryptocurrency': None, 'UKInvesting': None, 'ausstocks': None, 'WallStreetBets': None, 'dividends': None}\n"
          ],
          "name": "stdout"
        }
      ]
    },
    {
      "cell_type": "code",
      "metadata": {
        "id": "SqFY4Yglivgs"
      },
      "source": [
        "def sub_exists(sub):\n",
        "    exists = True\n",
        "    try:\n",
        "        reddit.subreddits.search_by_name(sub, exact=True)\n",
        "    except NotFound:\n",
        "        exists = False\n",
        "    return exists"
      ],
      "execution_count": null,
      "outputs": []
    },
    {
      "cell_type": "code",
      "metadata": {
        "id": "KDIyyKNVnhIT"
      },
      "source": [
        "import re\n",
        "def comments(urlT):\n",
        "  candice = []\n",
        "\n",
        "  try:\n",
        "    check = reddit.submission(url = urlT)\n",
        "    sub_comments = check.comments\n",
        "    sub_comments.comment_sort = 'best'\n",
        "    sub_comments.comment_limit = 15\n",
        "  except:\n",
        "    return \"\"\n",
        "\n",
        "  for c in sub_comments:\n",
        "    try:\n",
        "      candice.append(c.body)\n",
        "    except:\n",
        "      return ''\n",
        "\n",
        "  return candice"
      ],
      "execution_count": null,
      "outputs": []
    },
    {
      "cell_type": "code",
      "metadata": {
        "id": "P4Txi2OoRQf8"
      },
      "source": [
        "def getRedditPosts(sub_list):\n",
        "  for sub in sub_list:\n",
        "    for submissions in reddit.subreddit(sub).hot(limit = 10):\n",
        "      posts[sub] = comments(submissions.url)"
      ],
      "execution_count": null,
      "outputs": []
    },
    {
      "cell_type": "code",
      "metadata": {
        "id": "36b--Jx5AT_D"
      },
      "source": [
        "getRedditPosts(sub_list)"
      ],
      "execution_count": null,
      "outputs": []
    },
    {
      "cell_type": "code",
      "metadata": {
        "colab": {
          "base_uri": "https://localhost:8080/"
        },
        "id": "qKB53YsHEGlI",
        "outputId": "4071b578-d274-4a5f-fa54-2983cb5b1bbd"
      },
      "source": [
        " print(posts)"
      ],
      "execution_count": null,
      "outputs": [
        {
          "output_type": "stream",
          "text": [
            "{'Finance': '', 'Stocks': '', 'Bitcoin': '', 'SecurityAnalysis': '', 'Wallstreetbetsnew': '', 'StocksAndTrading': [], 'PennystocksDD': ['With the bitcoin practicing skydiving, bitcoin stocks are going nowhere'], 'PennyStocks': ['\\nDoes this submission fit our subreddit? If it does please **upvote** this comment. If it does not fit the subreddit please **downvote** this comment.\\n\\n\\n\\n---\\n\\n^(*I am a bot, and this comment was made automatically.*) ^(Please) [^(contact)^( )^(us)^( )^(via)^( )^(modmail)](https://www.reddit.com/message/compose?to=/r/pennystocks&subject=Updoot%20bot%20questions!) \\n^(if) ^(you) ^(have) ^(any) ^(questions) ^(or) ^(concerns.)', \"There's decent short term potential on this simply based on the rise of LWLG over the last few weeks. Similar industry/tech.\", 'Pardon my lack of knowledge/research, but does anyone happen to know how much correlation, if any, this company has with Lightwave Logic? Both have moved nicely in recent sessions. Thanks in advance!'], 'algotrading': ['I found ib_insync the easiest to get started with and should do what you need.', 'A lot of people on this sub and related subs, including me, use ib_insync, programmed by Ewald de Wit. It is popular because it is programmed at a high professional level, it is FOSS, and it is very inclusive. \\n\\nib_insync has a decent support forum, found at https://groups.io/g/insync\\n\\nTo evaluate it, you need to look at his documentation, starting with https://rawgit.com/erdewit/ib_insync/master/docs/html/index.html on GitHub. To see what is included that you can use, evaluate the segment titled \"API docs.\" Also look at some of the examples under the \"Notebooks\" title.\\n\\nYou probably already know that this is NOT a Restful API - there is a bit of a learning curve (made more complicated by the fact that not everything is covered by the documentation) and it helps if you are a fairly competent Python programmer.\\n\\nThe one downside is that if de Wit loses interest or gets hit by a bus, OR if IBKR stops support for their own traditional API, you may eventually face the reality that your interface, built with hours and hours of coding, may stop working anymore.\\n\\nGood luck in your choice.', 'ib\\\\_insync\\n\\nTakes a bit of getting used to. It has everything you can possibly want and more plus the asyncio lib used throughout is just amazing for live systems.'], 'babystreetbets': '', 'Economics': '', 'ASX_Bets': '', 'antstreetbets': '', 'quant': ['You could try implementing a kalman filter', 'A great step would be creating a black-scholes model for pricing options.', 'You gotta get your guap up and run with your algos. The next level is implementation but if you can spin it north then sharpe money will flip up', \"There's a useful book Modelling Derivatives in C++ with lots of examples of code. I found it quite useful for getting ideas for translating some of the quantitative topics into working code. That is if you're looking at futures and/or options and if by risk analysis you mean greeks.\", 'You can price an american option using monte carlo'], 'weedstocks': '', 'investing': ['**Hi, welcome to /r/investing. Please note that as a topic focused subreddit we have higher posting standards than much of Reddit:**\\n\\n**1)** Please direct all **advice requests and beginner questions to the stickied daily threads.** This includes beginner questions and portfolio help.\\n\\n**2) Important: We have strict political posting guidelines** (described [here](https://www.reddit.com/r/investing/comments/cyee69/formal_posting_guidelines_for_political_topics/) and [here](https://www.reddit.com/r/investing/comments/escewo/temporary_rule_change_what_happens_to_stocks_if/)). Violations will result in a likely 60 day ban upon **first instance.**\\n\\n**3)** This is an open forum but we expect you to conduct yourself like an adult. Disagree, argue, criticize, but **no personal attacks.**\\n\\n\\n*I am a bot, and this action was performed automatically. Please [contact the moderators of this subreddit](/message/compose/?to=/r/investing) if you have any questions or concerns.*', 'Having been through multiple up and down cycles, I have found it best to just stick with my plan.  Maintain my portfolio allocations that I have chosen.\\n\\nThe times I tried to time the market to invest a windfall, I sat on the cash for too long and came out behind if I had just dumped it in.\\n\\nIf you have a regular contribution, just keep doing it.', 'Sit around confused whilst losing to inflation 🤷🏼\\u200d♂️', 'This reads exactly like a post from 2020. Or 2019. Or 2017. Or\\n 2015. I think people were even screaming overvalued for the current cycle even back in ~2013-2014ish', 'I would hold and History would agree', 'Maybe if everything is overvalued it’s actually the currency that has lost value. That’s my thought. Would be more concerned about inflation and supply chains.', \"While everything is at all time highs and feels overvalued I think when you look at the bigger picture it really isn't.\\n\\nIf it was just stocks, I would think it's a bubble. But it's literally crypto, real estate, commodities. Just about every asset class is taking off. There's so much cash in the economy, and no one wants to hold it as cash or buy a bond or annuity that could fail to outpace inflation. I think as long as the FED keeps printing money and keeping interest rates low we're going to continue to see assets trade higher.\\n\\nSo I wouldn't want to hold a lot of cash or invest in things like bonds that could get beat by inflation. And if this is retirement investing that's 10 plus years out, I would stay fully invested knowing that you can't time a crash and that we will likely recover above where we are today within 10 years.\\n\\nSome Ideas if you think we are due for a crash or want to hedge against it.\\n\\nGovernment I Savings Bonds:.  \\nThere is a $10K yearly limit but they are guaranteed to outpace inflation (currently 3.5%). You also are locked up for one year and have to surrender 3 months interest if liquidating before 3 years.\\n\\nGold & Silver:.  \\nboth have intrinsic value and neither seems like it's in any sort of a bubble. I personally like PSLV and have about 5% of my portfolio in it.\\n\\nTAIL or another similar ETF:.  \\nRather than keeping bonds I like the idea of using a Black swan hedge. TAIL buys out of the money puts worth 1% of their assets every month. And then invest the rest of their cash in government securities. The idea is most months the fun loses a little bit of money, but if the market crashes, this ETF will Spike and you can take cash from the spike to reinvest in your other positions while there are at a low.\", 'Sell (covered) calls', \"just keep depositing it regularly. nothing you can do about the market. it will go up and it will go down. best thing to do is just be consistent and dont try outsmart it\\n\\nif you feel you can't tolerate the risk of a crash consider upping your % in bonds\", 'Admit that I’ve thought that for 15 years and leave my money in the market because I’ve been wrong for like 13 of the last 15 years.', 'I would do nothing. Time in the market beats timing the market.', 'Keep dollar cost averaging', 'Find solid dividend stocks and put it in there for now. Tobacco ones are the some of the last undervalued things out there because people don’t like tobacco', 'Dude, the market hits new record highs pretty much every freaking year.  \\n\\nTime in the market beats timing the market.', \"Invest in index funds. And strong companies that know how to keep their doors open. The entire history of the market is positive. It always recovered from a crash.\\n\\nThe only way the market wouldn't recover from a crash is if something happened where money didn't matter anymore. In which case...it won't matter.\", 'It’s ok to sell and go cash for a while you aren’t going to lose to inflation if you back off for 6 months. I sold everything in Oct 2019 and put it into Amex savings. 5 months later Covid hit and I bought the bottom and 15x my cash. There are always deals in the market even now if you look hard enough. This market has had some nice sell offs every few months I wouldn’t be shocked to see one soon.', '[deleted]', '\"Many measures like average PE ratio, Buffet Indicator, earnings growth etc. are indicating this\"\\n\\nI also read this on this sub in  2016, 2017, 2018, 2019, 2020 and now 2021. There will be corrections, there will be more considerable drawdowns, but pointing to various ratios and at random times proclaiming \"I think this point is too much...wait no this point is too much (market goes up more), wait no how about now?\" has not had good results for more than half a decade on here (and when the market does go down, near the bottom many on here have been certain the market is going much lower.) Rarely is there ever discussion of a catalyst for things to change in the near-term, it\\'s just \"look at the shiller p/e!\" at random points along the way.\\n\\nI\\'d say look at managed futures if you really don\\'t want to be in the market, but given the nature of alt strategies, expense ratios are higher.', 'We are on pace for a trillion in capital inflows into this country for 2021. This will put a lid on inflation fears as the dollar is firming. The world wants our financial assets. Americans sell assets to foreigners and turn around and buy more financial assets. Banks are sitting on record deposits with which they are buying securities rather than issuing loans. Look at the budget deficit- trillions in stimulus. The market is not overvalued. Collateral values are rising, real yields at -1%. This is where you need to read some financial history, not some silly valuation textbook. SP to 4400 and beyond UNTIL bank loan losses pick up or a fed policy mistake.', 'Stop trying to be clever and just leave your money in the market. How many times does it need to be said: you cannot successfully time the market. \\n\\nJust keep your cash in and buy it down when the opportunity presents itself.', 'Pay off debt', 'This is not a binary \"in/out\" decision.  You can look at the risks and adjust your asset allocation without it being a big roll of the dice.', 'I would remain invested but keep some ammo in case of a correction', 'Buy SPY puts.', 'My strategy is that I put my money in stocks that will keep going up even if the market tanks/corrects.', 'Buy gold or silver', 'Sell calls', 'Some stocks are massively overvalued while some are not. Just look at the graph man. If that shit doubled or tripled in 2020 don’t buy it lol if it did something reasonable or climbed just back to or slightly above pre pandemic levels than consider buying. That’s my strategy', 'Sell cash secured puts on companies or ETFs you want to own. Sell them at like 40 delta monthlies. If you get assigned, you get it at a discount. If the stock goes up, you make money on the premium.\\n\\nBetter than sitting in cash looking at P/E and how near 0% rates effect discounted cash flow.\\n\\nYou can also hedge stocks with some BTC, TLT, and cash.', 'I actually think that. I would invest in not so popular companies with lower p/e ratio, possibly from growing markets in Europe and Asia. Basically the less known company the better.', 'Check Reddit from 6 months ago with the same question lol', \"If I would consider doing a move everytime I'd start overthinking, then my profits would probably be a quarter and my losses tripled.\\n\\nI'm good. Before I start preparing every year for doom, as it's announced, I'll just wait and in worst case scenario wait a couple of months or years until it recovered while continuing to invest.\\n\\nMaybe buy a bunch of puts among the way but same point, it will only really make you money if a crash happens and in most other cases odds are against you. So just buy puts dated out for 2 years. And then also for 2023 when rates increase.\", '1) Sell covered calls on stock positions to soften the blow if any drop. 2) keep dry powered to invest on dips', 'Wait for the downturn and buy puts.', \"A lot of these guys are talking out there ass bro.  Investing is gambling.  Pure and simple.  You are gambling on humans essential and their business.  As a human  could be a jackass at anymore or most of them this is what I suggest.  You save jt in a low interest return.  Save as much as you can and if you are into investing.  Long term.  Look 20-25 years.  Now, with the money you save.  You don't invest that, no no no my sir.  You wait.  Until there is a market crash.  Invest low and sell high yes? Well high is whenever you need money really.  February when the market shittered.  I went in a made 18% last year.  Is it millions no.  Will I lose some years yes.  But the general idea is I'm thinking 25 years down the road.   With 10% of your capital you can gamble with shorter stocks.  It would be just as good as going to a poker tournament and waiting for the good hands and play the cards not the players.  Or black jack.  You definitely have better odds at black jack.\", 'The answer would be to write covered calls in order to collect premium. Allows some upside, offers downside protection, and you are all set.', 'hedge with gold, bonds, blue chip crypto, and I personally put some money into a consumer staples etf due to rising prices with inflation', 'Invest in a company with deep fucking value', \"I am sitting on about 30% cash. The rest is invested using StockRover value recommendations. When the dip happens, and it will. I'm buying.\", 'I do think this is true. But if you look at historical data, valuation is very slow to correct. This makes it very difficult to build an active strategy that can take advantage of this knowledge to enhance returns or reduce risks relative to buy and hold strategy in a stock/bond portfolio. \\n\\nBut if you do place very high faith in valuation signals, then you should not restrict yourself to just looking at US stocks and bonds. Go buy assets with really low valuation - if you can stomach investing in Russia, Turkey, etc.', \"I'd park money in a 2020 target date fund, like FHATX.\", 'Spend it', 'Buy GME, negative beta', '2Q earnings are about to blow estimates out of the water. Will help with valuations. Also, all this money sloshing around has to go somewhere…with inflation worries starting to subside I see stocks grinding higher the remainder of the year. Just don’t get spooked when we see a 5-10% correction as we are somewhat overdue for one', 'Buy value stocks and potential multibaggers with good catalysts incoming', \"Best investing strategy:\\n\\n1. Invest\\n\\n2. Set up automatic dollar-cost-averaging\\n\\n3. Retire\\n\\nIf you were confident in your long-term portfolio a couple of months ago, should just stick with it now. Buy and hold for retirement, play around with stocks with only a small amount of cash you're willing to lose if it comes to that.\", 'I am converting my traditional 401k to a bitcoin 401k. Ask me if it was worth it in 30 years.', 'Consider a small allocation to Bitcoin.  Am amount you could lose and be alright with losing. It’s still in the early innings.', \"I buy even more $SPY.\\n\\nStop thinking you're smarter than the market (which is everyone) bruh.\", \"Go to cheaper markets. I'm not an index investors but I would choose VWO over VOO at the moment without any hesitation.\\n\\nBut what I am doing right now is buying individual names outside of US-- in EM in particular.\", 'I don’t understand how people can have this much information put before them and still fail to understand the data.\\n\\nYes, stay in cash and *lose* money to inflation. Are you not listening to yourself? \\n\\nMeanwhile, we’ll see you at Dow 60,000.', 'It is EXTREMELY overvalued as of yesterday', 'I would (and am) stay in cash and buy on dips.', '[deleted]', 'Slowly rotate to Crypto since its all up and up on that end just follow that stock rule....buy super cheap, sell high.  Gov treats ot like property so less worries on capital gains tax.... but my 2 cents. Cheers!', 'It depends on how much capital you have available to invest. If you’re talking about a few thousand dollars, then I would look for value stocks or keep a chunk in cash waiting to buy on a dip. Selling pets and covered calls is also a good income strategy as others have pointed out.\\n\\nIf you have a significant chunk to invest, then you can look at investment properties to fix up and use as a rental. Long-term rental income properties give appreciation and tax benefits. Buying a fixer-upper (if you’re willing to do the work) gives you upside in a hot market.', '[removed]', 'We are just reopening and the market is taking off. If you think otherwise sit on cash and wait for the crash.', \"Either put in the work to find the specific parts of the broader market that are undervalued relative to the rest, or park it in an index fund and ride it out.\\n\\nEither way, I don't see a reason to pull money out of the market.\", \"There are always people who think the market is due for a crash. Sometimes they're right, but usually they're wrong (myself included). I'd stay mostly invested at all times.\", 'I would continue to invest as normal, like any smart investor.', 'If I actually knew. I mean being certain, than I would park it in short term bonds. Business or 3rd grade bonds. Just to sit it out while cashing in some small returns.\\nBut hey, who actually knows?', \"Hedge. Domestic stocks, foreign stocks, hard assets to limit downside potential. The only thing I wouldn't suggest is bonds because they are essentially reward free risk at these values. And most important don't panic sell. Continue to buy into dips even if those dips last years.\", '>What would you do with your money if you think that the stock market is currently highly overvalued and you expect the mid-term returns to be low if not negative?\\n\\nBuy stocks that are just starting to move up after doing nothing for a long period of time (which is what I always do anyways).\\n\\nExamples: STXS, UUUU', 'Sell strangles', \"There are some very successful professional fund managers that keep a considerable portion of their portfolio in cash. In a bull market, like this one, they will underperform their peers who go all in. But in lean times, when bargains are to be had, they thrive. If you think you'll have the stomach to invest when a bear market comes, then hold cash. Plenty of serious, successful people do it.\", 'The overall market may be high but some sectors and companies are not so much. The reopening stocks for example have been coming down a lot- in part due to the delta variant. You might be able to find some value there.\\n\\nPersonally though I don’t care if it’s expensive. I just care if it goes up or down.', 'If you’re sure, short the market.', 'stay invested with some put hedge based on your risk appetite. currency devaluation is literally melting everything away. with that said, S&P might be still undervalued.', 'Choose safer and more stable coins for asset! i believe, every normal platform must have a trusted team, as BIFROST does.', \"It comes down to my goals. I have near-term goals, so I am apprehensive of going all in on stocks, at the same time don't want to lose out on returns. So I have 40-50% in stocks and etfs (mix of growth and value), 30% in cash, and I keep 20% for option trading - primarily sell puts and wheel out if assigned. This way, a part of my cash is fully out, part of it is fully in stocks and I get to poke the market here and there with puts based on short term trends.\", 'Invest in antique Rolex and hockey jerseys.', \"If you are afraid of prices falling then you won't be losing anything to inflation.\", \"I'm a ride or die type. Seriously, I just try to diversify a lot and then ride it out hopefully.\", 'I would put 10% in any VIX variation and hope for the “worst”. I would also look to buy commodities.', 'Ammo to resell? FIIK', 'Sell ITM JAN 2022 CALLS  Leaps on stocks I legit like.', 'PM and the Miners.  Market valuations are high like you said.  Real interest rates are negative and don’t look to go positive anytime in the near future.  Most alternative asset classes are high also like real estate.', \"Keep investing regularly. If you *started* investing on Black Friday, the top of the market in 2000, the top in 2008, etc., and kept going through the downturn, you'll eventually end up doing well because you build inventory quicker on the way down and capture all of the gains on the way up. I remember reading something about Black Friday where even though the market index didn't eclipse its previous high until 30 years later, someone who invested regularly the whole time would have $1.5M.\\n\\nThe market has always gone up because humans have consistently made incremental progress. That doesn't always have to be the case, but it has been so far. When you choose to not invest, you're going against that idea in a way.\", \"It's not possible to know that, so I wouldn't change anything.\", 'Shyg', 'Time in market over timing the market\\n\\nJust stay invested in companies you believe in, if it does crash buy more', 'Keep averaging in and don’t fuck it up by thinking too hard', \"I wouldn't do anything different, because there are lots of times I think the market will go down and I'm wrong. But given the scenario you provided, maybe buy some out of the money puts as insurance against the market tanking.\", 'Lol the threads like this are almost comical now.', 'Min beta, min vol, short market, get shitty yield on short term bonds, sell options', 'I mean define over valued.', \"I dont follow that crap. Its all about balance sheet imo. If a company has alot of cash and isn't burning money faster than their growth they are undervalued\", 'Nothing', 'Make sure I’m in good stocks, mutual funds, and ETFs and dollar cost average like normal. Time in the market is better than timing the marker. It’s a cliche for a reason. Just limit your exposure to speculative and meme stocks so you don’t blow up your account.', 'Time in the market > Timing the market.', \"Well yes assets are up across the board because the money supply is so high due to low interest rates. Even Magic Cards have been going bananas for a few years.\\n\\nWhatever you do, just don't bet the farm on your thesis being correct. You don't need to go full cash if you think the market is overvalued, you can go 1/4 cash. This confuses a lot of new investors because they think they should be maximally committed to their thesis, but you need to learn to think in terms of risk and uncertainty.\", 'I’d keep doing exactly what I’m doing right now because I’d know that trying to forecast the market is a good way to lose all of my money.', 'Have a good split in your portfolio between growth and defensive. There are still some great undervalued stocks out there. Big Tech is not leaving any time soon. Do your DD and reduce your risky entries if it really bothers you.', '[removed]', \"Covered calls or short put if I'm expecting neutral to mild activity.\", 'There is a middle ground. Divide you cash into chunks, and invest each chunk per week. So the effect of Dollar Averaging would mostly help you during down turns.', \"If you are a US citizen, you can purchase up to $10,000 of I-series bonds and up to $10,000 of EE-series bonds per year.\\n\\n&#x200B;\\n\\nI-series bonds pay a fixed rate on top of an inflation adjusted rate.  The inflation adjusted rate is calculated on a six month basis.  They currently yield 3.53% apy and have a 30 year duration.  The interest you accrue is tax deferred meaning you can wait until you sell the bond to pay taxes on the interest.  You can elect to receive your federal tax refund in I-series bonds, and this does not count against the $10,000 purchase limit.\\n\\n&#x200B;\\n\\nEE-series bonds pay a fixed rate.  After 20 years, the bond value is adjusted to double what you paid when you purchased it.  The fixed rate is only 0.10%, but if you hold for 20 years, the value doubles which works out to 3.53% APY.  The bonds continue to earn interest after 20 years at a rate set by the US Treasury.  The interest is tax deferred just like I-series bonds.\\n\\n&#x200B;\\n\\nBoth types of bonds are pretty simple to buy.  You make an account on the treasurydirect website, link a bank account, and schedule the purchase.  You redeem the bonds by selling them on the treasurydirect website and the money is deposited into your linked bank account.  The I-series bonds from federal tax returns are paper bonds which you redeem at any bank.\\n\\n&#x200B;\\n\\nNote that these are bonds, not treasuries, so their value does not fluctuate based on market conditions.  If you bought us treasuries, and the interest rate goes up, the amount you can sell your treasury for goes down unless you hold it for the full duration.  If you purchase a bond, and the interest rate goes up, you can redeem it for the amount you paid plus any interest that accrued.  There is an early withdrawl penalty for I-series and EE-series bonds but it is only a few months interest that you lose.  You can pull your full investment out at any time with no penalty.  Redeeming your EE-series bond before 20 years can be brutal as you would only collect the 0.10% apy instead of the cumulative 3.53% that is realized at 20 years upon doubling.\\n\\n&#x200B;\\n\\nMy personal strategy for investing on a \\\\~75k gross income:\\n\\nMax 401k pre tax ($19.5k)\\n\\nNON40OXEA (Vanguard 2055 target date blended retirement fund, 0.05% expense ratio)\\n\\nMax Roth IRA after tax ($6k)\\n\\n60% FZROX (Fidelity total market US equities fund, 0% expense ratio)\\n\\n30% FZILX (Fidelity total market international equities fund, 0% expense ratio)\\n\\n10% FXNAX (Fidelity US bonds fund, 0.025% expense ratio)\\n\\nMax I-Bonds after tax ($10k)\\n\\nTake federal tax return in I-Bonds (\\\\~$2k)\\n\\nTry really hard to buy $833.33 of EE-series bonds each month with leftover money ($10k)\\n\\n&#x200B;\\n\\nI plan to retire at 40, live off the I-Bonds until 50, live off the EE-bonds until 60, then live like a filthy rich multimillionaire old geezer off the 401k and IRA.  If social security still exists I'm using it to hire a maid and a chauffeur.\", 'I just read UNSHAKABLE by Tony Robbins, Chapter 2. That’s all you have to do.', 'I have converted my cash into stablecoin and earning high interest in crypto accounts.', '[removed]', 'I’d schedule it.  25% every 2 weeks for the next two months.', \"The benefit of DCAing is you are buying when the market is low making a nice profit, so just DCA and you'll end up buying at the right time.  No need to worry about it if you're saving for retirement.  A month long dip tomorrow is a drop in the bucket in the grand scheme of decades of investing.\", \"I'd go to crypto and create a staking ladder of time deposit contracts with HEX and earn 20-40% or more in APY\", \"So a few things to keep in mind:\\n\\nWhen do you need the Money?  \\n\\nLess than 1 Year?  -- Cash out what you're going to need\\n\\n1-3 Years?  -- Again Cash out, but I'd just cash out maybe 50% of what you think you're going to need, and invest in some more stable companies over the high growth / high reward types.\\n\\nIf More than 3-5 years?  --Keep it invested, and ride the wave, and keep investing regularly.  The market trend is always up, remember over any given 20 year period, the market has always been up.\", 'DCA', \"I'd buy something that inverses what I think will go down\", 'Everyone here is recommending DCA', 'Sell otm puts', 'You can’t time the market. I agree that stocks are currently overvalued, and I’m sure there will be a correction at some point. But I have no idea when. If you’re that concerned about it, concentrate on stocks with solid PE ratios.', 'Buy Put options', 'Buy vix options. It moves inversely with stock market.', \"I'd keep putting my money in the market and earn negative returns.\", \"Low to negative returns would benefit from covered calls.\\n\\nQYLD yields 10% each year. The downside is that it can't increase more than this (if Nasdaq rises 50% you only make 10%) and you take all the downside risk.\\n\\nPlus side is you make 10% even if stocks don't move a cent.\", \"I don't really care. I have my plan and I'm sticking to it. Even if the short to mid term returns are negative, Im not trying to make a quick buck, I'm trying to build a big portfolio that is going to give me good returns long term.\", 'The issue is more currency devaluation, I’m surprised people haven’t realised that. What’s more likely, housing, lumber, oil, cars, stocks and inflation in general all shoot up, or the currency they are valued in falls, because half of it in existence came to be in a one year period? Stocks aren’t particularly overvalued when measured against prevailing interest rates, people just aren’t accustomed to over a decade of near zero, what is collapsing is major currencies.', 'Sit on some dry powder. If/when the asset price bubble bursts you’ll want to buy in on the way down.\\n\\nInflation will hit your cash, but try to think about what it would do to your other assets and balance accordingly.', 'Prices are high everywhere, inflation is here, it’s either invest in something (equities, real estate, Pokémon cards) or watch your monies depreciate.', \"Embrace the crash. It's an opportunity if you're in accumulation mode.\\n\\n1. Prepare for tax loss harvesting. Have you set up your individual lots? Do you know how you'd clean up your portfolio with non substantially similar funds?\\n\\n2. Do you have allocation and rebalancing rules established? Are your non equities your emergency fund or are you using 'dry powder'?\", 'Wow these answers are all terrible. Shift from growth to value is the correct answer here....', \"If you aren't retiring soon you just keep buying through the downturn. Duh.\", 'Can the question be reduced to \"How can I time the market\"?', 'I had a friend that saved 300k working in the Alberta oil sands as an engineer for 3-4 years (rented with multiple people, worked lots of overtime), came back to Toronto and said housing is too expensive, going to wait until it crashes. This was in 2010.\\n\\nSince then the price kept rising, he kept insisting it’ll crash and waited. Even now in 2021, he’s still renting. \\n\\nSure, he’s still got his 300k cash, maybe a bit more through investments, but if he bought a home in 2010, he would have tripled it by now.\\n\\nIf you’re hoping for a crash, you might be waiting a very long time. Governments are incentivized to keep things stable.', 'If you think stock prices are high and want to protect against inflation then an option is to buy precious metals or commodities.', 'The second half of your paragraph explains the first half of your paragraph and the premise of your post.', \"$SWAN\\n\\nYou'll see modest returns if the market counties up, but also modest losses if it shits the bed. I use it to insulate from sudden market moves so I can decide what to buy in the dip.\\n\\nAs an example, SWAN dipped 8% during covid whereas the sp500 dipped close to 30% in the same time. It is an interesting ETF. Currently have 80% of my money in it for the reasons you mentioned. After a correction/PE ratio reckoning I plan on getting into LETFs\", '[removed]', \"What does overvalued even mean in terms of stock prices?  It's not as if a share of a company has any actual value unless it's paying a dividend, which most don't.  The whole idea that the market is overpriced is an odd one to me.  Stock are like anything else...they're worth what people are willing to pay.\", \"There are several ways to answer this question. One thing to note is that it's impossible to know the future. So everyone is guessing here.\\n\\nMy advice: spread it out. Leave some cash for interesting opportunities.\\n- Maybe real estate is an option\\n- Stocks/bonds (ETF's or individual) are invaluable.\\n- Maybe some gold?\\n- Maybe some crypto?\\n\\nIn general though, stay where you think you know what you're doing. Do it with money you can miss for extended duration, and do it in asset classes where you think they'll keep on existing even after all the dust is settled after the next (whatever it is) crash.\\n\\nI am personally spread out between individual stocks, some ETF's and some crypto, but to each its own.\", 'You could cash out of your positions and stake the money as USDC at BlockFi. The value of USDC will always equal a US dollar and they pay you about 6-8% interest', 'I’ve been asking myself the same thing since last April O_o', 'I am a relatively new investor. I am also sort of lazy with this DD shit. I was on the sidelines because I also thought that things were too high. I lost a ton of return on my cash because it was sitting at the bank waiting for the \"crash.\" I am investing every pay period now. I stopped trying to time shit. I don\\'t know what is going on; I am not a politician.', 'Put your money in and leave it in long term. Anything else is gambling, not investing.', 'PE ratio of the Sp500 is still quite low compared with that of 2000 and 2008 pre-crashes according to data that I had access to. Did you see it very high comparatively? Could you cite the numbers in your comparisons?', \"i find these kind of question pointless. don't get me wrong, it's nothing to do with OP. this is a natural question most people who are new to investing will ask \\n\\nthe psychology always goes:\\n\\nbull market = bubble + imminent crash \\nbear market = holy fuck this is the end of us\\n\\njust stick to the long term and keep doing dollar coast averaging. less mental work and more rewards at the end.\", 'Remember to never time the markets and invest for the long term', 'Here is what I think works well.  When the market is up like this focus on improving your cash flow.  Reduce your expenses, reduce credit card debt and build up some cash making sure you are prepared for a financial shock.  You want to be in a position where you are not scared during a correction knowing you have the funds to get through the downturn.  Then when the correction happens you can take advantage of the lower prices. For example, during the dotcom bust I went from putting in 6% of my paycheck into my 401k to contributing the max thus taking advantage market drop.  The second thing you want to do is have a list of companies that you are going to put that additional money into.  And as others have said continue to invest as we do not know when that correction will come.', \"In my take, the best way is to adjust your asset allocation based on your risk preference. This can range from 100% cash to 100%+ equity. I would agree that based on current conditions, going all in on equity may not be the most optimal decision. Personally, i'm about 80/20, growth to fixed income. \\n\\nThe second (our of many dimensions) is the duration of your risk reducing / fixed income assets. If you believe rates are going to rise, then lower the duration and vice versa. Overall, we've had some of the largest steepening in the yield curve so i'm not as sure rates will continue climbing and as such leaning into duration a bit.\\n\\nThere are other dimensions to consider related to equity geography and market cap, credit spread exposure, diversifiers (such as REITs, Infrastructure). Being able to understand these factors and size them appropriately is more challenging and requires more advanced knowledge of financial markets.\", 'I’d still invest\\n\\nThat’s far better than watching my purchasing power being eaten by inflation', 'Take PE ratio with a grain of salt. It\\'s not the complete picture of \"stock value\", it doesn\\'t work as the best value indicator for every sector.\\n\\nWithin a sector or between several companies that do the same business it can be a quick way to figure out which is the better value. However comparing the PE ratio of a tech stock to that of a consumer goods stock isn\\'t useful.\\n\\nGoodhart\\'s Law is a great heuristic to use when using metrics for making decisions: \"When a metric becomes a target, it ceases to be a good metric\"\\n\\nThat captures the fact that people and corporations adapt to the KPI and often find ways to tweak the number without a real impactful change in the underlying business or process.\\n\\nFigure you\\'re trying to sum up a complex adaptive system (company) within a complex adaptive system (economy) with one number. You need a lot more than that to get the full view.', 'DCA', 'Crypto', 'To quote, I believe, *Jaws*...just keep swimming...', 'Keep my money invested in a diversified portfolio of financially sound and good performing companies. And when the market drops, which it will at some point, buy more. Rise and repeat until retirement.', \"If everything is overpriced like you said (houses, cars, paintings, stocks), then it's not really overpriced is it?\", 'DM me, I am making a 10% per month return on my cash.', 'I’d just do nothing', 'Put it in anyway because what if I’m wrong?', 'Wtf, who words a title like that?', \"I'd man up and invest in the stock market and quit complaining.\", \"Like others said, time in the market beats timing the market.\\nHowever, since the coming months look uncertain, I wouldn't go all in. I would partially invest every week/month so you have a better chance to seize opportunities (to enter after a dip or to average down)\\nI would personally allocate a portion to crypto as well, now/the coming weeks is a great time to enter\", 'Rent an office space with enclosed cubicles in Eastern Europe, like Moldova or something.\\n\\nEach cubicle gets a couch and a webcam.  \\n\\nHire developer to make an interface to stream to all the cam sites\\n\\nHire girls and give them a small cut.\\n\\nEssentially be a webcam pimp.', 'Buy certificates instead of stocks', 'I dont think so', 'Time in the market beats timing the market.', \"One thing I'm looking at now is active management. \\n\\nBuT yOU CaNt BeAT tHE inDeX\\n\\nYou can, it's just rarely worth it between time/worrying/fees (and, you know, actually not beating the market). However in this stage of the market where everything is propped up by the fed and is so disconnected from its value, I'm comfortable handing off 1/3rd of my funds to someone who can invest dynamically through the upcoming turmoil. Will reassess in a year.\", 'I don’t think it’s a foregone conclusion that the market is overvalued. If you look at the SP500 ex the top 5 tech companies, it’s actually a PE in line with other markets, in the low 20s (Doubleline Capital recently covered this in one of their YouTube webcasts).\\n\\nIt’s really the big US mega cap tech companies which are massively tilting the SP500 PE upwards. And FWIW, I think those top 5 businesses are a steal. They make mega bucks with strong growth and huge monopolies, mostly for mid 30s PE.\\n\\nI’m fully invested and honestly haven’t felt this confident about the market in the last 3-4 years. We’ve kind of ran headfirst into almost all the major risks, and gone through it now with all the monetary and fiscal policy faucets being opened wide.', 'RemindMe! 2 Years', 'Hold current positions, and add more', 'Continue investing as normal', 'Whats with all these dumbass what if the sky is falling posts on the financial subreddits today?', 'I actually have a crystal ball and its not going to pop until 2029. \\n\\nand we enter a prolonged bear session for 10+ years after that.', \"I DONT FUCKIN CARE  \\nI INVEST FOR YEARS TO COME   \\nI won't sell anything before at least 2030\", 'Gme is the best hedge'], 'Economy': '', 'shortinterestbets': '', 'thetagang': '', 'Pennystocks': ['\\nDoes this submission fit our subreddit? If it does please **upvote** this comment. If it does not fit the subreddit please **downvote** this comment.\\n\\n\\n\\n---\\n\\n^(*I am a bot, and this comment was made automatically.*) ^(Please) [^(contact)^( )^(us)^( )^(via)^( )^(modmail)](https://www.reddit.com/message/compose?to=/r/pennystocks&subject=Updoot%20bot%20questions!) \\n^(if) ^(you) ^(have) ^(any) ^(questions) ^(or) ^(concerns.)', \"There's decent short term potential on this simply based on the rise of LWLG over the last few weeks. Similar industry/tech.\", 'Pardon my lack of knowledge/research, but does anyone happen to know how much correlation, if any, this company has with Lightwave Logic? Both have moved nicely in recent sessions. Thanks in advance!'], 'InvestingRetards': [], 'wallstreetbet': '', 'wallstreetbetsoptions': '', 'econmonitor': '', 'Wallstreetwarrior': [], 'StockMarket': '', 'Dividends': ['maybe it is supposed to pay out weakly.', '0.5% expense ratio and net assets are under $10 million (i.e. no liquidity) \\n\\nthis is more of a marketing gimmick to extract fees from people that like the idea of a \"weekly paycheck\" than reliable ETF in my opinion', 'Welcome to r/dividends!\\n\\nIf you are new to the world of dividend investing and are seeking advice, brokerage information, recommendations, and more, please check out the Wiki [here](https://www.reddit.com/r/dividends/wiki/faq).\\n\\nPlease direct all simple questions and \"Rate my Portfolio\" requests towards the Weekly Discussion Threads (sort by hot, they\\'re at the top).  Posts that contain solicitations for [due diligence](https://www.investopedia.com/terms/d/duediligence.asp) will be removed.\\n\\nRemember, this is a subreddit for genuine, high-quality discussion.  Please keep all contributions civil, and report uncivil behavior for moderator review.  \\ncomment_stickied: true\\n\\n*I am a bot, and this action was performed automatically. Please [contact the moderators of this subreddit](/message/compose/?to=/r/dividends) if you have any questions or concerns.*'], 'wallstreetbets2': [\"Buy hcmc it's about free today\"], 'Trading': ['Go look at 1995. Just look\\nImagine the how the bears felt.\\n\\nI’ve felt like you for the last 10 years. Being right isn’t going to make us any money… only price does. I’d be retired if I really understood this ten years ago.'], 'WSBAfterHours': ['Brrrrrrrrrrr', 'Another pump and dump advertised by bag holders so they can dip as soon as you buy.'], 'smallstreetbets': ['Join the r/smallstreetbets official Discord here - https://discord.gg/E27dUNUwfx\\n\\n*I am a bot, and this action was performed automatically. Please [contact the moderators of this subreddit](/message/compose/?to=/r/smallstreetbets) if you have any questions or concerns.*', '$POWW just crushed earnings, all blue sky and not a dark cloud in sight', 'Looking at $WISH of course\\n$BARK will be on the lookout for me\\n$PSFE news today\\n$ATOS', 'You guys see bsqr and MRIN', 'Hearing MedMen MMNFF is starting to get pumped on wallstreetbets… anyone see this?', 'Watching $AMC and buying $WKHS today.', \"For me, I'm sitting in a holding pattern on AMC and MMAT waiting for both to squeeze. Not much I can do besides wait at this point.\", 'Anyone have a compelling reason MRIN could surpass its $14 PT this week? Thought about dumpIng it when it hit its target but it’s riding well this early in the week.', 'What broker you guys use?', 'Lets go $COWI', \"Holy fuck.... I bought 650 calls on POWW Monday and I don't know WHAT THE FUCK TO DO.\\n\\nI have NEVER had returns like this before.... all signs point to this thing skyrocketing tomorrow.  I have no fucking idea how much money 650 calls are going to turn into, but I know it is a fuck of a lot....\\n\\nSomehow I know I am going to FUCK THIS UP because I am an idiot.....\", \"time to sell everything 🌊🌊🌊🐜\\U0001f9a8\\U0001f9a8\\nDon't be the sucker money\"], 'retardbets': ['Hello everyone', 'This sub sucks ass man', \"Maybe they really banned me because they don't want you watching Trigun https://old.reddit.com/r/wallstreetbets/comments/m8pntp/weekend_discussion_thread_for_the_weekend_of/grmbnnm/?context=3\", 'SPY 420 4/20 gonna print!'], 'finance': '', 'InvestmentClub': '', 'stocks': '', 'IndianStreetBets': '', 'wallstreetsidebets': '', 'Stock_Picks': ['Welcome to /r/Stock_Picks, the sub to discuss your most recent picks and predictions, share advice, and ask investing related questions! Please be sure to check out the sidebar for the rules and also be sure to check out our Monthly Stock Picking Contest stickied at the top of the sub! Entries taken till mid-month, results posted on the 1st of the following month.\\n\\n\\n*I am a bot, and this action was performed automatically. Please [contact the moderators of this subreddit](/message/compose/?to=/r/Stock_Picks) if you have any questions or concerns.*', 'Very tempting. Appears to be a recent listing of a start up, to which I would be concerned about an insider sell off once the lock up period ends.', \"I'm loving EV stocks this year.\\n\\nIm in 🚀\", 'You saying this is a good short-term or long-term investment?', 'https://www.arkansasonline.com/news/2021/jun/28/rock-region-metro-buy-its-first-battery-electric-b/ another 5 busses! Waiting on the proterra pr post! #lfg'], 'baystreetbets': '', 'ameisenstrassenwetten': ['Bei langen Sachen würde ich immer Optionsscheine nehmen... Was anderes gibt es ja leider nicht.\\n\\nKnockouts eigen sich ja eigentlich nur für schnelle steigende Kurse und hält man über kurzen Zeitraum. \\n\\n Faktor Zertifikat für noch kürzere Zeiträume. Da macht dir das Känguru chart von Amazon sowieso alles kaputt.\\n\\nAlternativ kannst du auch einfach die Aktie kaufen :)', 'Zur Suche bei der ING gehe ich immer über die Webseite https://wertpapiere.ing.de/DE/showpage.aspx?pageID=60&search=derivative\\nDann ISIN/WKN in die App'], 'wallstreetbets_': [], 'ISKbets': ['Ja. Jag tycker det är bra att använda flera konton för att skilja på olika sparande - pension, barnspar, lambon osv.', 'Öppnade ett gäng sparkonto+ just för att kunna lägga undan lite buffert efter MOASS.', 'Japp. Insättningsgaranti för varje enskilt konto.\\nEdit: där har jag fel! Det är såklart insättningsgaranti per bank och person. Inte per konto och person', 'Varför vill du göra det? Samma bank, samma villkor'], 'quantfinance': '', 'stonks': '', 'GlobalMarkets': '', 'Investing': ['**Hi, welcome to /r/investing. Please note that as a topic focused subreddit we have higher posting standards than much of Reddit:**\\n\\n**1)** Please direct all **advice requests and beginner questions to the stickied daily threads.** This includes beginner questions and portfolio help.\\n\\n**2) Important: We have strict political posting guidelines** (described [here](https://www.reddit.com/r/investing/comments/cyee69/formal_posting_guidelines_for_political_topics/) and [here](https://www.reddit.com/r/investing/comments/escewo/temporary_rule_change_what_happens_to_stocks_if/)). Violations will result in a likely 60 day ban upon **first instance.**\\n\\n**3)** This is an open forum but we expect you to conduct yourself like an adult. Disagree, argue, criticize, but **no personal attacks.**\\n\\n\\n*I am a bot, and this action was performed automatically. Please [contact the moderators of this subreddit](/message/compose/?to=/r/investing) if you have any questions or concerns.*', 'Having been through multiple up and down cycles, I have found it best to just stick with my plan.  Maintain my portfolio allocations that I have chosen.\\n\\nThe times I tried to time the market to invest a windfall, I sat on the cash for too long and came out behind if I had just dumped it in.\\n\\nIf you have a regular contribution, just keep doing it.', 'Sit around confused whilst losing to inflation 🤷🏼\\u200d♂️', 'This reads exactly like a post from 2020. Or 2019. Or 2017. Or\\n 2015. I think people were even screaming overvalued for the current cycle even back in ~2013-2014ish', 'I would hold and History would agree', 'Maybe if everything is overvalued it’s actually the currency that has lost value. That’s my thought. Would be more concerned about inflation and supply chains.', \"While everything is at all time highs and feels overvalued I think when you look at the bigger picture it really isn't.\\n\\nIf it was just stocks, I would think it's a bubble. But it's literally crypto, real estate, commodities. Just about every asset class is taking off. There's so much cash in the economy, and no one wants to hold it as cash or buy a bond or annuity that could fail to outpace inflation. I think as long as the FED keeps printing money and keeping interest rates low we're going to continue to see assets trade higher.\\n\\nSo I wouldn't want to hold a lot of cash or invest in things like bonds that could get beat by inflation. And if this is retirement investing that's 10 plus years out, I would stay fully invested knowing that you can't time a crash and that we will likely recover above where we are today within 10 years.\\n\\nSome Ideas if you think we are due for a crash or want to hedge against it.\\n\\nGovernment I Savings Bonds:.  \\nThere is a $10K yearly limit but they are guaranteed to outpace inflation (currently 3.5%). You also are locked up for one year and have to surrender 3 months interest if liquidating before 3 years.\\n\\nGold & Silver:.  \\nboth have intrinsic value and neither seems like it's in any sort of a bubble. I personally like PSLV and have about 5% of my portfolio in it.\\n\\nTAIL or another similar ETF:.  \\nRather than keeping bonds I like the idea of using a Black swan hedge. TAIL buys out of the money puts worth 1% of their assets every month. And then invest the rest of their cash in government securities. The idea is most months the fun loses a little bit of money, but if the market crashes, this ETF will Spike and you can take cash from the spike to reinvest in your other positions while there are at a low.\", 'Sell (covered) calls', \"just keep depositing it regularly. nothing you can do about the market. it will go up and it will go down. best thing to do is just be consistent and dont try outsmart it\\n\\nif you feel you can't tolerate the risk of a crash consider upping your % in bonds\", 'Admit that I’ve thought that for 15 years and leave my money in the market because I’ve been wrong for like 13 of the last 15 years.', 'I would do nothing. Time in the market beats timing the market.', 'Keep dollar cost averaging', 'Find solid dividend stocks and put it in there for now. Tobacco ones are the some of the last undervalued things out there because people don’t like tobacco', 'Dude, the market hits new record highs pretty much every freaking year.  \\n\\nTime in the market beats timing the market.', \"Invest in index funds. And strong companies that know how to keep their doors open. The entire history of the market is positive. It always recovered from a crash.\\n\\nThe only way the market wouldn't recover from a crash is if something happened where money didn't matter anymore. In which case...it won't matter.\", 'It’s ok to sell and go cash for a while you aren’t going to lose to inflation if you back off for 6 months. I sold everything in Oct 2019 and put it into Amex savings. 5 months later Covid hit and I bought the bottom and 15x my cash. There are always deals in the market even now if you look hard enough. This market has had some nice sell offs every few months I wouldn’t be shocked to see one soon.', '[deleted]', '\"Many measures like average PE ratio, Buffet Indicator, earnings growth etc. are indicating this\"\\n\\nI also read this on this sub in  2016, 2017, 2018, 2019, 2020 and now 2021. There will be corrections, there will be more considerable drawdowns, but pointing to various ratios and at random times proclaiming \"I think this point is too much...wait no this point is too much (market goes up more), wait no how about now?\" has not had good results for more than half a decade on here (and when the market does go down, near the bottom many on here have been certain the market is going much lower.) Rarely is there ever discussion of a catalyst for things to change in the near-term, it\\'s just \"look at the shiller p/e!\" at random points along the way.\\n\\nI\\'d say look at managed futures if you really don\\'t want to be in the market, but given the nature of alt strategies, expense ratios are higher.', 'We are on pace for a trillion in capital inflows into this country for 2021. This will put a lid on inflation fears as the dollar is firming. The world wants our financial assets. Americans sell assets to foreigners and turn around and buy more financial assets. Banks are sitting on record deposits with which they are buying securities rather than issuing loans. Look at the budget deficit- trillions in stimulus. The market is not overvalued. Collateral values are rising, real yields at -1%. This is where you need to read some financial history, not some silly valuation textbook. SP to 4400 and beyond UNTIL bank loan losses pick up or a fed policy mistake.', 'Stop trying to be clever and just leave your money in the market. How many times does it need to be said: you cannot successfully time the market. \\n\\nJust keep your cash in and buy it down when the opportunity presents itself.', 'Pay off debt', 'This is not a binary \"in/out\" decision.  You can look at the risks and adjust your asset allocation without it being a big roll of the dice.', 'I would remain invested but keep some ammo in case of a correction', 'Buy SPY puts.', 'My strategy is that I put my money in stocks that will keep going up even if the market tanks/corrects.', 'Buy gold or silver', 'Sell calls', 'Some stocks are massively overvalued while some are not. Just look at the graph man. If that shit doubled or tripled in 2020 don’t buy it lol if it did something reasonable or climbed just back to or slightly above pre pandemic levels than consider buying. That’s my strategy', 'Sell cash secured puts on companies or ETFs you want to own. Sell them at like 40 delta monthlies. If you get assigned, you get it at a discount. If the stock goes up, you make money on the premium.\\n\\nBetter than sitting in cash looking at P/E and how near 0% rates effect discounted cash flow.\\n\\nYou can also hedge stocks with some BTC, TLT, and cash.', 'I actually think that. I would invest in not so popular companies with lower p/e ratio, possibly from growing markets in Europe and Asia. Basically the less known company the better.', 'Check Reddit from 6 months ago with the same question lol', \"If I would consider doing a move everytime I'd start overthinking, then my profits would probably be a quarter and my losses tripled.\\n\\nI'm good. Before I start preparing every year for doom, as it's announced, I'll just wait and in worst case scenario wait a couple of months or years until it recovered while continuing to invest.\\n\\nMaybe buy a bunch of puts among the way but same point, it will only really make you money if a crash happens and in most other cases odds are against you. So just buy puts dated out for 2 years. And then also for 2023 when rates increase.\", '1) Sell covered calls on stock positions to soften the blow if any drop. 2) keep dry powered to invest on dips', 'Wait for the downturn and buy puts.', \"A lot of these guys are talking out there ass bro.  Investing is gambling.  Pure and simple.  You are gambling on humans essential and their business.  As a human  could be a jackass at anymore or most of them this is what I suggest.  You save jt in a low interest return.  Save as much as you can and if you are into investing.  Long term.  Look 20-25 years.  Now, with the money you save.  You don't invest that, no no no my sir.  You wait.  Until there is a market crash.  Invest low and sell high yes? Well high is whenever you need money really.  February when the market shittered.  I went in a made 18% last year.  Is it millions no.  Will I lose some years yes.  But the general idea is I'm thinking 25 years down the road.   With 10% of your capital you can gamble with shorter stocks.  It would be just as good as going to a poker tournament and waiting for the good hands and play the cards not the players.  Or black jack.  You definitely have better odds at black jack.\", 'The answer would be to write covered calls in order to collect premium. Allows some upside, offers downside protection, and you are all set.', 'hedge with gold, bonds, blue chip crypto, and I personally put some money into a consumer staples etf due to rising prices with inflation', 'Invest in a company with deep fucking value', \"I am sitting on about 30% cash. The rest is invested using StockRover value recommendations. When the dip happens, and it will. I'm buying.\", 'I do think this is true. But if you look at historical data, valuation is very slow to correct. This makes it very difficult to build an active strategy that can take advantage of this knowledge to enhance returns or reduce risks relative to buy and hold strategy in a stock/bond portfolio. \\n\\nBut if you do place very high faith in valuation signals, then you should not restrict yourself to just looking at US stocks and bonds. Go buy assets with really low valuation - if you can stomach investing in Russia, Turkey, etc.', \"I'd park money in a 2020 target date fund, like FHATX.\", 'Spend it', 'Buy GME, negative beta', '2Q earnings are about to blow estimates out of the water. Will help with valuations. Also, all this money sloshing around has to go somewhere…with inflation worries starting to subside I see stocks grinding higher the remainder of the year. Just don’t get spooked when we see a 5-10% correction as we are somewhat overdue for one', 'Buy value stocks and potential multibaggers with good catalysts incoming', \"Best investing strategy:\\n\\n1. Invest\\n\\n2. Set up automatic dollar-cost-averaging\\n\\n3. Retire\\n\\nIf you were confident in your long-term portfolio a couple of months ago, should just stick with it now. Buy and hold for retirement, play around with stocks with only a small amount of cash you're willing to lose if it comes to that.\", 'I am converting my traditional 401k to a bitcoin 401k. Ask me if it was worth it in 30 years.', 'Consider a small allocation to Bitcoin.  Am amount you could lose and be alright with losing. It’s still in the early innings.', \"I buy even more $SPY.\\n\\nStop thinking you're smarter than the market (which is everyone) bruh.\", \"Go to cheaper markets. I'm not an index investors but I would choose VWO over VOO at the moment without any hesitation.\\n\\nBut what I am doing right now is buying individual names outside of US-- in EM in particular.\", 'I don’t understand how people can have this much information put before them and still fail to understand the data.\\n\\nYes, stay in cash and *lose* money to inflation. Are you not listening to yourself? \\n\\nMeanwhile, we’ll see you at Dow 60,000.', 'It is EXTREMELY overvalued as of yesterday', 'I would (and am) stay in cash and buy on dips.', '[deleted]', 'Slowly rotate to Crypto since its all up and up on that end just follow that stock rule....buy super cheap, sell high.  Gov treats ot like property so less worries on capital gains tax.... but my 2 cents. Cheers!', 'It depends on how much capital you have available to invest. If you’re talking about a few thousand dollars, then I would look for value stocks or keep a chunk in cash waiting to buy on a dip. Selling pets and covered calls is also a good income strategy as others have pointed out.\\n\\nIf you have a significant chunk to invest, then you can look at investment properties to fix up and use as a rental. Long-term rental income properties give appreciation and tax benefits. Buying a fixer-upper (if you’re willing to do the work) gives you upside in a hot market.', '[removed]', 'We are just reopening and the market is taking off. If you think otherwise sit on cash and wait for the crash.', \"Either put in the work to find the specific parts of the broader market that are undervalued relative to the rest, or park it in an index fund and ride it out.\\n\\nEither way, I don't see a reason to pull money out of the market.\", \"There are always people who think the market is due for a crash. Sometimes they're right, but usually they're wrong (myself included). I'd stay mostly invested at all times.\", 'I would continue to invest as normal, like any smart investor.', 'If I actually knew. I mean being certain, than I would park it in short term bonds. Business or 3rd grade bonds. Just to sit it out while cashing in some small returns.\\nBut hey, who actually knows?', \"Hedge. Domestic stocks, foreign stocks, hard assets to limit downside potential. The only thing I wouldn't suggest is bonds because they are essentially reward free risk at these values. And most important don't panic sell. Continue to buy into dips even if those dips last years.\", '>What would you do with your money if you think that the stock market is currently highly overvalued and you expect the mid-term returns to be low if not negative?\\n\\nBuy stocks that are just starting to move up after doing nothing for a long period of time (which is what I always do anyways).\\n\\nExamples: STXS, UUUU', 'Sell strangles', \"There are some very successful professional fund managers that keep a considerable portion of their portfolio in cash. In a bull market, like this one, they will underperform their peers who go all in. But in lean times, when bargains are to be had, they thrive. If you think you'll have the stomach to invest when a bear market comes, then hold cash. Plenty of serious, successful people do it.\", 'The overall market may be high but some sectors and companies are not so much. The reopening stocks for example have been coming down a lot- in part due to the delta variant. You might be able to find some value there.\\n\\nPersonally though I don’t care if it’s expensive. I just care if it goes up or down.', 'If you’re sure, short the market.', 'stay invested with some put hedge based on your risk appetite. currency devaluation is literally melting everything away. with that said, S&P might be still undervalued.', 'Choose safer and more stable coins for asset! i believe, every normal platform must have a trusted team, as BIFROST does.', \"It comes down to my goals. I have near-term goals, so I am apprehensive of going all in on stocks, at the same time don't want to lose out on returns. So I have 40-50% in stocks and etfs (mix of growth and value), 30% in cash, and I keep 20% for option trading - primarily sell puts and wheel out if assigned. This way, a part of my cash is fully out, part of it is fully in stocks and I get to poke the market here and there with puts based on short term trends.\", 'Invest in antique Rolex and hockey jerseys.', \"If you are afraid of prices falling then you won't be losing anything to inflation.\", \"I'm a ride or die type. Seriously, I just try to diversify a lot and then ride it out hopefully.\", 'I would put 10% in any VIX variation and hope for the “worst”. I would also look to buy commodities.', 'Ammo to resell? FIIK', 'Sell ITM JAN 2022 CALLS  Leaps on stocks I legit like.', 'PM and the Miners.  Market valuations are high like you said.  Real interest rates are negative and don’t look to go positive anytime in the near future.  Most alternative asset classes are high also like real estate.', \"Keep investing regularly. If you *started* investing on Black Friday, the top of the market in 2000, the top in 2008, etc., and kept going through the downturn, you'll eventually end up doing well because you build inventory quicker on the way down and capture all of the gains on the way up. I remember reading something about Black Friday where even though the market index didn't eclipse its previous high until 30 years later, someone who invested regularly the whole time would have $1.5M.\\n\\nThe market has always gone up because humans have consistently made incremental progress. That doesn't always have to be the case, but it has been so far. When you choose to not invest, you're going against that idea in a way.\", \"It's not possible to know that, so I wouldn't change anything.\", 'Shyg', 'Time in market over timing the market\\n\\nJust stay invested in companies you believe in, if it does crash buy more', 'Keep averaging in and don’t fuck it up by thinking too hard', \"I wouldn't do anything different, because there are lots of times I think the market will go down and I'm wrong. But given the scenario you provided, maybe buy some out of the money puts as insurance against the market tanking.\", 'Lol the threads like this are almost comical now.', 'Min beta, min vol, short market, get shitty yield on short term bonds, sell options', 'I mean define over valued.', \"I dont follow that crap. Its all about balance sheet imo. If a company has alot of cash and isn't burning money faster than their growth they are undervalued\", 'Nothing', 'Make sure I’m in good stocks, mutual funds, and ETFs and dollar cost average like normal. Time in the market is better than timing the marker. It’s a cliche for a reason. Just limit your exposure to speculative and meme stocks so you don’t blow up your account.', 'Time in the market > Timing the market.', \"Well yes assets are up across the board because the money supply is so high due to low interest rates. Even Magic Cards have been going bananas for a few years.\\n\\nWhatever you do, just don't bet the farm on your thesis being correct. You don't need to go full cash if you think the market is overvalued, you can go 1/4 cash. This confuses a lot of new investors because they think they should be maximally committed to their thesis, but you need to learn to think in terms of risk and uncertainty.\", 'I’d keep doing exactly what I’m doing right now because I’d know that trying to forecast the market is a good way to lose all of my money.', 'Have a good split in your portfolio between growth and defensive. There are still some great undervalued stocks out there. Big Tech is not leaving any time soon. Do your DD and reduce your risky entries if it really bothers you.', '[removed]', \"Covered calls or short put if I'm expecting neutral to mild activity.\", 'There is a middle ground. Divide you cash into chunks, and invest each chunk per week. So the effect of Dollar Averaging would mostly help you during down turns.', \"If you are a US citizen, you can purchase up to $10,000 of I-series bonds and up to $10,000 of EE-series bonds per year.\\n\\n&#x200B;\\n\\nI-series bonds pay a fixed rate on top of an inflation adjusted rate.  The inflation adjusted rate is calculated on a six month basis.  They currently yield 3.53% apy and have a 30 year duration.  The interest you accrue is tax deferred meaning you can wait until you sell the bond to pay taxes on the interest.  You can elect to receive your federal tax refund in I-series bonds, and this does not count against the $10,000 purchase limit.\\n\\n&#x200B;\\n\\nEE-series bonds pay a fixed rate.  After 20 years, the bond value is adjusted to double what you paid when you purchased it.  The fixed rate is only 0.10%, but if you hold for 20 years, the value doubles which works out to 3.53% APY.  The bonds continue to earn interest after 20 years at a rate set by the US Treasury.  The interest is tax deferred just like I-series bonds.\\n\\n&#x200B;\\n\\nBoth types of bonds are pretty simple to buy.  You make an account on the treasurydirect website, link a bank account, and schedule the purchase.  You redeem the bonds by selling them on the treasurydirect website and the money is deposited into your linked bank account.  The I-series bonds from federal tax returns are paper bonds which you redeem at any bank.\\n\\n&#x200B;\\n\\nNote that these are bonds, not treasuries, so their value does not fluctuate based on market conditions.  If you bought us treasuries, and the interest rate goes up, the amount you can sell your treasury for goes down unless you hold it for the full duration.  If you purchase a bond, and the interest rate goes up, you can redeem it for the amount you paid plus any interest that accrued.  There is an early withdrawl penalty for I-series and EE-series bonds but it is only a few months interest that you lose.  You can pull your full investment out at any time with no penalty.  Redeeming your EE-series bond before 20 years can be brutal as you would only collect the 0.10% apy instead of the cumulative 3.53% that is realized at 20 years upon doubling.\\n\\n&#x200B;\\n\\nMy personal strategy for investing on a \\\\~75k gross income:\\n\\nMax 401k pre tax ($19.5k)\\n\\nNON40OXEA (Vanguard 2055 target date blended retirement fund, 0.05% expense ratio)\\n\\nMax Roth IRA after tax ($6k)\\n\\n60% FZROX (Fidelity total market US equities fund, 0% expense ratio)\\n\\n30% FZILX (Fidelity total market international equities fund, 0% expense ratio)\\n\\n10% FXNAX (Fidelity US bonds fund, 0.025% expense ratio)\\n\\nMax I-Bonds after tax ($10k)\\n\\nTake federal tax return in I-Bonds (\\\\~$2k)\\n\\nTry really hard to buy $833.33 of EE-series bonds each month with leftover money ($10k)\\n\\n&#x200B;\\n\\nI plan to retire at 40, live off the I-Bonds until 50, live off the EE-bonds until 60, then live like a filthy rich multimillionaire old geezer off the 401k and IRA.  If social security still exists I'm using it to hire a maid and a chauffeur.\", 'I just read UNSHAKABLE by Tony Robbins, Chapter 2. That’s all you have to do.', 'I have converted my cash into stablecoin and earning high interest in crypto accounts.', '[removed]', 'I’d schedule it.  25% every 2 weeks for the next two months.', \"The benefit of DCAing is you are buying when the market is low making a nice profit, so just DCA and you'll end up buying at the right time.  No need to worry about it if you're saving for retirement.  A month long dip tomorrow is a drop in the bucket in the grand scheme of decades of investing.\", \"I'd go to crypto and create a staking ladder of time deposit contracts with HEX and earn 20-40% or more in APY\", \"So a few things to keep in mind:\\n\\nWhen do you need the Money?  \\n\\nLess than 1 Year?  -- Cash out what you're going to need\\n\\n1-3 Years?  -- Again Cash out, but I'd just cash out maybe 50% of what you think you're going to need, and invest in some more stable companies over the high growth / high reward types.\\n\\nIf More than 3-5 years?  --Keep it invested, and ride the wave, and keep investing regularly.  The market trend is always up, remember over any given 20 year period, the market has always been up.\", 'DCA', \"I'd buy something that inverses what I think will go down\", 'Everyone here is recommending DCA', 'Sell otm puts', 'You can’t time the market. I agree that stocks are currently overvalued, and I’m sure there will be a correction at some point. But I have no idea when. If you’re that concerned about it, concentrate on stocks with solid PE ratios.', 'Buy Put options', 'Buy vix options. It moves inversely with stock market.', \"I'd keep putting my money in the market and earn negative returns.\", \"Low to negative returns would benefit from covered calls.\\n\\nQYLD yields 10% each year. The downside is that it can't increase more than this (if Nasdaq rises 50% you only make 10%) and you take all the downside risk.\\n\\nPlus side is you make 10% even if stocks don't move a cent.\", \"I don't really care. I have my plan and I'm sticking to it. Even if the short to mid term returns are negative, Im not trying to make a quick buck, I'm trying to build a big portfolio that is going to give me good returns long term.\", 'The issue is more currency devaluation, I’m surprised people haven’t realised that. What’s more likely, housing, lumber, oil, cars, stocks and inflation in general all shoot up, or the currency they are valued in falls, because half of it in existence came to be in a one year period? Stocks aren’t particularly overvalued when measured against prevailing interest rates, people just aren’t accustomed to over a decade of near zero, what is collapsing is major currencies.', 'Sit on some dry powder. If/when the asset price bubble bursts you’ll want to buy in on the way down.\\n\\nInflation will hit your cash, but try to think about what it would do to your other assets and balance accordingly.', 'Prices are high everywhere, inflation is here, it’s either invest in something (equities, real estate, Pokémon cards) or watch your monies depreciate.', \"Embrace the crash. It's an opportunity if you're in accumulation mode.\\n\\n1. Prepare for tax loss harvesting. Have you set up your individual lots? Do you know how you'd clean up your portfolio with non substantially similar funds?\\n\\n2. Do you have allocation and rebalancing rules established? Are your non equities your emergency fund or are you using 'dry powder'?\", 'Wow these answers are all terrible. Shift from growth to value is the correct answer here....', \"If you aren't retiring soon you just keep buying through the downturn. Duh.\", 'Can the question be reduced to \"How can I time the market\"?', 'I had a friend that saved 300k working in the Alberta oil sands as an engineer for 3-4 years (rented with multiple people, worked lots of overtime), came back to Toronto and said housing is too expensive, going to wait until it crashes. This was in 2010.\\n\\nSince then the price kept rising, he kept insisting it’ll crash and waited. Even now in 2021, he’s still renting. \\n\\nSure, he’s still got his 300k cash, maybe a bit more through investments, but if he bought a home in 2010, he would have tripled it by now.\\n\\nIf you’re hoping for a crash, you might be waiting a very long time. Governments are incentivized to keep things stable.', 'If you think stock prices are high and want to protect against inflation then an option is to buy precious metals or commodities.', 'The second half of your paragraph explains the first half of your paragraph and the premise of your post.', \"$SWAN\\n\\nYou'll see modest returns if the market counties up, but also modest losses if it shits the bed. I use it to insulate from sudden market moves so I can decide what to buy in the dip.\\n\\nAs an example, SWAN dipped 8% during covid whereas the sp500 dipped close to 30% in the same time. It is an interesting ETF. Currently have 80% of my money in it for the reasons you mentioned. After a correction/PE ratio reckoning I plan on getting into LETFs\", '[removed]', \"What does overvalued even mean in terms of stock prices?  It's not as if a share of a company has any actual value unless it's paying a dividend, which most don't.  The whole idea that the market is overpriced is an odd one to me.  Stock are like anything else...they're worth what people are willing to pay.\", \"There are several ways to answer this question. One thing to note is that it's impossible to know the future. So everyone is guessing here.\\n\\nMy advice: spread it out. Leave some cash for interesting opportunities.\\n- Maybe real estate is an option\\n- Stocks/bonds (ETF's or individual) are invaluable.\\n- Maybe some gold?\\n- Maybe some crypto?\\n\\nIn general though, stay where you think you know what you're doing. Do it with money you can miss for extended duration, and do it in asset classes where you think they'll keep on existing even after all the dust is settled after the next (whatever it is) crash.\\n\\nI am personally spread out between individual stocks, some ETF's and some crypto, but to each its own.\", 'You could cash out of your positions and stake the money as USDC at BlockFi. The value of USDC will always equal a US dollar and they pay you about 6-8% interest', 'I’ve been asking myself the same thing since last April O_o', 'I am a relatively new investor. I am also sort of lazy with this DD shit. I was on the sidelines because I also thought that things were too high. I lost a ton of return on my cash because it was sitting at the bank waiting for the \"crash.\" I am investing every pay period now. I stopped trying to time shit. I don\\'t know what is going on; I am not a politician.', 'Put your money in and leave it in long term. Anything else is gambling, not investing.', 'PE ratio of the Sp500 is still quite low compared with that of 2000 and 2008 pre-crashes according to data that I had access to. Did you see it very high comparatively? Could you cite the numbers in your comparisons?', \"i find these kind of question pointless. don't get me wrong, it's nothing to do with OP. this is a natural question most people who are new to investing will ask \\n\\nthe psychology always goes:\\n\\nbull market = bubble + imminent crash \\nbear market = holy fuck this is the end of us\\n\\njust stick to the long term and keep doing dollar coast averaging. less mental work and more rewards at the end.\", 'Remember to never time the markets and invest for the long term', 'Here is what I think works well.  When the market is up like this focus on improving your cash flow.  Reduce your expenses, reduce credit card debt and build up some cash making sure you are prepared for a financial shock.  You want to be in a position where you are not scared during a correction knowing you have the funds to get through the downturn.  Then when the correction happens you can take advantage of the lower prices. For example, during the dotcom bust I went from putting in 6% of my paycheck into my 401k to contributing the max thus taking advantage market drop.  The second thing you want to do is have a list of companies that you are going to put that additional money into.  And as others have said continue to invest as we do not know when that correction will come.', \"In my take, the best way is to adjust your asset allocation based on your risk preference. This can range from 100% cash to 100%+ equity. I would agree that based on current conditions, going all in on equity may not be the most optimal decision. Personally, i'm about 80/20, growth to fixed income. \\n\\nThe second (our of many dimensions) is the duration of your risk reducing / fixed income assets. If you believe rates are going to rise, then lower the duration and vice versa. Overall, we've had some of the largest steepening in the yield curve so i'm not as sure rates will continue climbing and as such leaning into duration a bit.\\n\\nThere are other dimensions to consider related to equity geography and market cap, credit spread exposure, diversifiers (such as REITs, Infrastructure). Being able to understand these factors and size them appropriately is more challenging and requires more advanced knowledge of financial markets.\", 'I’d still invest\\n\\nThat’s far better than watching my purchasing power being eaten by inflation', 'Take PE ratio with a grain of salt. It\\'s not the complete picture of \"stock value\", it doesn\\'t work as the best value indicator for every sector.\\n\\nWithin a sector or between several companies that do the same business it can be a quick way to figure out which is the better value. However comparing the PE ratio of a tech stock to that of a consumer goods stock isn\\'t useful.\\n\\nGoodhart\\'s Law is a great heuristic to use when using metrics for making decisions: \"When a metric becomes a target, it ceases to be a good metric\"\\n\\nThat captures the fact that people and corporations adapt to the KPI and often find ways to tweak the number without a real impactful change in the underlying business or process.\\n\\nFigure you\\'re trying to sum up a complex adaptive system (company) within a complex adaptive system (economy) with one number. You need a lot more than that to get the full view.', 'DCA', 'Crypto', 'To quote, I believe, *Jaws*...just keep swimming...', 'Keep my money invested in a diversified portfolio of financially sound and good performing companies. And when the market drops, which it will at some point, buy more. Rise and repeat until retirement.', \"If everything is overpriced like you said (houses, cars, paintings, stocks), then it's not really overpriced is it?\", 'DM me, I am making a 10% per month return on my cash.', 'I’d just do nothing', 'Put it in anyway because what if I’m wrong?', 'Wtf, who words a title like that?', \"I reduced but haven't stopped weekly contribution to cheap index funds and put more money in liquid funds. I look at 3 things. Expensive ratio, historic returns and the graphs to see how the particular fund did when markets tanked in march 2020, liquid funds didn't dip during that period so probably won't if market dips now.\", \"I'd man up and invest in the stock market and quit complaining.\", \"Like others said, time in the market beats timing the market.\\nHowever, since the coming months look uncertain, I wouldn't go all in. I would partially invest every week/month so you have a better chance to seize opportunities (to enter after a dip or to average down)\\nI would personally allocate a portion to crypto as well, now/the coming weeks is a great time to enter\", 'Rent an office space with enclosed cubicles in Eastern Europe, like Moldova or something.\\n\\nEach cubicle gets a couch and a webcam.  \\n\\nHire developer to make an interface to stream to all the cam sites\\n\\nHire girls and give them a small cut.\\n\\nEssentially be a webcam pimp.', 'Buy certificates instead of stocks', 'I dont think so', 'Time in the market beats timing the market.', \"One thing I'm looking at now is active management. \\n\\nBuT yOU CaNt BeAT tHE inDeX\\n\\nYou can, it's just rarely worth it between time/worrying/fees (and, you know, actually not beating the market). However in this stage of the market where everything is propped up by the fed and is so disconnected from its value, I'm comfortable handing off 1/3rd of my funds to someone who can invest dynamically through the upcoming turmoil. Will reassess in a year.\", 'I don’t think it’s a foregone conclusion that the market is overvalued. If you look at the SP500 ex the top 5 tech companies, it’s actually a PE in line with other markets, in the low 20s (Doubleline Capital recently covered this in one of their YouTube webcasts).\\n\\nIt’s really the big US mega cap tech companies which are massively tilting the SP500 PE upwards. And FWIW, I think those top 5 businesses are a steal. They make mega bucks with strong growth and huge monopolies, mostly for mid 30s PE.\\n\\nI’m fully invested and honestly haven’t felt this confident about the market in the last 3-4 years. We’ve kind of ran headfirst into almost all the major risks, and gone through it now with all the monetary and fiscal policy faucets being opened wide.', 'RemindMe! 2 Years', 'Hold current positions, and add more', 'Continue investing as normal', 'Whats with all these dumbass what if the sky is falling posts on the financial subreddits today?', 'I actually have a crystal ball and its not going to pop until 2029. \\n\\nand we enter a prolonged bear session for 10+ years after that.', \"I DONT FUCKIN CARE  \\nI INVEST FOR YEARS TO COME   \\nI won't sell anything before at least 2030\", 'Gme is the best hedge'], 'Daytrading': ['Following thread', \"Hml and ask me anything. I'm no expert but I make money so thats pretty good I guess.\"], 'WallStreetbetsELITE': ['Christ dude. Everything that it’s not AMC and GME is not a pump and dump.', 'And where is your backing? Please, shut the fuck up if you just pop in and make a post with no actual DD or research to back up. I know a few friends who made a good amount of CLOV and WISH that turned those profits back over to AMC. The market is about making money. And this page isn\\'t just a \"hOdL gUyS lOl ToO tHe MoOn!\" It\\'s getting more annoying with that shit lately.\\n\\nHell, Bed Bath and Beyond is up 25% today. Should have jumped on that.', 'Next thing you know he’s gonna say buy silver.', 'False', 'Thirth post about the same and no sahring a single source... Looks exactly like the fools who were posting the same about AMC distracción from GME months ago, now a Lot of people regret missing the rocket', 'FACTS', \"Apes are stronger together! We know that and they (HF, Shills) know that. Dividing the apes is their only hope at this point. I'm sure most of us have many other stocks but when it comes to apehood. Buy, Hold and hype AMC/GME, we are here because we all love those stocks and want to see them succeed. If they succeed we succeed. There is money to be made everywhere but as apes we need to focus and stay together. Let's finish these journeys before spreading out to others. Not financial advise but this is the way. 🦍❤️\\U0001f9a7💎🚀\", 'Id argue AMC was a pump and dump.\\n\\nBut the people holding AMC are HODL like true diamond hands.\\n\\nIts held 50+ for awhile.', 'AMC and GME only Way....many many people getting distracted with this other bullshit.', '$CLOV factually speaking is ranked #1 in Fintel’s Short Squeeze Screener & they’re not giving it that short squeeze risk rate baselessly. So no not all are dead cats, unless you willingly want to believe whatever the voice inside your head is telling you. https://fintel.io/shortSqueeze', 'Bailed out on NAKD 3 months back   Put into GME', 'Buy and hold. AMC', 'Buy calls then sell 4 days later. Buy puts then sell. Make profit. Put back in GME', 'Lmfao trch was a merger shorts are forced to cover because of a merger', \"And if we mention this on the main sub, we'll get down voted to hell.\", 'Is that Kenny’s love child?!?  WTH. I am in 1000 shares on each name including AMC and GME. He’s like the guy who goes to the casino and sits on two slot machines all day hoping to win another top line jackpot. Don’t play two machines play 10!!', \"it's interesting how you can always determine what generation of wsb a person is based on their nomenclature, e.g., the use of ape and proclivity towards amc/gme. If you're a real one then you remember martin's biotech picks and amd back in 2016\", \"NAKD and SNDL aren't pumps n dumps. You can see what stocks ripped in afterhours around the 7-9th of june. Those are the pump n dumps, the real distractions. Stocks like WEN, CLOV, CLNE and WISH.   \\n\\n\\nThe SHFs still have a short position in NAKD and SNDL. It isn't as large or as naked as AMC, KOSS, EXPR and the chosen one, GME. They still hate NAKD and SNDL.\", 'WKHS🚀 I LIKE IT', 'What about UTHR?', 'Stop distracting me with distractions FUCK'], 'RobinHoodPennyStocks': '', 'DayTrading': ['Following thread', \"Hml and ask me anything. I'm no expert but I make money so thats pretty good I guess.\"], 'CanadianInvestor': [], 'pennystocks': ['\\nDoes this submission fit our subreddit? If it does please **upvote** this comment. If it does not fit the subreddit please **downvote** this comment.\\n\\n\\n\\n---\\n\\n^(*I am a bot, and this comment was made automatically.*) ^(Please) [^(contact)^( )^(us)^( )^(via)^( )^(modmail)](https://www.reddit.com/message/compose?to=/r/pennystocks&subject=Updoot%20bot%20questions!) \\n^(if) ^(you) ^(have) ^(any) ^(questions) ^(or) ^(concerns.)', \"There's decent short term potential on this simply based on the rise of LWLG over the last few weeks. Similar industry/tech.\", 'Pardon my lack of knowledge/research, but does anyone happen to know how much correlation, if any, this company has with Lightwave Logic? Both have moved nicely in recent sessions. Thanks in advance!'], 'Options': ['Implied Volatility.  Since Tesla swings so hard, options prices usually lag behind.  If it stays where it is in a fairly flat manner now you will see the price of the put drop pretty heavily.', 'Implied volatility increased? Or bid ask spread is wide', 'I posted a screenshot in a previous post at r/Plus500'], 'AlgoTrading': ['I found ib_insync the easiest to get started with and should do what you need.', 'A lot of people on this sub and related subs, including me, use ib_insync, programmed by Ewald de Wit. It is popular because it is programmed at a high professional level, it is FOSS, and it is very inclusive. \\n\\nib_insync has a decent support forum, found at https://groups.io/g/insync\\n\\nTo evaluate it, you need to look at his documentation, starting with https://rawgit.com/erdewit/ib_insync/master/docs/html/index.html on GitHub. To see what is included that you can use, evaluate the segment titled \"API docs.\" Also look at some of the examples under the \"Notebooks\" title.\\n\\nYou probably already know that this is NOT a Restful API - there is a bit of a learning curve (made more complicated by the fact that not everything is covered by the documentation) and it helps if you are a fairly competent Python programmer.\\n\\nThe one downside is that if de Wit loses interest or gets hit by a bus, OR if IBKR stops support for their own traditional API, you may eventually face the reality that your interface, built with hours and hours of coding, may stop working anymore.\\n\\nGood luck in your choice.', 'ib\\\\_insync\\n\\nTakes a bit of getting used to. It has everything you can possibly want and more plus the asyncio lib used throughout is just amazing for live systems.'], 'MoonBets': ['🚀 🌑  -- Join our discord!! https://discord.gg/jcewXNmf6C -- 🚀 🌑\\n\\n*I am a bot, and this action was performed automatically. Please [contact the moderators of this subreddit](/message/compose/?to=/r/MoonBets) if you have any questions or concerns.*', \"I don't have a crypto bet this week. I play crypto long dick style. I keep stocking up on Stellar Lumens. They will go to $10 in the next 3 years.\"], 'algorithmictrading': ['Yes, this is needed. \\n\\nEspecially the low/no code piece.', 'Too general. Focus on one tool which many have developed with Python language.  Most made claims but have little data to share.', 'This sounds a lot like Ayrro. How will you be better than an already live and entrenched company?', 'How is this different from a ton of other companies?', \"To say I'm interested is an understatement. Would you be able to call my API, maybe with a ticker symbol which returns true / false, true for buy/hold and false for sell/no-position? Basically is it possible to add a custom / 3rd party qualification? \\n\\nI'd like to continue to focus on what I'm doing, trying to predict prices, it would be fantastic if I could use your platform for managing portfolios / positions and executing trades?\"], 'farialimabets': '', 'Wallstreetsilver': '', 'wallstreetbets': ['\\n**User Report**| | | |\\n:--|:--|:--|:--\\n**Total Submissions**|1|**First Seen In WSB**|15 seconds ago\\n**Total Comments**|0|**Previous DD**|\\n**Account Age**|5 months|[^scan ^comment ](https://www.reddit.com/message/compose/?to=VisualMod&subject=scan_comment&message=Replace%20this%20text%20with%20a%20comment%20ID%20(which%20looks%20like%20*h26cq3k*)%20to%20have%20the%20bot%20scan%20your%20comment%20and%20correct%20your%20first%20seen%20date.)|[^scan ^submission ](https://www.reddit.com/message/compose/?to=VisualMod&subject=scan_submission&message=Replace%20this%20text%20with%20a%20submission%20ID%20(which%20looks%20like%20*h26cq3k*)%20to%20have%20the%20bot%20scan%20your%20submission%20and%20correct%20your%20first%20seen%20date.)', 'WISH LFG 🚀🚀🚀 holding these shorts🙌💎', 'WISH is my long term play. I also have options expiring 7/16 and 10/16. Let’s GOOOOO', 'Wish is a multibagger at this level.. just buy and hold .. don’t get distracted by the noise.', 'Keep holding fellas 💎', '“The stock market is a device to take money from retards and give to slightly less retards” - Barren Wuffet', 'Wish to the moon lets make it possible apes wish at 17 eod', 'Search WISH on wsb and upvote every bull thread!!!', 'You have over a million dollars on robinhood? Why? No, really, why? You know the reputation they have right?', 'Fake account. Literally first post ever.', 'This wish thing doesn’t make any sense to me', \"I'm so happy I got out of this shit.\", 'You wish lolol', '[removed]', 'Let’s go!'], 'Cryptocurrency': '', 'UKInvesting': ['Check out the section on American Depository Shares (which is what Oatly are: https://investors.oatly.com/static-files/4d70ce1e-ff99-4141-b943-30eb32215b98):\\n\\nhttps://www.gov.uk/guidance/stocks-and-shares-investments-for-isa-managers#deprecAmer\\n\\nEdit: in short, you’re not buying shares in Oatly, you’re buying ADSs so don’t have beneficial ownership (JP Morgan do), so because you aren’t buying the shares directly they don’t qualify. I’d imagine that’s their argument.\\n\\n2nd edit: from the above investor’s document:\\n\\n“As an ADS holder, we will not treat you as one of our shareholders. The depositary, JPMorgan Chase Bank, N.A., will be the holder of the ordinary shares underlying your ADSs. You will have rights as provided in the deposit agreement among us, the depositary and all holders and beneficial owners of ADSs thereunder.”\\n\\nFrom the HMRC page:\\n\\n“American depositary shares are dollar denominated and each share represents one or more underlying shares in the foreign corporation. An American depositary receipt is a physical certificate evidencing ownership in one or several American depositary shares. *The terms are often used interchangeably*.\\n\\nWhere a depository receipt is issued outside the UK *the question of whether the holder of the depository receipt is the beneficial owner of the underlying investment(s) will be determined by reference to the law of the territory in which the depository receipt is issued. Information on beneficial ownership may be provided to investors by the depository. Where the relevant law means that the holder of a depository receipt is not the beneficial owner of the underlying investment(s), the depository receipt cannot be a qualifying investment that can be held in a stocks and shares ISA*.”', \"I seem to be able to purchase oatly on freetrade? Only ones I have had issue with is some Chinese stocks. But that's a bit weird on restrictions too, can purchase baba but not like TME\", 'I can buy Oatly in my ISA with Freetrade', 'You should be able to put any international stock traded on a HMRC recognised exchange into an ISA. The list is here: [https://www.gov.uk/government/publications/recognised-stock-exchanges-section-1005-income-tax-act-2007/shorter-tables#united-states-of-america](https://www.gov.uk/government/publications/recognised-stock-exchanges-section-1005-income-tax-act-2007/shorter-tables#united-states-of-america)\\n\\nOatly trades on the NASDAQ Global Select exchange which is recognised by HMRC so not sure why iWeb is not permitting it in an ISA', 'It’s the same with Taiwan Semiconductor and HL', 'It isn’t ISA rules stopping you here, I’m not sure why they told you it is, you likely got a rep that doesn’t know what they’re talking about.', 'From what I understand some stocks have to meet a investor safety threshold and not be lent out to others or something? There are a few stocks (noteably Chinese) that I can’t invest in on my trading 212 ISA. I think I asked about it on the trading212 forum', 'Have you filled in the tax declaration form that US requires oe been asked to - maybe thats why you cant buy them?', \"Can I just use this opportunity to mention Oatly are placing an injunction on a local british farmer for brand infringement  relating to oat milk. I was looking at purchasing shares as I am dairy intolerant and like the products, but I will be boycotting them from now on.\\n\\nhttps://www.veganfoodandliving.com/news/oatly-sues-glebe-farm-over-trademark/\\n\\nSo you may wish to consider if you are an ethical investor. In fact I'd rather buy shares in Lockheed Martin and BAE systems than Oatly after seeing this.\\n\\nSorry a little off topic.\\n\\nMy broker app insists I fill in a W8-BEN form before I can purchase US stocks. If that helps at all?\", \"Not answering your question, but iWeb are overpriced for stocks denominated in currencies other than sterling.\\n\\nMost people can afford to invest in single stocks outside their ISA anyway - if you invest £10,000 and double your money, you're still under the annual capital gains limit.\\n\\nI use Fineco Bank for foreign stocks - they charge about the same as iWeb for trades, but they're much cheaper for currency exchange; you can also hold foreign currencies in your account, and I have a euro-denominated debit card with them.\", \"Not answering your question, but iWeb are overpriced for stocks denominated in currencies other than sterling. Well, it's their exchange rates that are extortionate, and they charge them both ways.\\n\\nMost people can afford to invest in single stocks outside their ISA anyway - if you invest £10,000 and double your money, you're still under the annual capital gains limit.\\n\\nI use Fineco Bank for foreign stocks - they charge about the same as iWeb for trades, but they're much cheaper for currency exchange; you can also hold foreign currencies in your account, and I have a euro-denominated debit card with them.\", \"I think they're spinning you a story.  I can add Oatly to my ISA on IG.\", \"I was just as lost on this. Tried to buy some TX through my ISA with IG a couple months back and couldn't, but can through a regular share dealing account. It's an ADR listed on NYSE so I've got no clue.\", \"I had the same thing with NIO. I wasn't allowed that in an ISA. Could have in other accounts though\"], 'ausstocks': ['Where is your money going! Kids are 18+', \"Open to high risk? Then you're in the wrong sub, move over to r/ASX_Bets\\n\\nSee you on the moon 🚀 🌖 ⭐️\", 'ETF and stick with it, if you want to invest passively.\\n\\nOnce you learn enough about the market and how cash-secured-puts work. Start putting in small amounts on that side.\\n\\nPS: pay off the mortgage.', 'Depends what the interest rate on the mortgage is and if you think you can surpass that amount in the market. At this current stage your tenants are basically paying off your mortgage. Personally I’d either pay off mortgage or set it aside as an emergency fund if you haven’t already got a sizeable emergency fund', 'Keep on building the savings in your offset/savings account and dump the cash savings in the investment loan when you are ready to start living in the property?', \"Financial adviser here and this is what I would do:\\n\\nThe reason why you would pay off your investment loan is to have a debt free asset with income. If that is your goal, pay down the loan but to me, it doesn't make sense when interest rates are at record low. If the house is in your name and the interest rate is 3% p.a., the effective loan interest rate based on your MTR is 1.9%\\n\\nYou are much better off for the next 4 years investing in shares and after 4 years, selling those shares and paying down the mortgage because the loan is then non-deductible.\"], 'WallStreetBets': ['\\n**User Report**| | | |\\n:--|:--|:--|:--\\n**Total Submissions**|1|**First Seen In WSB**|15 seconds ago\\n**Total Comments**|0|**Previous DD**|\\n**Account Age**|5 months|[^scan ^comment ](https://www.reddit.com/message/compose/?to=VisualMod&subject=scan_comment&message=Replace%20this%20text%20with%20a%20comment%20ID%20(which%20looks%20like%20*h26cq3k*)%20to%20have%20the%20bot%20scan%20your%20comment%20and%20correct%20your%20first%20seen%20date.)|[^scan ^submission ](https://www.reddit.com/message/compose/?to=VisualMod&subject=scan_submission&message=Replace%20this%20text%20with%20a%20submission%20ID%20(which%20looks%20like%20*h26cq3k*)%20to%20have%20the%20bot%20scan%20your%20submission%20and%20correct%20your%20first%20seen%20date.)', 'WISH LFG 🚀🚀🚀 holding these shorts🙌💎', 'WISH is my long term play. I also have options expiring 7/16 and 10/16. Let’s GOOOOO', 'Wish is a multibagger at this level.. just buy and hold .. don’t get distracted by the noise.', 'Keep holding fellas 💎', '“The stock market is a device to take money from retards and give to slightly less retards” - Barren Wuffet', 'Wish to the moon lets make it possible apes wish at 17 eod', 'You have over a million dollars on robinhood? Why? No, really, why? You know the reputation they have right?', 'Search WISH on wsb and upvote every bull thread!!!', 'Fake account. Literally first post ever.', 'This wish thing doesn’t make any sense to me', \"I'm so happy I got out of this shit.\", 'You wish lolol', '[removed]', 'Let’s go!'], 'dividends': ['None of the real brokerages charge for trades so dump robinhood', 'Different stocks pay at different time frame. Google each stock and you can see when they pay out, quite a few pay out monthly and I think there are a few specialty stocks that pay weekly. \\n\\nTo get paid the dividend you need to own the stock before the ex-dividend date so again its different with each stock all the time so google each stock to find its next ex-dividend date.', 'Welcome to r/dividends!\\n\\nIf you are new to the world of dividend investing and are seeking advice, brokerage information, recommendations, and more, please check out the Wiki [here](https://www.reddit.com/r/dividends/wiki/faq).\\n\\nPlease direct all simple questions and \"Rate my Portfolio\" requests towards the Weekly Discussion Threads (sort by hot, they\\'re at the top).  Posts that contain solicitations for [due diligence](https://www.investopedia.com/terms/d/duediligence.asp) will be removed.\\n\\nRemember, this is a subreddit for genuine, high-quality discussion.  Please keep all contributions civil, and report uncivil behavior for moderator review.  \\ncomment_stickied: true\\n\\n*I am a bot, and this action was performed automatically. Please [contact the moderators of this subreddit](/message/compose/?to=/r/dividends) if you have any questions or concerns.*', 'Fidelity is easy to open an account and doesn\\'t charge for trades.  That\\'s probably true for most of the brokerages.  \\n\\nThere are many stocks, REITS and funds that pay monthly, but there is little benefit to the more frequent payment schedule other than you get a little rush more frequently.  That doesn\\'t compare to the surprise of an unexpected $4 grand appearing from an annual payer though.\\n\\nDividend payers have four key dates, in MY personal order of importance.  The *ex-date*, the date it becomes too late to get the current period\\'s declared dividend.  The *payment date,* the date the cash hits your account.  The *date of record*, the day you have to show owning the stock on the companies books (this always seems to be the day after the ex-date due to posting times) and the *declaration date*, which is when the company board of directors choose the amount and the other dates.  \\n\\nYou can curate a list of stocks or funds that interest you, do your due diligence and look up those dates with a simple google search of the ticker you want  **ticker dividend history.**  For example \"T dividend history\" will give you several sites that will give you the dates and payouts for AT&T.', \"Until you understand a lot of these questions, I'd highly recommend that you not invest any additional capital. This is not trying to be rude, more....these questions are equities 101 and if you don't fully understand these, you are going to get your head taken off by the market eventually.\", \"Read the WIKI and FAQ. Then look at the following books: http://www.mhinvest.com/files/pdf/SBI\\\\_Single\\\\_Best\\\\_Investment\\\\_Miller.pdf  \\n Stocks for the Long Run, and The Future For Investors, both by Jeremy   \\nSiegel; Dividends Still Don't Lie, by Kelley Wright, and The Ultimate   \\nDividend Playbook, by Josh Peters. (for the process, not recommendations  \\n for actual stocks to buy today)\", \">I do use Robinhood I know it's a taboo but I can't really afford to pay for trades. Any suggestion on a better app to use?\\n\\nMy suggestion is to look at Fidelity. They don't charge for trades and they have excellent customer service.\", 'A few if the REITs pay monthly.  Realty Income Corp (NYSE: $O) comes to mind.\\n\\nr/barnaclestocks']}\n"
          ],
          "name": "stdout"
        }
      ]
    },
    {
      "cell_type": "markdown",
      "metadata": {
        "id": "sygK-NO6Cb0N"
      },
      "source": [
        "Normalize data in dictionary and ready for NN processing\n",
        "Emojis, lowercases, punctuations, html, links"
      ]
    },
    {
      "cell_type": "code",
      "metadata": {
        "id": "05b7vHWqc0XA"
      },
      "source": [
        "import re, string, unicodedata\n",
        "import nltk\n",
        "import inflect\n",
        "from nltk.corpus import stopwords\n",
        "from nltk.stem import LancasterStemmer, WordNetLemmatizer"
      ],
      "execution_count": null,
      "outputs": []
    },
    {
      "cell_type": "code",
      "metadata": {
        "id": "32eb4goFeUXG"
      },
      "source": [
        "def replace_contractions(text):\n",
        "    \"\"\"Replace contractions in string of text\"\"\"\n",
        "    return contractions.fix(text)\n",
        "\n",
        "def remove_URL(sample):\n",
        "    \"\"\"Remove URLs from a sample string\"\"\"\n",
        "    return re.sub(r\"http\\S+\", '', str(sample))\n",
        "\n",
        "def remove_non_ascii(words):\n",
        "    \"\"\"Remove non-ASCII characters from list of tokenized words\"\"\"\n",
        "    new_words = []\n",
        "    for word in words:\n",
        "        new_word = unicodedata.normalize('NFKD', word).encode('ascii', 'ignore').decode('utf-8', 'ignore')\n",
        "        new_words.append(new_word)\n",
        "    return new_words\n",
        "\n",
        "def to_lowercase(words):\n",
        "    \"\"\"Convert all characters to lowercase from list of tokenized words\"\"\"\n",
        "    new_words = []\n",
        "    for word in words:\n",
        "        new_word = word.lower()\n",
        "        new_words.append(new_word)\n",
        "    return new_words\n",
        "\n",
        "def remove_punctuation(words):\n",
        "    \"\"\"Remove punctuation from list of tokenized words\"\"\"\n",
        "    new_words = []\n",
        "    for word in words:\n",
        "        new_word = re.sub(r'[^\\w\\s]', '', word)\n",
        "        new_word = re.sub(r'\\n', '', word)\n",
        "        if new_word != '':\n",
        "            new_words.append(new_word)\n",
        "    return new_words\n",
        "\n",
        "def replace_numbers(words):\n",
        "    \"\"\"Replace all interger occurrences in list of tokenized words with textual representation\"\"\"\n",
        "    p = inflect.engine()\n",
        "    new_words = []\n",
        "    for word in words:\n",
        "        if word.isdigit():\n",
        "            new_word = p.number_to_words(word)\n",
        "            new_words.append(new_word)\n",
        "        else:\n",
        "            new_words.append(word)\n",
        "    return new_words\n",
        "\n",
        "def stem_words(words):\n",
        "    \"\"\"Stem words in list of tokenized words\"\"\"\n",
        "    stemmer = LancasterStemmer()\n",
        "    stems = []\n",
        "    for word in words:\n",
        "        stem = stemmer.stem(word)\n",
        "        stems.append(stem)\n",
        "    return stems\n",
        "\n",
        "def lemmatize_verbs(words):\n",
        "    \"\"\"Lemmatize verbs in list of tokenized words\"\"\"\n",
        "    lemmatizer = WordNetLemmatizer()\n",
        "    lemmas = []\n",
        "    for word in words:\n",
        "        lemma = lemmatizer.lemmatize(word, pos='v')\n",
        "        lemmas.append(lemma)\n",
        "    return lemmas"
      ],
      "execution_count": null,
      "outputs": []
    },
    {
      "cell_type": "code",
      "metadata": {
        "id": "6IpXuCSjSZQk"
      },
      "source": [
        "#lists of slang\n",
        "\n",
        "reddit_ = [\n",
        "                  'hodl',\n",
        "                  'HODL',\n",
        "                  'citron',  \n",
        "                  'hidenburg',        \n",
        "                  'moon',\n",
        "                  'highs',\n",
        "                  'mooning',\n",
        "                  'long',\n",
        "                  'short',\n",
        "                  'call',\n",
        "                  'calls',    \n",
        "                  'put',\n",
        "                  'puts',    \n",
        "                  'break',\n",
        "                  'tendie',\n",
        "                  'tendies',\n",
        "                  'town',     \n",
        "                  'overvalued',\n",
        "                  'undervalued',\n",
        "                  'buy',\n",
        "                  'sell',\n",
        "                  'gone',\n",
        "                  'gtfo',\n",
        "                  'paper',\n",
        "                  'bullish',\n",
        "                  'bearish',\n",
        "                  'bagholder',\n",
        "                  'stonk',\n",
        "                  'green',\n",
        "                  'money',\n",
        "                  'print',\n",
        "                  'rocket',\n",
        "                  'bull',\n",
        "                  'bear',\n",
        "                  'pumping',\n",
        "                  'sus',\n",
        "                  'offering',\n",
        "                  'rip',\n",
        "                  'downgrade',\n",
        "                  'upgrade',     \n",
        "                  'maintain',          \n",
        "                  'pump',\n",
        "                  'hot',\n",
        "                  'drop',\n",
        "                  'rebound',  \n",
        "                  'crack'\n",
        "              ]"
      ],
      "execution_count": null,
      "outputs": []
    },
    {
      "cell_type": "code",
      "metadata": {
        "id": "jIlfT4liCh9Z"
      },
      "source": [
        "def normalize(posts):\n",
        "  for key in list(posts):\n",
        "      if posts[key] == [] or 'bot' in posts[key] :\n",
        "        posts.pop(key)\n",
        "        continue\n",
        "\n",
        "      posts[key] = remove_non_ascii(posts[key])\n",
        "      posts[key] = to_lowercase(posts[key])\n",
        "      posts[key] = remove_punctuation(posts[key])\n",
        "      posts[key] = replace_numbers(posts[key])\n",
        "      posts[key] = remove_URL(posts[key])\n"
      ],
      "execution_count": null,
      "outputs": []
    },
    {
      "cell_type": "code",
      "metadata": {
        "colab": {
          "base_uri": "https://localhost:8080/"
        },
        "id": "TfeDeBHfzdyB",
        "outputId": "0085e8e0-5039-4398-ac12-9b7321ea67d2"
      },
      "source": [
        "#put data into csv to see it\n",
        "normalize(posts)\n",
        "for key, value in posts.items():\n",
        "    print(key, ' : ', value)"
      ],
      "execution_count": null,
      "outputs": [
        {
          "output_type": "stream",
          "text": [
            "PennystocksDD  :  ['with the bitcoin practicing skydiving, bitcoin stocks are going nowhere']\n",
            "PennyStocks  :  ['does this submission fit our subreddit? if it does please **upvote** this comment. if it does not fit the subreddit please **downvote** this comment.---^(*i am a bot, and this comment was made automatically.*) ^(please) [^(contact)^( )^(us)^( )^(via)^( )^(modmail)]( ^(if) ^(you) ^(have) ^(any) ^(questions) ^(or) ^(concerns.)', \"there's decent short term potential on this simply based on the rise of lwlg over the last few weeks. similar industry/tech.\", 'pardon my lack of knowledge/research, but does anyone happen to know how much correlation, if any, this company has with lightwave logic? both have moved nicely in recent sessions. thanks in advance!']\n",
            "algotrading  :  ['i found ib_insync the easiest to get started with and should do what you need.', 'a lot of people on this sub and related subs, including me, use ib_insync, programmed by ewald de wit. it is popular because it is programmed at a high professional level, it is foss, and it is very inclusive. ib_insync has a decent support forum, found at  evaluate it, you need to look at his documentation, starting with  on github. to see what is included that you can use, evaluate the segment titled \"api docs.\" also look at some of the examples under the \"notebooks\" title.you probably already know that this is not a restful api - there is a bit of a learning curve (made more complicated by the fact that not everything is covered by the documentation) and it helps if you are a fairly competent python programmer.the one downside is that if de wit loses interest or gets hit by a bus, or if ibkr stops support for their own traditional api, you may eventually face the reality that your interface, built with hours and hours of coding, may stop working anymore.good luck in your choice.', 'ib\\\\_insynctakes a bit of getting used to. it has everything you can possibly want and more plus the asyncio lib used throughout is just amazing for live systems.']\n",
            "quant  :  ['you could try implementing a kalman filter', 'a great step would be creating a black-scholes model for pricing options.', 'you gotta get your guap up and run with your algos. the next level is implementation but if you can spin it north then sharpe money will flip up', \"there's a useful book modelling derivatives in c++ with lots of examples of code. i found it quite useful for getting ideas for translating some of the quantitative topics into working code. that is if you're looking at futures and/or options and if by risk analysis you mean greeks.\", 'you can price an american option using monte carlo']\n",
            "investing  :  ['**hi, welcome to /r/investing. please note that as a topic focused subreddit we have higher posting standards than much of reddit:****1)** please direct all **advice requests and beginner questions to the stickied daily threads.** this includes beginner questions and portfolio help.**2) important: we have strict political posting guidelines** (described [here]( and [here]( violations will result in a likely 60 day ban upon **first instance.****3)** this is an open forum but we expect you to conduct yourself like an adult. disagree, argue, criticize, but **no personal attacks.***i am a bot, and this action was performed automatically. please [contact the moderators of this subreddit](/message/compose/?to=/r/investing) if you have any questions or concerns.*', 'having been through multiple up and down cycles, i have found it best to just stick with my plan.  maintain my portfolio allocations that i have chosen.the times i tried to time the market to invest a windfall, i sat on the cash for too long and came out behind if i had just dumped it in.if you have a regular contribution, just keep doing it.', 'sit around confused whilst losing to inflation ', 'this reads exactly like a post from 2020. or 2019. or 2017. or 2015. i think people were even screaming overvalued for the current cycle even back in ~2013-2014ish', 'i would hold and history would agree', 'maybe if everything is overvalued its actually the currency that has lost value. thats my thought. would be more concerned about inflation and supply chains.', \"while everything is at all time highs and feels overvalued i think when you look at the bigger picture it really isn't.if it was just stocks, i would think it's a bubble. but it's literally crypto, real estate, commodities. just about every asset class is taking off. there's so much cash in the economy, and no one wants to hold it as cash or buy a bond or annuity that could fail to outpace inflation. i think as long as the fed keeps printing money and keeping interest rates low we're going to continue to see assets trade higher.so i wouldn't want to hold a lot of cash or invest in things like bonds that could get beat by inflation. and if this is retirement investing that's 10 plus years out, i would stay fully invested knowing that you can't time a crash and that we will likely recover above where we are today within 10 years.some ideas if you think we are due for a crash or want to hedge against it.government i savings bonds:.  there is a $10k yearly limit but they are guaranteed to outpace inflation (currently 3.5%). you also are locked up for one year and have to surrender 3 months interest if liquidating before 3 years.gold & silver:.  both have intrinsic value and neither seems like it's in any sort of a bubble. i personally like pslv and have about 5% of my portfolio in it.tail or another similar etf:.  rather than keeping bonds i like the idea of using a black swan hedge. tail buys out of the money puts worth 1% of their assets every month. and then invest the rest of their cash in government securities. the idea is most months the fun loses a little bit of money, but if the market crashes, this etf will spike and you can take cash from the spike to reinvest in your other positions while there are at a low.\", 'sell (covered) calls', \"just keep depositing it regularly. nothing you can do about the market. it will go up and it will go down. best thing to do is just be consistent and dont try outsmart itif you feel you can't tolerate the risk of a crash consider upping your % in bonds\", 'admit that ive thought that for 15 years and leave my money in the market because ive been wrong for like 13 of the last 15 years.', 'i would do nothing. time in the market beats timing the market.', 'keep dollar cost averaging', 'find solid dividend stocks and put it in there for now. tobacco ones are the some of the last undervalued things out there because people dont like tobacco', 'dude, the market hits new record highs pretty much every freaking year.  time in the market beats timing the market.', \"invest in index funds. and strong companies that know how to keep their doors open. the entire history of the market is positive. it always recovered from a crash.the only way the market wouldn't recover from a crash is if something happened where money didn't matter anymore. in which case...it won't matter.\", 'its ok to sell and go cash for a while you arent going to lose to inflation if you back off for 6 months. i sold everything in oct 2019 and put it into amex savings. 5 months later covid hit and i bought the bottom and 15x my cash. there are always deals in the market even now if you look hard enough. this market has had some nice sell offs every few months i wouldnt be shocked to see one soon.', '[deleted]', '\"many measures like average pe ratio, buffet indicator, earnings growth etc. are indicating this\"i also read this on this sub in  2016, 2017, 2018, 2019, 2020 and now 2021. there will be corrections, there will be more considerable drawdowns, but pointing to various ratios and at random times proclaiming \"i think this point is too much...wait no this point is too much (market goes up more), wait no how about now?\" has not had good results for more than half a decade on here (and when the market does go down, near the bottom many on here have been certain the market is going much lower.) rarely is there ever discussion of a catalyst for things to change in the near-term, it\\'s just \"look at the shiller p/e!\" at random points along the way.i\\'d say look at managed futures if you really don\\'t want to be in the market, but given the nature of alt strategies, expense ratios are higher.', 'we are on pace for a trillion in capital inflows into this country for 2021. this will put a lid on inflation fears as the dollar is firming. the world wants our financial assets. americans sell assets to foreigners and turn around and buy more financial assets. banks are sitting on record deposits with which they are buying securities rather than issuing loans. look at the budget deficit- trillions in stimulus. the market is not overvalued. collateral values are rising, real yields at -1%. this is where you need to read some financial history, not some silly valuation textbook. sp to 4400 and beyond until bank loan losses pick up or a fed policy mistake.', 'stop trying to be clever and just leave your money in the market. how many times does it need to be said: you cannot successfully time the market. just keep your cash in and buy it down when the opportunity presents itself.', 'pay off debt', 'this is not a binary \"in/out\" decision.  you can look at the risks and adjust your asset allocation without it being a big roll of the dice.', 'i would remain invested but keep some ammo in case of a correction', 'buy spy puts.', 'my strategy is that i put my money in stocks that will keep going up even if the market tanks/corrects.', 'buy gold or silver', 'sell calls', 'some stocks are massively overvalued while some are not. just look at the graph man. if that shit doubled or tripled in 2020 dont buy it lol if it did something reasonable or climbed just back to or slightly above pre pandemic levels than consider buying. thats my strategy', 'sell cash secured puts on companies or etfs you want to own. sell them at like 40 delta monthlies. if you get assigned, you get it at a discount. if the stock goes up, you make money on the premium.better than sitting in cash looking at p/e and how near 0% rates effect discounted cash flow.you can also hedge stocks with some btc, tlt, and cash.', 'i actually think that. i would invest in not so popular companies with lower p/e ratio, possibly from growing markets in europe and asia. basically the less known company the better.', 'check reddit from 6 months ago with the same question lol', \"if i would consider doing a move everytime i'd start overthinking, then my profits would probably be a quarter and my losses tripled.i'm good. before i start preparing every year for doom, as it's announced, i'll just wait and in worst case scenario wait a couple of months or years until it recovered while continuing to invest.maybe buy a bunch of puts among the way but same point, it will only really make you money if a crash happens and in most other cases odds are against you. so just buy puts dated out for 2 years. and then also for 2023 when rates increase.\", '1) sell covered calls on stock positions to soften the blow if any drop. 2) keep dry powered to invest on dips', 'wait for the downturn and buy puts.', \"a lot of these guys are talking out there ass bro.  investing is gambling.  pure and simple.  you are gambling on humans essential and their business.  as a human  could be a jackass at anymore or most of them this is what i suggest.  you save jt in a low interest return.  save as much as you can and if you are into investing.  long term.  look 20-25 years.  now, with the money you save.  you don't invest that, no no no my sir.  you wait.  until there is a market crash.  invest low and sell high yes? well high is whenever you need money really.  february when the market shittered.  i went in a made 18% last year.  is it millions no.  will i lose some years yes.  but the general idea is i'm thinking 25 years down the road.   with 10% of your capital you can gamble with shorter stocks.  it would be just as good as going to a poker tournament and waiting for the good hands and play the cards not the players.  or black jack.  you definitely have better odds at black jack.\", 'the answer would be to write covered calls in order to collect premium. allows some upside, offers downside protection, and you are all set.', 'hedge with gold, bonds, blue chip crypto, and i personally put some money into a consumer staples etf due to rising prices with inflation', 'invest in a company with deep fucking value', \"i am sitting on about 30% cash. the rest is invested using stockrover value recommendations. when the dip happens, and it will. i'm buying.\", 'i do think this is true. but if you look at historical data, valuation is very slow to correct. this makes it very difficult to build an active strategy that can take advantage of this knowledge to enhance returns or reduce risks relative to buy and hold strategy in a stock/bond portfolio. but if you do place very high faith in valuation signals, then you should not restrict yourself to just looking at us stocks and bonds. go buy assets with really low valuation - if you can stomach investing in russia, turkey, etc.', \"i'd park money in a 2020 target date fund, like fhatx.\", 'spend it', 'buy gme, negative beta', '2q earnings are about to blow estimates out of the water. will help with valuations. also, all this money sloshing around has to go somewhere...with inflation worries starting to subside i see stocks grinding higher the remainder of the year. just dont get spooked when we see a 5-10% correction as we are somewhat overdue for one', 'buy value stocks and potential multibaggers with good catalysts incoming', \"best investing strategy:1. invest2. set up automatic dollar-cost-averaging3. retireif you were confident in your long-term portfolio a couple of months ago, should just stick with it now. buy and hold for retirement, play around with stocks with only a small amount of cash you're willing to lose if it comes to that.\", 'i am converting my traditional 401k to a bitcoin 401k. ask me if it was worth it in 30 years.', 'consider a small allocation to bitcoin.  am amount you could lose and be alright with losing. its still in the early innings.', \"i buy even more $spy.stop thinking you're smarter than the market (which is everyone) bruh.\", \"go to cheaper markets. i'm not an index investors but i would choose vwo over voo at the moment without any hesitation.but what i am doing right now is buying individual names outside of us-- in em in particular.\", 'i dont understand how people can have this much information put before them and still fail to understand the data.yes, stay in cash and *lose* money to inflation. are you not listening to yourself? meanwhile, well see you at dow 60,000.', 'it is extremely overvalued as of yesterday', 'i would (and am) stay in cash and buy on dips.', '[deleted]', 'slowly rotate to crypto since its all up and up on that end just follow that stock rule....buy super cheap, sell high.  gov treats ot like property so less worries on capital gains tax.... but my 2 cents. cheers!', 'it depends on how much capital you have available to invest. if youre talking about a few thousand dollars, then i would look for value stocks or keep a chunk in cash waiting to buy on a dip. selling pets and covered calls is also a good income strategy as others have pointed out.if you have a significant chunk to invest, then you can look at investment properties to fix up and use as a rental. long-term rental income properties give appreciation and tax benefits. buying a fixer-upper (if youre willing to do the work) gives you upside in a hot market.', '[removed]', 'we are just reopening and the market is taking off. if you think otherwise sit on cash and wait for the crash.', \"either put in the work to find the specific parts of the broader market that are undervalued relative to the rest, or park it in an index fund and ride it out.either way, i don't see a reason to pull money out of the market.\", \"there are always people who think the market is due for a crash. sometimes they're right, but usually they're wrong (myself included). i'd stay mostly invested at all times.\", 'i would continue to invest as normal, like any smart investor.', 'if i actually knew. i mean being certain, than i would park it in short term bonds. business or 3rd grade bonds. just to sit it out while cashing in some small returns.but hey, who actually knows?', \"hedge. domestic stocks, foreign stocks, hard assets to limit downside potential. the only thing i wouldn't suggest is bonds because they are essentially reward free risk at these values. and most important don't panic sell. continue to buy into dips even if those dips last years.\", '>what would you do with your money if you think that the stock market is currently highly overvalued and you expect the mid-term returns to be low if not negative?buy stocks that are just starting to move up after doing nothing for a long period of time (which is what i always do anyways).examples: stxs, uuuu', 'sell strangles', \"there are some very successful professional fund managers that keep a considerable portion of their portfolio in cash. in a bull market, like this one, they will underperform their peers who go all in. but in lean times, when bargains are to be had, they thrive. if you think you'll have the stomach to invest when a bear market comes, then hold cash. plenty of serious, successful people do it.\", 'the overall market may be high but some sectors and companies are not so much. the reopening stocks for example have been coming down a lot- in part due to the delta variant. you might be able to find some value there.personally though i dont care if its expensive. i just care if it goes up or down.', 'if youre sure, short the market.', 'stay invested with some put hedge based on your risk appetite. currency devaluation is literally melting everything away. with that said, s&p might be still undervalued.', 'choose safer and more stable coins for asset! i believe, every normal platform must have a trusted team, as bifrost does.', \"it comes down to my goals. i have near-term goals, so i am apprehensive of going all in on stocks, at the same time don't want to lose out on returns. so i have 40-50% in stocks and etfs (mix of growth and value), 30% in cash, and i keep 20% for option trading - primarily sell puts and wheel out if assigned. this way, a part of my cash is fully out, part of it is fully in stocks and i get to poke the market here and there with puts based on short term trends.\", 'invest in antique rolex and hockey jerseys.', \"if you are afraid of prices falling then you won't be losing anything to inflation.\", \"i'm a ride or die type. seriously, i just try to diversify a lot and then ride it out hopefully.\", 'i would put 10% in any vix variation and hope for the worst. i would also look to buy commodities.', 'ammo to resell? fiik', 'sell itm jan 2022 calls  leaps on stocks i legit like.', 'pm and the miners.  market valuations are high like you said.  real interest rates are negative and dont look to go positive anytime in the near future.  most alternative asset classes are high also like real estate.', \"keep investing regularly. if you *started* investing on black friday, the top of the market in 2000, the top in 2008, etc., and kept going through the downturn, you'll eventually end up doing well because you build inventory quicker on the way down and capture all of the gains on the way up. i remember reading something about black friday where even though the market index didn't eclipse its previous high until 30 years later, someone who invested regularly the whole time would have $1.5m.the market has always gone up because humans have consistently made incremental progress. that doesn't always have to be the case, but it has been so far. when you choose to not invest, you're going against that idea in a way.\", \"it's not possible to know that, so i wouldn't change anything.\", 'shyg', 'time in market over timing the marketjust stay invested in companies you believe in, if it does crash buy more', 'keep averaging in and dont fuck it up by thinking too hard', \"i wouldn't do anything different, because there are lots of times i think the market will go down and i'm wrong. but given the scenario you provided, maybe buy some out of the money puts as insurance against the market tanking.\", 'lol the threads like this are almost comical now.', 'min beta, min vol, short market, get shitty yield on short term bonds, sell options', 'i mean define over valued.', \"i dont follow that crap. its all about balance sheet imo. if a company has alot of cash and isn't burning money faster than their growth they are undervalued\", 'nothing', 'make sure im in good stocks, mutual funds, and etfs and dollar cost average like normal. time in the market is better than timing the marker. its a cliche for a reason. just limit your exposure to speculative and meme stocks so you dont blow up your account.', 'time in the market > timing the market.', \"well yes assets are up across the board because the money supply is so high due to low interest rates. even magic cards have been going bananas for a few years.whatever you do, just don't bet the farm on your thesis being correct. you don't need to go full cash if you think the market is overvalued, you can go 1/4 cash. this confuses a lot of new investors because they think they should be maximally committed to their thesis, but you need to learn to think in terms of risk and uncertainty.\", 'id keep doing exactly what im doing right now because id know that trying to forecast the market is a good way to lose all of my money.', 'have a good split in your portfolio between growth and defensive. there are still some great undervalued stocks out there. big tech is not leaving any time soon. do your dd and reduce your risky entries if it really bothers you.', '[removed]', \"covered calls or short put if i'm expecting neutral to mild activity.\", 'there is a middle ground. divide you cash into chunks, and invest each chunk per week. so the effect of dollar averaging would mostly help you during down turns.', \"if you are a us citizen, you can purchase up to $10,000 of i-series bonds and up to $10,000 of ee-series bonds per year.&#x200b;i-series bonds pay a fixed rate on top of an inflation adjusted rate.  the inflation adjusted rate is calculated on a six month basis.  they currently yield 3.53% apy and have a 30 year duration.  the interest you accrue is tax deferred meaning you can wait until you sell the bond to pay taxes on the interest.  you can elect to receive your federal tax refund in i-series bonds, and this does not count against the $10,000 purchase limit.&#x200b;ee-series bonds pay a fixed rate.  after 20 years, the bond value is adjusted to double what you paid when you purchased it.  the fixed rate is only 0.10%, but if you hold for 20 years, the value doubles which works out to 3.53% apy.  the bonds continue to earn interest after 20 years at a rate set by the us treasury.  the interest is tax deferred just like i-series bonds.&#x200b;both types of bonds are pretty simple to buy.  you make an account on the treasurydirect website, link a bank account, and schedule the purchase.  you redeem the bonds by selling them on the treasurydirect website and the money is deposited into your linked bank account.  the i-series bonds from federal tax returns are paper bonds which you redeem at any bank.&#x200b;note that these are bonds, not treasuries, so their value does not fluctuate based on market conditions.  if you bought us treasuries, and the interest rate goes up, the amount you can sell your treasury for goes down unless you hold it for the full duration.  if you purchase a bond, and the interest rate goes up, you can redeem it for the amount you paid plus any interest that accrued.  there is an early withdrawl penalty for i-series and ee-series bonds but it is only a few months interest that you lose.  you can pull your full investment out at any time with no penalty.  redeeming your ee-series bond before 20 years can be brutal as you would only collect the 0.10% apy instead of the cumulative 3.53% that is realized at 20 years upon doubling.&#x200b;my personal strategy for investing on a \\\\~75k gross income:max 401k pre tax ($19.5k)non40oxea (vanguard 2055 target date blended retirement fund, 0.05% expense ratio)max roth ira after tax ($6k)60% fzrox (fidelity total market us equities fund, 0% expense ratio)30% fzilx (fidelity total market international equities fund, 0% expense ratio)10% fxnax (fidelity us bonds fund, 0.025% expense ratio)max i-bonds after tax ($10k)take federal tax return in i-bonds (\\\\~$2k)try really hard to buy $833.33 of ee-series bonds each month with leftover money ($10k)&#x200b;i plan to retire at 40, live off the i-bonds until 50, live off the ee-bonds until 60, then live like a filthy rich multimillionaire old geezer off the 401k and ira.  if social security still exists i'm using it to hire a maid and a chauffeur.\", 'i just read unshakable by tony robbins, chapter 2. thats all you have to do.', 'i have converted my cash into stablecoin and earning high interest in crypto accounts.', '[removed]', 'id schedule it.  25% every 2 weeks for the next two months.', \"the benefit of dcaing is you are buying when the market is low making a nice profit, so just dca and you'll end up buying at the right time.  no need to worry about it if you're saving for retirement.  a month long dip tomorrow is a drop in the bucket in the grand scheme of decades of investing.\", \"i'd go to crypto and create a staking ladder of time deposit contracts with hex and earn 20-40% or more in apy\", \"so a few things to keep in mind:when do you need the money?  less than 1 year?  -- cash out what you're going to need1-3 years?  -- again cash out, but i'd just cash out maybe 50% of what you think you're going to need, and invest in some more stable companies over the high growth / high reward types.if more than 3-5 years?  --keep it invested, and ride the wave, and keep investing regularly.  the market trend is always up, remember over any given 20 year period, the market has always been up.\", 'dca', \"i'd buy something that inverses what i think will go down\", 'everyone here is recommending dca', 'sell otm puts', 'you cant time the market. i agree that stocks are currently overvalued, and im sure there will be a correction at some point. but i have no idea when. if youre that concerned about it, concentrate on stocks with solid pe ratios.', 'buy put options', 'buy vix options. it moves inversely with stock market.', \"i'd keep putting my money in the market and earn negative returns.\", \"low to negative returns would benefit from covered calls.qyld yields 10% each year. the downside is that it can't increase more than this (if nasdaq rises 50% you only make 10%) and you take all the downside risk.plus side is you make 10% even if stocks don't move a cent.\", \"i don't really care. i have my plan and i'm sticking to it. even if the short to mid term returns are negative, im not trying to make a quick buck, i'm trying to build a big portfolio that is going to give me good returns long term.\", 'the issue is more currency devaluation, im surprised people havent realised that. whats more likely, housing, lumber, oil, cars, stocks and inflation in general all shoot up, or the currency they are valued in falls, because half of it in existence came to be in a one year period? stocks arent particularly overvalued when measured against prevailing interest rates, people just arent accustomed to over a decade of near zero, what is collapsing is major currencies.', 'sit on some dry powder. if/when the asset price bubble bursts youll want to buy in on the way down.inflation will hit your cash, but try to think about what it would do to your other assets and balance accordingly.', 'prices are high everywhere, inflation is here, its either invest in something (equities, real estate, pokemon cards) or watch your monies depreciate.', \"embrace the crash. it's an opportunity if you're in accumulation mode.1. prepare for tax loss harvesting. have you set up your individual lots? do you know how you'd clean up your portfolio with non substantially similar funds?2. do you have allocation and rebalancing rules established? are your non equities your emergency fund or are you using 'dry powder'?\", 'wow these answers are all terrible. shift from growth to value is the correct answer here....', \"if you aren't retiring soon you just keep buying through the downturn. duh.\", 'can the question be reduced to \"how can i time the market\"?', 'i had a friend that saved 300k working in the alberta oil sands as an engineer for 3-4 years (rented with multiple people, worked lots of overtime), came back to toronto and said housing is too expensive, going to wait until it crashes. this was in 2010.since then the price kept rising, he kept insisting itll crash and waited. even now in 2021, hes still renting. sure, hes still got his 300k cash, maybe a bit more through investments, but if he bought a home in 2010, he would have tripled it by now.if youre hoping for a crash, you might be waiting a very long time. governments are incentivized to keep things stable.', 'if you think stock prices are high and want to protect against inflation then an option is to buy precious metals or commodities.', 'the second half of your paragraph explains the first half of your paragraph and the premise of your post.', \"$swanyou'll see modest returns if the market counties up, but also modest losses if it shits the bed. i use it to insulate from sudden market moves so i can decide what to buy in the dip.as an example, swan dipped 8% during covid whereas the sp500 dipped close to 30% in the same time. it is an interesting etf. currently have 80% of my money in it for the reasons you mentioned. after a correction/pe ratio reckoning i plan on getting into letfs\", '[removed]', \"what does overvalued even mean in terms of stock prices?  it's not as if a share of a company has any actual value unless it's paying a dividend, which most don't.  the whole idea that the market is overpriced is an odd one to me.  stock are like anything else...they're worth what people are willing to pay.\", \"there are several ways to answer this question. one thing to note is that it's impossible to know the future. so everyone is guessing here.my advice: spread it out. leave some cash for interesting opportunities.- maybe real estate is an option- stocks/bonds (etf's or individual) are invaluable.- maybe some gold?- maybe some crypto?in general though, stay where you think you know what you're doing. do it with money you can miss for extended duration, and do it in asset classes where you think they'll keep on existing even after all the dust is settled after the next (whatever it is) crash.i am personally spread out between individual stocks, some etf's and some crypto, but to each its own.\", 'you could cash out of your positions and stake the money as usdc at blockfi. the value of usdc will always equal a us dollar and they pay you about 6-8% interest', 'ive been asking myself the same thing since last april o_o', 'i am a relatively new investor. i am also sort of lazy with this dd shit. i was on the sidelines because i also thought that things were too high. i lost a ton of return on my cash because it was sitting at the bank waiting for the \"crash.\" i am investing every pay period now. i stopped trying to time shit. i don\\'t know what is going on; i am not a politician.', 'put your money in and leave it in long term. anything else is gambling, not investing.', 'pe ratio of the sp500 is still quite low compared with that of 2000 and 2008 pre-crashes according to data that i had access to. did you see it very high comparatively? could you cite the numbers in your comparisons?', \"i find these kind of question pointless. don't get me wrong, it's nothing to do with op. this is a natural question most people who are new to investing will ask the psychology always goes:bull market = bubble + imminent crash bear market = holy fuck this is the end of usjust stick to the long term and keep doing dollar coast averaging. less mental work and more rewards at the end.\", 'remember to never time the markets and invest for the long term', 'here is what i think works well.  when the market is up like this focus on improving your cash flow.  reduce your expenses, reduce credit card debt and build up some cash making sure you are prepared for a financial shock.  you want to be in a position where you are not scared during a correction knowing you have the funds to get through the downturn.  then when the correction happens you can take advantage of the lower prices. for example, during the dotcom bust i went from putting in 6% of my paycheck into my 401k to contributing the max thus taking advantage market drop.  the second thing you want to do is have a list of companies that you are going to put that additional money into.  and as others have said continue to invest as we do not know when that correction will come.', \"in my take, the best way is to adjust your asset allocation based on your risk preference. this can range from 100% cash to 100%+ equity. i would agree that based on current conditions, going all in on equity may not be the most optimal decision. personally, i'm about 80/20, growth to fixed income. the second (our of many dimensions) is the duration of your risk reducing / fixed income assets. if you believe rates are going to rise, then lower the duration and vice versa. overall, we've had some of the largest steepening in the yield curve so i'm not as sure rates will continue climbing and as such leaning into duration a bit.there are other dimensions to consider related to equity geography and market cap, credit spread exposure, diversifiers (such as reits, infrastructure). being able to understand these factors and size them appropriately is more challenging and requires more advanced knowledge of financial markets.\", 'id still investthats far better than watching my purchasing power being eaten by inflation', 'take pe ratio with a grain of salt. it\\'s not the complete picture of \"stock value\", it doesn\\'t work as the best value indicator for every sector.within a sector or between several companies that do the same business it can be a quick way to figure out which is the better value. however comparing the pe ratio of a tech stock to that of a consumer goods stock isn\\'t useful.goodhart\\'s law is a great heuristic to use when using metrics for making decisions: \"when a metric becomes a target, it ceases to be a good metric\"that captures the fact that people and corporations adapt to the kpi and often find ways to tweak the number without a real impactful change in the underlying business or process.figure you\\'re trying to sum up a complex adaptive system (company) within a complex adaptive system (economy) with one number. you need a lot more than that to get the full view.', 'dca', 'crypto', 'to quote, i believe, *jaws*...just keep swimming...', 'keep my money invested in a diversified portfolio of financially sound and good performing companies. and when the market drops, which it will at some point, buy more. rise and repeat until retirement.', \"if everything is overpriced like you said (houses, cars, paintings, stocks), then it's not really overpriced is it?\", 'dm me, i am making a 10% per month return on my cash.', 'id just do nothing', 'put it in anyway because what if im wrong?', 'wtf, who words a title like that?', \"i'd man up and invest in the stock market and quit complaining.\", \"like others said, time in the market beats timing the market.however, since the coming months look uncertain, i wouldn't go all in. i would partially invest every week/month so you have a better chance to seize opportunities (to enter after a dip or to average down)i would personally allocate a portion to crypto as well, now/the coming weeks is a great time to enter\", 'rent an office space with enclosed cubicles in eastern europe, like moldova or something.each cubicle gets a couch and a webcam.  hire developer to make an interface to stream to all the cam siteshire girls and give them a small cut.essentially be a webcam pimp.', 'buy certificates instead of stocks', 'i dont think so', 'time in the market beats timing the market.', \"one thing i'm looking at now is active management. but you cant beat the indexyou can, it's just rarely worth it between time/worrying/fees (and, you know, actually not beating the market). however in this stage of the market where everything is propped up by the fed and is so disconnected from its value, i'm comfortable handing off 1/3rd of my funds to someone who can invest dynamically through the upcoming turmoil. will reassess in a year.\", 'i dont think its a foregone conclusion that the market is overvalued. if you look at the sp500 ex the top 5 tech companies, its actually a pe in line with other markets, in the low 20s (doubleline capital recently covered this in one of their youtube webcasts).its really the big us mega cap tech companies which are massively tilting the sp500 pe upwards. and fwiw, i think those top 5 businesses are a steal. they make mega bucks with strong growth and huge monopolies, mostly for mid 30s pe.im fully invested and honestly havent felt this confident about the market in the last 3-4 years. weve kind of ran headfirst into almost all the major risks, and gone through it now with all the monetary and fiscal policy faucets being opened wide.', 'remindme! 2 years', 'hold current positions, and add more', 'continue investing as normal', 'whats with all these dumbass what if the sky is falling posts on the financial subreddits today?', 'i actually have a crystal ball and its not going to pop until 2029. and we enter a prolonged bear session for 10+ years after that.', \"i dont fuckin care  i invest for years to come   i won't sell anything before at least 2030\", 'gme is the best hedge']\n",
            "Pennystocks  :  ['does this submission fit our subreddit? if it does please **upvote** this comment. if it does not fit the subreddit please **downvote** this comment.---^(*i am a bot, and this comment was made automatically.*) ^(please) [^(contact)^( )^(us)^( )^(via)^( )^(modmail)]( ^(if) ^(you) ^(have) ^(any) ^(questions) ^(or) ^(concerns.)', \"there's decent short term potential on this simply based on the rise of lwlg over the last few weeks. similar industry/tech.\", 'pardon my lack of knowledge/research, but does anyone happen to know how much correlation, if any, this company has with lightwave logic? both have moved nicely in recent sessions. thanks in advance!']\n",
            "Dividends  :  ['maybe it is supposed to pay out weakly.', '0.5% expense ratio and net assets are under $10 million (i.e. no liquidity) this is more of a marketing gimmick to extract fees from people that like the idea of a \"weekly paycheck\" than reliable etf in my opinion', 'welcome to r/dividends!if you are new to the world of dividend investing and are seeking advice, brokerage information, recommendations, and more, please check out the wiki [here]( direct all simple questions and \"rate my portfolio\" requests towards the weekly discussion threads (sort by hot, they\\'re at the top).  posts that contain solicitations for [due diligence]( will be removed.remember, this is a subreddit for genuine, high-quality discussion.  please keep all contributions civil, and report uncivil behavior for moderator review.  comment_stickied: true*i am a bot, and this action was performed automatically. please [contact the moderators of this subreddit](/message/compose/?to=/r/dividends) if you have any questions or concerns.*']\n",
            "wallstreetbets2  :  [\"buy hcmc it's about free today\"]\n",
            "Trading  :  ['go look at 1995. just lookimagine the how the bears felt.ive felt like you for the last 10 years. being right isnt going to make us any money... only price does. id be retired if i really understood this ten years ago.']\n",
            "WSBAfterHours  :  ['brrrrrrrrrrr', 'another pump and dump advertised by bag holders so they can dip as soon as you buy.']\n",
            "smallstreetbets  :  ['join the r/smallstreetbets official discord here -  am a bot, and this action was performed automatically. please [contact the moderators of this subreddit](/message/compose/?to=/r/smallstreetbets) if you have any questions or concerns.*', '$poww just crushed earnings, all blue sky and not a dark cloud in sight', 'looking at $wish of course$bark will be on the lookout for me$psfe news today$atos', 'you guys see bsqr and mrin', 'hearing medmen mmnff is starting to get pumped on wallstreetbets... anyone see this?', 'watching $amc and buying $wkhs today.', \"for me, i'm sitting in a holding pattern on amc and mmat waiting for both to squeeze. not much i can do besides wait at this point.\", 'anyone have a compelling reason mrin could surpass its $14 pt this week? thought about dumping it when it hit its target but its riding well this early in the week.', 'what broker you guys use?', 'lets go $cowi', \"holy fuck.... i bought 650 calls on poww monday and i don't know what the fuck to do.i have never had returns like this before.... all signs point to this thing skyrocketing tomorrow.  i have no fucking idea how much money 650 calls are going to turn into, but i know it is a fuck of a lot....somehow i know i am going to fuck this up because i am an idiot.....\", \"time to sell everything don't be the sucker money\"]\n",
            "retardbets  :  ['hello everyone', 'this sub sucks ass man', \"maybe they really banned me because they don't want you watching trigun  'spy 420 4/20 gonna print!']\n",
            "Stock_Picks  :  ['welcome to /r/stock_picks, the sub to discuss your most recent picks and predictions, share advice, and ask investing related questions! please be sure to check out the sidebar for the rules and also be sure to check out our monthly stock picking contest stickied at the top of the sub! entries taken till mid-month, results posted on the 1st of the following month.*i am a bot, and this action was performed automatically. please [contact the moderators of this subreddit](/message/compose/?to=/r/stock_picks) if you have any questions or concerns.*', 'very tempting. appears to be a recent listing of a start up, to which i would be concerned about an insider sell off once the lock up period ends.', \"i'm loving ev stocks this year.im in \", 'you saying this is a good short-term or long-term investment?', ' another 5 busses! waiting on the proterra pr post! #lfg']\n",
            "ameisenstrassenwetten  :  ['bei langen sachen wurde ich immer optionsscheine nehmen... was anderes gibt es ja leider nicht.knockouts eigen sich ja eigentlich nur fur schnelle steigende kurse und halt man uber kurzen zeitraum.  faktor zertifikat fur noch kurzere zeitraume. da macht dir das kanguru chart von amazon sowieso alles kaputt.alternativ kannst du auch einfach die aktie kaufen :)', 'zur suche bei der ing gehe ich immer uber die webseite  isin/wkn in die app']\n",
            "ISKbets  :  ['ja. jag tycker det ar bra att anvanda flera konton for att skilja pa olika sparande - pension, barnspar, lambon osv.', 'oppnade ett gang sparkonto+ just for att kunna lagga undan lite buffert efter moass.', 'japp. insattningsgaranti for varje enskilt konto.edit: dar har jag fel! det ar saklart insattningsgaranti per bank och person. inte per konto och person', 'varfor vill du gora det? samma bank, samma villkor']\n",
            "Investing  :  ['**hi, welcome to /r/investing. please note that as a topic focused subreddit we have higher posting standards than much of reddit:****1)** please direct all **advice requests and beginner questions to the stickied daily threads.** this includes beginner questions and portfolio help.**2) important: we have strict political posting guidelines** (described [here]( and [here]( violations will result in a likely 60 day ban upon **first instance.****3)** this is an open forum but we expect you to conduct yourself like an adult. disagree, argue, criticize, but **no personal attacks.***i am a bot, and this action was performed automatically. please [contact the moderators of this subreddit](/message/compose/?to=/r/investing) if you have any questions or concerns.*', 'having been through multiple up and down cycles, i have found it best to just stick with my plan.  maintain my portfolio allocations that i have chosen.the times i tried to time the market to invest a windfall, i sat on the cash for too long and came out behind if i had just dumped it in.if you have a regular contribution, just keep doing it.', 'sit around confused whilst losing to inflation ', 'this reads exactly like a post from 2020. or 2019. or 2017. or 2015. i think people were even screaming overvalued for the current cycle even back in ~2013-2014ish', 'i would hold and history would agree', 'maybe if everything is overvalued its actually the currency that has lost value. thats my thought. would be more concerned about inflation and supply chains.', \"while everything is at all time highs and feels overvalued i think when you look at the bigger picture it really isn't.if it was just stocks, i would think it's a bubble. but it's literally crypto, real estate, commodities. just about every asset class is taking off. there's so much cash in the economy, and no one wants to hold it as cash or buy a bond or annuity that could fail to outpace inflation. i think as long as the fed keeps printing money and keeping interest rates low we're going to continue to see assets trade higher.so i wouldn't want to hold a lot of cash or invest in things like bonds that could get beat by inflation. and if this is retirement investing that's 10 plus years out, i would stay fully invested knowing that you can't time a crash and that we will likely recover above where we are today within 10 years.some ideas if you think we are due for a crash or want to hedge against it.government i savings bonds:.  there is a $10k yearly limit but they are guaranteed to outpace inflation (currently 3.5%). you also are locked up for one year and have to surrender 3 months interest if liquidating before 3 years.gold & silver:.  both have intrinsic value and neither seems like it's in any sort of a bubble. i personally like pslv and have about 5% of my portfolio in it.tail or another similar etf:.  rather than keeping bonds i like the idea of using a black swan hedge. tail buys out of the money puts worth 1% of their assets every month. and then invest the rest of their cash in government securities. the idea is most months the fun loses a little bit of money, but if the market crashes, this etf will spike and you can take cash from the spike to reinvest in your other positions while there are at a low.\", 'sell (covered) calls', \"just keep depositing it regularly. nothing you can do about the market. it will go up and it will go down. best thing to do is just be consistent and dont try outsmart itif you feel you can't tolerate the risk of a crash consider upping your % in bonds\", 'admit that ive thought that for 15 years and leave my money in the market because ive been wrong for like 13 of the last 15 years.', 'i would do nothing. time in the market beats timing the market.', 'keep dollar cost averaging', 'find solid dividend stocks and put it in there for now. tobacco ones are the some of the last undervalued things out there because people dont like tobacco', 'dude, the market hits new record highs pretty much every freaking year.  time in the market beats timing the market.', \"invest in index funds. and strong companies that know how to keep their doors open. the entire history of the market is positive. it always recovered from a crash.the only way the market wouldn't recover from a crash is if something happened where money didn't matter anymore. in which case...it won't matter.\", 'its ok to sell and go cash for a while you arent going to lose to inflation if you back off for 6 months. i sold everything in oct 2019 and put it into amex savings. 5 months later covid hit and i bought the bottom and 15x my cash. there are always deals in the market even now if you look hard enough. this market has had some nice sell offs every few months i wouldnt be shocked to see one soon.', '[deleted]', '\"many measures like average pe ratio, buffet indicator, earnings growth etc. are indicating this\"i also read this on this sub in  2016, 2017, 2018, 2019, 2020 and now 2021. there will be corrections, there will be more considerable drawdowns, but pointing to various ratios and at random times proclaiming \"i think this point is too much...wait no this point is too much (market goes up more), wait no how about now?\" has not had good results for more than half a decade on here (and when the market does go down, near the bottom many on here have been certain the market is going much lower.) rarely is there ever discussion of a catalyst for things to change in the near-term, it\\'s just \"look at the shiller p/e!\" at random points along the way.i\\'d say look at managed futures if you really don\\'t want to be in the market, but given the nature of alt strategies, expense ratios are higher.', 'we are on pace for a trillion in capital inflows into this country for 2021. this will put a lid on inflation fears as the dollar is firming. the world wants our financial assets. americans sell assets to foreigners and turn around and buy more financial assets. banks are sitting on record deposits with which they are buying securities rather than issuing loans. look at the budget deficit- trillions in stimulus. the market is not overvalued. collateral values are rising, real yields at -1%. this is where you need to read some financial history, not some silly valuation textbook. sp to 4400 and beyond until bank loan losses pick up or a fed policy mistake.', 'stop trying to be clever and just leave your money in the market. how many times does it need to be said: you cannot successfully time the market. just keep your cash in and buy it down when the opportunity presents itself.', 'pay off debt', 'this is not a binary \"in/out\" decision.  you can look at the risks and adjust your asset allocation without it being a big roll of the dice.', 'i would remain invested but keep some ammo in case of a correction', 'buy spy puts.', 'my strategy is that i put my money in stocks that will keep going up even if the market tanks/corrects.', 'buy gold or silver', 'sell calls', 'some stocks are massively overvalued while some are not. just look at the graph man. if that shit doubled or tripled in 2020 dont buy it lol if it did something reasonable or climbed just back to or slightly above pre pandemic levels than consider buying. thats my strategy', 'sell cash secured puts on companies or etfs you want to own. sell them at like 40 delta monthlies. if you get assigned, you get it at a discount. if the stock goes up, you make money on the premium.better than sitting in cash looking at p/e and how near 0% rates effect discounted cash flow.you can also hedge stocks with some btc, tlt, and cash.', 'i actually think that. i would invest in not so popular companies with lower p/e ratio, possibly from growing markets in europe and asia. basically the less known company the better.', 'check reddit from 6 months ago with the same question lol', \"if i would consider doing a move everytime i'd start overthinking, then my profits would probably be a quarter and my losses tripled.i'm good. before i start preparing every year for doom, as it's announced, i'll just wait and in worst case scenario wait a couple of months or years until it recovered while continuing to invest.maybe buy a bunch of puts among the way but same point, it will only really make you money if a crash happens and in most other cases odds are against you. so just buy puts dated out for 2 years. and then also for 2023 when rates increase.\", '1) sell covered calls on stock positions to soften the blow if any drop. 2) keep dry powered to invest on dips', 'wait for the downturn and buy puts.', \"a lot of these guys are talking out there ass bro.  investing is gambling.  pure and simple.  you are gambling on humans essential and their business.  as a human  could be a jackass at anymore or most of them this is what i suggest.  you save jt in a low interest return.  save as much as you can and if you are into investing.  long term.  look 20-25 years.  now, with the money you save.  you don't invest that, no no no my sir.  you wait.  until there is a market crash.  invest low and sell high yes? well high is whenever you need money really.  february when the market shittered.  i went in a made 18% last year.  is it millions no.  will i lose some years yes.  but the general idea is i'm thinking 25 years down the road.   with 10% of your capital you can gamble with shorter stocks.  it would be just as good as going to a poker tournament and waiting for the good hands and play the cards not the players.  or black jack.  you definitely have better odds at black jack.\", 'the answer would be to write covered calls in order to collect premium. allows some upside, offers downside protection, and you are all set.', 'hedge with gold, bonds, blue chip crypto, and i personally put some money into a consumer staples etf due to rising prices with inflation', 'invest in a company with deep fucking value', \"i am sitting on about 30% cash. the rest is invested using stockrover value recommendations. when the dip happens, and it will. i'm buying.\", 'i do think this is true. but if you look at historical data, valuation is very slow to correct. this makes it very difficult to build an active strategy that can take advantage of this knowledge to enhance returns or reduce risks relative to buy and hold strategy in a stock/bond portfolio. but if you do place very high faith in valuation signals, then you should not restrict yourself to just looking at us stocks and bonds. go buy assets with really low valuation - if you can stomach investing in russia, turkey, etc.', \"i'd park money in a 2020 target date fund, like fhatx.\", 'spend it', 'buy gme, negative beta', '2q earnings are about to blow estimates out of the water. will help with valuations. also, all this money sloshing around has to go somewhere...with inflation worries starting to subside i see stocks grinding higher the remainder of the year. just dont get spooked when we see a 5-10% correction as we are somewhat overdue for one', 'buy value stocks and potential multibaggers with good catalysts incoming', \"best investing strategy:1. invest2. set up automatic dollar-cost-averaging3. retireif you were confident in your long-term portfolio a couple of months ago, should just stick with it now. buy and hold for retirement, play around with stocks with only a small amount of cash you're willing to lose if it comes to that.\", 'i am converting my traditional 401k to a bitcoin 401k. ask me if it was worth it in 30 years.', 'consider a small allocation to bitcoin.  am amount you could lose and be alright with losing. its still in the early innings.', \"i buy even more $spy.stop thinking you're smarter than the market (which is everyone) bruh.\", \"go to cheaper markets. i'm not an index investors but i would choose vwo over voo at the moment without any hesitation.but what i am doing right now is buying individual names outside of us-- in em in particular.\", 'i dont understand how people can have this much information put before them and still fail to understand the data.yes, stay in cash and *lose* money to inflation. are you not listening to yourself? meanwhile, well see you at dow 60,000.', 'it is extremely overvalued as of yesterday', 'i would (and am) stay in cash and buy on dips.', '[deleted]', 'slowly rotate to crypto since its all up and up on that end just follow that stock rule....buy super cheap, sell high.  gov treats ot like property so less worries on capital gains tax.... but my 2 cents. cheers!', 'it depends on how much capital you have available to invest. if youre talking about a few thousand dollars, then i would look for value stocks or keep a chunk in cash waiting to buy on a dip. selling pets and covered calls is also a good income strategy as others have pointed out.if you have a significant chunk to invest, then you can look at investment properties to fix up and use as a rental. long-term rental income properties give appreciation and tax benefits. buying a fixer-upper (if youre willing to do the work) gives you upside in a hot market.', '[removed]', 'we are just reopening and the market is taking off. if you think otherwise sit on cash and wait for the crash.', \"either put in the work to find the specific parts of the broader market that are undervalued relative to the rest, or park it in an index fund and ride it out.either way, i don't see a reason to pull money out of the market.\", \"there are always people who think the market is due for a crash. sometimes they're right, but usually they're wrong (myself included). i'd stay mostly invested at all times.\", 'i would continue to invest as normal, like any smart investor.', 'if i actually knew. i mean being certain, than i would park it in short term bonds. business or 3rd grade bonds. just to sit it out while cashing in some small returns.but hey, who actually knows?', \"hedge. domestic stocks, foreign stocks, hard assets to limit downside potential. the only thing i wouldn't suggest is bonds because they are essentially reward free risk at these values. and most important don't panic sell. continue to buy into dips even if those dips last years.\", '>what would you do with your money if you think that the stock market is currently highly overvalued and you expect the mid-term returns to be low if not negative?buy stocks that are just starting to move up after doing nothing for a long period of time (which is what i always do anyways).examples: stxs, uuuu', 'sell strangles', \"there are some very successful professional fund managers that keep a considerable portion of their portfolio in cash. in a bull market, like this one, they will underperform their peers who go all in. but in lean times, when bargains are to be had, they thrive. if you think you'll have the stomach to invest when a bear market comes, then hold cash. plenty of serious, successful people do it.\", 'the overall market may be high but some sectors and companies are not so much. the reopening stocks for example have been coming down a lot- in part due to the delta variant. you might be able to find some value there.personally though i dont care if its expensive. i just care if it goes up or down.', 'if youre sure, short the market.', 'stay invested with some put hedge based on your risk appetite. currency devaluation is literally melting everything away. with that said, s&p might be still undervalued.', 'choose safer and more stable coins for asset! i believe, every normal platform must have a trusted team, as bifrost does.', \"it comes down to my goals. i have near-term goals, so i am apprehensive of going all in on stocks, at the same time don't want to lose out on returns. so i have 40-50% in stocks and etfs (mix of growth and value), 30% in cash, and i keep 20% for option trading - primarily sell puts and wheel out if assigned. this way, a part of my cash is fully out, part of it is fully in stocks and i get to poke the market here and there with puts based on short term trends.\", 'invest in antique rolex and hockey jerseys.', \"if you are afraid of prices falling then you won't be losing anything to inflation.\", \"i'm a ride or die type. seriously, i just try to diversify a lot and then ride it out hopefully.\", 'i would put 10% in any vix variation and hope for the worst. i would also look to buy commodities.', 'ammo to resell? fiik', 'sell itm jan 2022 calls  leaps on stocks i legit like.', 'pm and the miners.  market valuations are high like you said.  real interest rates are negative and dont look to go positive anytime in the near future.  most alternative asset classes are high also like real estate.', \"keep investing regularly. if you *started* investing on black friday, the top of the market in 2000, the top in 2008, etc., and kept going through the downturn, you'll eventually end up doing well because you build inventory quicker on the way down and capture all of the gains on the way up. i remember reading something about black friday where even though the market index didn't eclipse its previous high until 30 years later, someone who invested regularly the whole time would have $1.5m.the market has always gone up because humans have consistently made incremental progress. that doesn't always have to be the case, but it has been so far. when you choose to not invest, you're going against that idea in a way.\", \"it's not possible to know that, so i wouldn't change anything.\", 'shyg', 'time in market over timing the marketjust stay invested in companies you believe in, if it does crash buy more', 'keep averaging in and dont fuck it up by thinking too hard', \"i wouldn't do anything different, because there are lots of times i think the market will go down and i'm wrong. but given the scenario you provided, maybe buy some out of the money puts as insurance against the market tanking.\", 'lol the threads like this are almost comical now.', 'min beta, min vol, short market, get shitty yield on short term bonds, sell options', 'i mean define over valued.', \"i dont follow that crap. its all about balance sheet imo. if a company has alot of cash and isn't burning money faster than their growth they are undervalued\", 'nothing', 'make sure im in good stocks, mutual funds, and etfs and dollar cost average like normal. time in the market is better than timing the marker. its a cliche for a reason. just limit your exposure to speculative and meme stocks so you dont blow up your account.', 'time in the market > timing the market.', \"well yes assets are up across the board because the money supply is so high due to low interest rates. even magic cards have been going bananas for a few years.whatever you do, just don't bet the farm on your thesis being correct. you don't need to go full cash if you think the market is overvalued, you can go 1/4 cash. this confuses a lot of new investors because they think they should be maximally committed to their thesis, but you need to learn to think in terms of risk and uncertainty.\", 'id keep doing exactly what im doing right now because id know that trying to forecast the market is a good way to lose all of my money.', 'have a good split in your portfolio between growth and defensive. there are still some great undervalued stocks out there. big tech is not leaving any time soon. do your dd and reduce your risky entries if it really bothers you.', '[removed]', \"covered calls or short put if i'm expecting neutral to mild activity.\", 'there is a middle ground. divide you cash into chunks, and invest each chunk per week. so the effect of dollar averaging would mostly help you during down turns.', \"if you are a us citizen, you can purchase up to $10,000 of i-series bonds and up to $10,000 of ee-series bonds per year.&#x200b;i-series bonds pay a fixed rate on top of an inflation adjusted rate.  the inflation adjusted rate is calculated on a six month basis.  they currently yield 3.53% apy and have a 30 year duration.  the interest you accrue is tax deferred meaning you can wait until you sell the bond to pay taxes on the interest.  you can elect to receive your federal tax refund in i-series bonds, and this does not count against the $10,000 purchase limit.&#x200b;ee-series bonds pay a fixed rate.  after 20 years, the bond value is adjusted to double what you paid when you purchased it.  the fixed rate is only 0.10%, but if you hold for 20 years, the value doubles which works out to 3.53% apy.  the bonds continue to earn interest after 20 years at a rate set by the us treasury.  the interest is tax deferred just like i-series bonds.&#x200b;both types of bonds are pretty simple to buy.  you make an account on the treasurydirect website, link a bank account, and schedule the purchase.  you redeem the bonds by selling them on the treasurydirect website and the money is deposited into your linked bank account.  the i-series bonds from federal tax returns are paper bonds which you redeem at any bank.&#x200b;note that these are bonds, not treasuries, so their value does not fluctuate based on market conditions.  if you bought us treasuries, and the interest rate goes up, the amount you can sell your treasury for goes down unless you hold it for the full duration.  if you purchase a bond, and the interest rate goes up, you can redeem it for the amount you paid plus any interest that accrued.  there is an early withdrawl penalty for i-series and ee-series bonds but it is only a few months interest that you lose.  you can pull your full investment out at any time with no penalty.  redeeming your ee-series bond before 20 years can be brutal as you would only collect the 0.10% apy instead of the cumulative 3.53% that is realized at 20 years upon doubling.&#x200b;my personal strategy for investing on a \\\\~75k gross income:max 401k pre tax ($19.5k)non40oxea (vanguard 2055 target date blended retirement fund, 0.05% expense ratio)max roth ira after tax ($6k)60% fzrox (fidelity total market us equities fund, 0% expense ratio)30% fzilx (fidelity total market international equities fund, 0% expense ratio)10% fxnax (fidelity us bonds fund, 0.025% expense ratio)max i-bonds after tax ($10k)take federal tax return in i-bonds (\\\\~$2k)try really hard to buy $833.33 of ee-series bonds each month with leftover money ($10k)&#x200b;i plan to retire at 40, live off the i-bonds until 50, live off the ee-bonds until 60, then live like a filthy rich multimillionaire old geezer off the 401k and ira.  if social security still exists i'm using it to hire a maid and a chauffeur.\", 'i just read unshakable by tony robbins, chapter 2. thats all you have to do.', 'i have converted my cash into stablecoin and earning high interest in crypto accounts.', '[removed]', 'id schedule it.  25% every 2 weeks for the next two months.', \"the benefit of dcaing is you are buying when the market is low making a nice profit, so just dca and you'll end up buying at the right time.  no need to worry about it if you're saving for retirement.  a month long dip tomorrow is a drop in the bucket in the grand scheme of decades of investing.\", \"i'd go to crypto and create a staking ladder of time deposit contracts with hex and earn 20-40% or more in apy\", \"so a few things to keep in mind:when do you need the money?  less than 1 year?  -- cash out what you're going to need1-3 years?  -- again cash out, but i'd just cash out maybe 50% of what you think you're going to need, and invest in some more stable companies over the high growth / high reward types.if more than 3-5 years?  --keep it invested, and ride the wave, and keep investing regularly.  the market trend is always up, remember over any given 20 year period, the market has always been up.\", 'dca', \"i'd buy something that inverses what i think will go down\", 'everyone here is recommending dca', 'sell otm puts', 'you cant time the market. i agree that stocks are currently overvalued, and im sure there will be a correction at some point. but i have no idea when. if youre that concerned about it, concentrate on stocks with solid pe ratios.', 'buy put options', 'buy vix options. it moves inversely with stock market.', \"i'd keep putting my money in the market and earn negative returns.\", \"low to negative returns would benefit from covered calls.qyld yields 10% each year. the downside is that it can't increase more than this (if nasdaq rises 50% you only make 10%) and you take all the downside risk.plus side is you make 10% even if stocks don't move a cent.\", \"i don't really care. i have my plan and i'm sticking to it. even if the short to mid term returns are negative, im not trying to make a quick buck, i'm trying to build a big portfolio that is going to give me good returns long term.\", 'the issue is more currency devaluation, im surprised people havent realised that. whats more likely, housing, lumber, oil, cars, stocks and inflation in general all shoot up, or the currency they are valued in falls, because half of it in existence came to be in a one year period? stocks arent particularly overvalued when measured against prevailing interest rates, people just arent accustomed to over a decade of near zero, what is collapsing is major currencies.', 'sit on some dry powder. if/when the asset price bubble bursts youll want to buy in on the way down.inflation will hit your cash, but try to think about what it would do to your other assets and balance accordingly.', 'prices are high everywhere, inflation is here, its either invest in something (equities, real estate, pokemon cards) or watch your monies depreciate.', \"embrace the crash. it's an opportunity if you're in accumulation mode.1. prepare for tax loss harvesting. have you set up your individual lots? do you know how you'd clean up your portfolio with non substantially similar funds?2. do you have allocation and rebalancing rules established? are your non equities your emergency fund or are you using 'dry powder'?\", 'wow these answers are all terrible. shift from growth to value is the correct answer here....', \"if you aren't retiring soon you just keep buying through the downturn. duh.\", 'can the question be reduced to \"how can i time the market\"?', 'i had a friend that saved 300k working in the alberta oil sands as an engineer for 3-4 years (rented with multiple people, worked lots of overtime), came back to toronto and said housing is too expensive, going to wait until it crashes. this was in 2010.since then the price kept rising, he kept insisting itll crash and waited. even now in 2021, hes still renting. sure, hes still got his 300k cash, maybe a bit more through investments, but if he bought a home in 2010, he would have tripled it by now.if youre hoping for a crash, you might be waiting a very long time. governments are incentivized to keep things stable.', 'if you think stock prices are high and want to protect against inflation then an option is to buy precious metals or commodities.', 'the second half of your paragraph explains the first half of your paragraph and the premise of your post.', \"$swanyou'll see modest returns if the market counties up, but also modest losses if it shits the bed. i use it to insulate from sudden market moves so i can decide what to buy in the dip.as an example, swan dipped 8% during covid whereas the sp500 dipped close to 30% in the same time. it is an interesting etf. currently have 80% of my money in it for the reasons you mentioned. after a correction/pe ratio reckoning i plan on getting into letfs\", '[removed]', \"what does overvalued even mean in terms of stock prices?  it's not as if a share of a company has any actual value unless it's paying a dividend, which most don't.  the whole idea that the market is overpriced is an odd one to me.  stock are like anything else...they're worth what people are willing to pay.\", \"there are several ways to answer this question. one thing to note is that it's impossible to know the future. so everyone is guessing here.my advice: spread it out. leave some cash for interesting opportunities.- maybe real estate is an option- stocks/bonds (etf's or individual) are invaluable.- maybe some gold?- maybe some crypto?in general though, stay where you think you know what you're doing. do it with money you can miss for extended duration, and do it in asset classes where you think they'll keep on existing even after all the dust is settled after the next (whatever it is) crash.i am personally spread out between individual stocks, some etf's and some crypto, but to each its own.\", 'you could cash out of your positions and stake the money as usdc at blockfi. the value of usdc will always equal a us dollar and they pay you about 6-8% interest', 'ive been asking myself the same thing since last april o_o', 'i am a relatively new investor. i am also sort of lazy with this dd shit. i was on the sidelines because i also thought that things were too high. i lost a ton of return on my cash because it was sitting at the bank waiting for the \"crash.\" i am investing every pay period now. i stopped trying to time shit. i don\\'t know what is going on; i am not a politician.', 'put your money in and leave it in long term. anything else is gambling, not investing.', 'pe ratio of the sp500 is still quite low compared with that of 2000 and 2008 pre-crashes according to data that i had access to. did you see it very high comparatively? could you cite the numbers in your comparisons?', \"i find these kind of question pointless. don't get me wrong, it's nothing to do with op. this is a natural question most people who are new to investing will ask the psychology always goes:bull market = bubble + imminent crash bear market = holy fuck this is the end of usjust stick to the long term and keep doing dollar coast averaging. less mental work and more rewards at the end.\", 'remember to never time the markets and invest for the long term', 'here is what i think works well.  when the market is up like this focus on improving your cash flow.  reduce your expenses, reduce credit card debt and build up some cash making sure you are prepared for a financial shock.  you want to be in a position where you are not scared during a correction knowing you have the funds to get through the downturn.  then when the correction happens you can take advantage of the lower prices. for example, during the dotcom bust i went from putting in 6% of my paycheck into my 401k to contributing the max thus taking advantage market drop.  the second thing you want to do is have a list of companies that you are going to put that additional money into.  and as others have said continue to invest as we do not know when that correction will come.', \"in my take, the best way is to adjust your asset allocation based on your risk preference. this can range from 100% cash to 100%+ equity. i would agree that based on current conditions, going all in on equity may not be the most optimal decision. personally, i'm about 80/20, growth to fixed income. the second (our of many dimensions) is the duration of your risk reducing / fixed income assets. if you believe rates are going to rise, then lower the duration and vice versa. overall, we've had some of the largest steepening in the yield curve so i'm not as sure rates will continue climbing and as such leaning into duration a bit.there are other dimensions to consider related to equity geography and market cap, credit spread exposure, diversifiers (such as reits, infrastructure). being able to understand these factors and size them appropriately is more challenging and requires more advanced knowledge of financial markets.\", 'id still investthats far better than watching my purchasing power being eaten by inflation', 'take pe ratio with a grain of salt. it\\'s not the complete picture of \"stock value\", it doesn\\'t work as the best value indicator for every sector.within a sector or between several companies that do the same business it can be a quick way to figure out which is the better value. however comparing the pe ratio of a tech stock to that of a consumer goods stock isn\\'t useful.goodhart\\'s law is a great heuristic to use when using metrics for making decisions: \"when a metric becomes a target, it ceases to be a good metric\"that captures the fact that people and corporations adapt to the kpi and often find ways to tweak the number without a real impactful change in the underlying business or process.figure you\\'re trying to sum up a complex adaptive system (company) within a complex adaptive system (economy) with one number. you need a lot more than that to get the full view.', 'dca', 'crypto', 'to quote, i believe, *jaws*...just keep swimming...', 'keep my money invested in a diversified portfolio of financially sound and good performing companies. and when the market drops, which it will at some point, buy more. rise and repeat until retirement.', \"if everything is overpriced like you said (houses, cars, paintings, stocks), then it's not really overpriced is it?\", 'dm me, i am making a 10% per month return on my cash.', 'id just do nothing', 'put it in anyway because what if im wrong?', 'wtf, who words a title like that?', \"i reduced but haven't stopped weekly contribution to cheap index funds and put more money in liquid funds. i look at 3 things. expensive ratio, historic returns and the graphs to see how the particular fund did when markets tanked in march 2020, liquid funds didn't dip during that period so probably won't if market dips now.\", \"i'd man up and invest in the stock market and quit complaining.\", \"like others said, time in the market beats timing the market.however, since the coming months look uncertain, i wouldn't go all in. i would partially invest every week/month so you have a better chance to seize opportunities (to enter after a dip or to average down)i would personally allocate a portion to crypto as well, now/the coming weeks is a great time to enter\", 'rent an office space with enclosed cubicles in eastern europe, like moldova or something.each cubicle gets a couch and a webcam.  hire developer to make an interface to stream to all the cam siteshire girls and give them a small cut.essentially be a webcam pimp.', 'buy certificates instead of stocks', 'i dont think so', 'time in the market beats timing the market.', \"one thing i'm looking at now is active management. but you cant beat the indexyou can, it's just rarely worth it between time/worrying/fees (and, you know, actually not beating the market). however in this stage of the market where everything is propped up by the fed and is so disconnected from its value, i'm comfortable handing off 1/3rd of my funds to someone who can invest dynamically through the upcoming turmoil. will reassess in a year.\", 'i dont think its a foregone conclusion that the market is overvalued. if you look at the sp500 ex the top 5 tech companies, its actually a pe in line with other markets, in the low 20s (doubleline capital recently covered this in one of their youtube webcasts).its really the big us mega cap tech companies which are massively tilting the sp500 pe upwards. and fwiw, i think those top 5 businesses are a steal. they make mega bucks with strong growth and huge monopolies, mostly for mid 30s pe.im fully invested and honestly havent felt this confident about the market in the last 3-4 years. weve kind of ran headfirst into almost all the major risks, and gone through it now with all the monetary and fiscal policy faucets being opened wide.', 'remindme! 2 years', 'hold current positions, and add more', 'continue investing as normal', 'whats with all these dumbass what if the sky is falling posts on the financial subreddits today?', 'i actually have a crystal ball and its not going to pop until 2029. and we enter a prolonged bear session for 10+ years after that.', \"i dont fuckin care  i invest for years to come   i won't sell anything before at least 2030\", 'gme is the best hedge']\n",
            "Daytrading  :  ['following thread', \"hml and ask me anything. i'm no expert but i make money so thats pretty good i guess.\"]\n",
            "WallStreetbetsELITE  :  ['christ dude. everything that its not amc and gme is not a pump and dump.', 'and where is your backing? please, shut the fuck up if you just pop in and make a post with no actual dd or research to back up. i know a few friends who made a good amount of clov and wish that turned those profits back over to amc. the market is about making money. and this page isn\\'t just a \"hodl guys lol too the moon!\" it\\'s getting more annoying with that shit lately.hell, bed bath and beyond is up 25% today. should have jumped on that.', 'next thing you know hes gonna say buy silver.', 'false', 'thirth post about the same and no sahring a single source... looks exactly like the fools who were posting the same about amc distraccion from gme months ago, now a lot of people regret missing the rocket', 'facts', \"apes are stronger together! we know that and they (hf, shills) know that. dividing the apes is their only hope at this point. i'm sure most of us have many other stocks but when it comes to apehood. buy, hold and hype amc/gme, we are here because we all love those stocks and want to see them succeed. if they succeed we succeed. there is money to be made everywhere but as apes we need to focus and stay together. let's finish these journeys before spreading out to others. not financial advise but this is the way. \", 'id argue amc was a pump and dump.but the people holding amc are hodl like true diamond hands.its held 50+ for awhile.', 'amc and gme only way....many many people getting distracted with this other bullshit.', '$clov factually speaking is ranked #1 in fintels short squeeze screener & theyre not giving it that short squeeze risk rate baselessly. so no not all are dead cats, unless you willingly want to believe whatever the voice inside your head is telling you.  'bailed out on nakd 3 months back   put into gme', 'buy and hold. amc', 'buy calls then sell 4 days later. buy puts then sell. make profit. put back in gme', 'lmfao trch was a merger shorts are forced to cover because of a merger', \"and if we mention this on the main sub, we'll get down voted to hell.\", 'is that kennys love child?!?  wth. i am in 1000 shares on each name including amc and gme. hes like the guy who goes to the casino and sits on two slot machines all day hoping to win another top line jackpot. dont play two machines play 10!!', \"it's interesting how you can always determine what generation of wsb a person is based on their nomenclature, e.g., the use of ape and proclivity towards amc/gme. if you're a real one then you remember martin's biotech picks and amd back in 2016\", \"nakd and sndl aren't pumps n dumps. you can see what stocks ripped in afterhours around the 7-9th of june. those are the pump n dumps, the real distractions. stocks like wen, clov, clne and wish.   the shfs still have a short position in nakd and sndl. it isn't as large or as naked as amc, koss, expr and the chosen one, gme. they still hate nakd and sndl.\", 'wkhs i like it', 'what about uthr?', 'stop distracting me with distractions fuck']\n",
            "DayTrading  :  ['following thread', \"hml and ask me anything. i'm no expert but i make money so thats pretty good i guess.\"]\n",
            "pennystocks  :  ['does this submission fit our subreddit? if it does please **upvote** this comment. if it does not fit the subreddit please **downvote** this comment.---^(*i am a bot, and this comment was made automatically.*) ^(please) [^(contact)^( )^(us)^( )^(via)^( )^(modmail)]( ^(if) ^(you) ^(have) ^(any) ^(questions) ^(or) ^(concerns.)', \"there's decent short term potential on this simply based on the rise of lwlg over the last few weeks. similar industry/tech.\", 'pardon my lack of knowledge/research, but does anyone happen to know how much correlation, if any, this company has with lightwave logic? both have moved nicely in recent sessions. thanks in advance!']\n",
            "Options  :  ['implied volatility.  since tesla swings so hard, options prices usually lag behind.  if it stays where it is in a fairly flat manner now you will see the price of the put drop pretty heavily.', 'implied volatility increased? or bid ask spread is wide', 'i posted a screenshot in a previous post at r/plus500']\n",
            "AlgoTrading  :  ['i found ib_insync the easiest to get started with and should do what you need.', 'a lot of people on this sub and related subs, including me, use ib_insync, programmed by ewald de wit. it is popular because it is programmed at a high professional level, it is foss, and it is very inclusive. ib_insync has a decent support forum, found at  evaluate it, you need to look at his documentation, starting with  on github. to see what is included that you can use, evaluate the segment titled \"api docs.\" also look at some of the examples under the \"notebooks\" title.you probably already know that this is not a restful api - there is a bit of a learning curve (made more complicated by the fact that not everything is covered by the documentation) and it helps if you are a fairly competent python programmer.the one downside is that if de wit loses interest or gets hit by a bus, or if ibkr stops support for their own traditional api, you may eventually face the reality that your interface, built with hours and hours of coding, may stop working anymore.good luck in your choice.', 'ib\\\\_insynctakes a bit of getting used to. it has everything you can possibly want and more plus the asyncio lib used throughout is just amazing for live systems.']\n",
            "MoonBets  :  ['   -- join our discord!!  --  *i am a bot, and this action was performed automatically. please [contact the moderators of this subreddit](/message/compose/?to=/r/moonbets) if you have any questions or concerns.*', \"i don't have a crypto bet this week. i play crypto long dick style. i keep stocking up on stellar lumens. they will go to $10 in the next 3 years.\"]\n",
            "algorithmictrading  :  ['yes, this is needed. especially the low/no code piece.', 'too general. focus on one tool which many have developed with python language.  most made claims but have little data to share.', 'this sounds a lot like ayrro. how will you be better than an already live and entrenched company?', 'how is this different from a ton of other companies?', \"to say i'm interested is an understatement. would you be able to call my api, maybe with a ticker symbol which returns true / false, true for buy/hold and false for sell/no-position? basically is it possible to add a custom / 3rd party qualification? i'd like to continue to focus on what i'm doing, trying to predict prices, it would be fantastic if i could use your platform for managing portfolios / positions and executing trades?\"]\n",
            "wallstreetbets  :  ['**user report**| | | |:--|:--|:--|:--**total submissions**|1|**first seen in wsb**|15 seconds ago**total comments**|0|**previous dd**|**account age**|5 months|[^scan ^comment ]( ^submission ]( 'wish lfg  holding these shorts', 'wish is my long term play. i also have options expiring 7/16 and 10/16. lets gooooo', 'wish is a multibagger at this level.. just buy and hold .. dont get distracted by the noise.', 'keep holding fellas ', 'the stock market is a device to take money from retards and give to slightly less retards - barren wuffet', 'wish to the moon lets make it possible apes wish at 17 eod', 'search wish on wsb and upvote every bull thread!!!', 'you have over a million dollars on robinhood? why? no, really, why? you know the reputation they have right?', 'fake account. literally first post ever.', 'this wish thing doesnt make any sense to me', \"i'm so happy i got out of this shit.\", 'you wish lolol', '[removed]', 'lets go!']\n",
            "UKInvesting  :  ['check out the section on american depository shares (which is what oatly are:  in short, youre not buying shares in oatly, youre buying adss so dont have beneficial ownership (jp morgan do), so because you arent buying the shares directly they dont qualify. id imagine thats their argument.2nd edit: from the above investors document:as an ads holder, we will not treat you as one of our shareholders. the depositary, jpmorgan chase bank, n.a., will be the holder of the ordinary shares underlying your adss. you will have rights as provided in the deposit agreement among us, the depositary and all holders and beneficial owners of adss thereunder.from the hmrc page:american depositary shares are dollar denominated and each share represents one or more underlying shares in the foreign corporation. an american depositary receipt is a physical certificate evidencing ownership in one or several american depositary shares. *the terms are often used interchangeably*.where a depository receipt is issued outside the uk *the question of whether the holder of the depository receipt is the beneficial owner of the underlying investment(s) will be determined by reference to the law of the territory in which the depository receipt is issued. information on beneficial ownership may be provided to investors by the depository. where the relevant law means that the holder of a depository receipt is not the beneficial owner of the underlying investment(s), the depository receipt cannot be a qualifying investment that can be held in a stocks and shares isa*.', \"i seem to be able to purchase oatly on freetrade? only ones i have had issue with is some chinese stocks. but that's a bit weird on restrictions too, can purchase baba but not like tme\", 'i can buy oatly in my isa with freetrade', 'you should be able to put any international stock traded on a hmrc recognised exchange into an isa. the list is here: [ trades on the nasdaq global select exchange which is recognised by hmrc so not sure why iweb is not permitting it in an isa', 'its the same with taiwan semiconductor and hl', 'it isnt isa rules stopping you here, im not sure why they told you it is, you likely got a rep that doesnt know what theyre talking about.', 'from what i understand some stocks have to meet a investor safety threshold and not be lent out to others or something? there are a few stocks (noteably chinese) that i cant invest in on my trading 212 isa. i think i asked about it on the trading212 forum', 'have you filled in the tax declaration form that us requires oe been asked to - maybe thats why you cant buy them?', \"can i just use this opportunity to mention oatly are placing an injunction on a local british farmer for brand infringement  relating to oat milk. i was looking at purchasing shares as i am dairy intolerant and like the products, but i will be boycotting them from now on. you may wish to consider if you are an ethical investor. in fact i'd rather buy shares in lockheed martin and bae systems than oatly after seeing this.sorry a little off topic.my broker app insists i fill in a w8-ben form before i can purchase us stocks. if that helps at all?\", \"not answering your question, but iweb are overpriced for stocks denominated in currencies other than sterling.most people can afford to invest in single stocks outside their isa anyway - if you invest 10,000 and double your money, you're still under the annual capital gains limit.i use fineco bank for foreign stocks - they charge about the same as iweb for trades, but they're much cheaper for currency exchange; you can also hold foreign currencies in your account, and i have a euro-denominated debit card with them.\", \"not answering your question, but iweb are overpriced for stocks denominated in currencies other than sterling. well, it's their exchange rates that are extortionate, and they charge them both ways.most people can afford to invest in single stocks outside their isa anyway - if you invest 10,000 and double your money, you're still under the annual capital gains limit.i use fineco bank for foreign stocks - they charge about the same as iweb for trades, but they're much cheaper for currency exchange; you can also hold foreign currencies in your account, and i have a euro-denominated debit card with them.\", \"i think they're spinning you a story.  i can add oatly to my isa on ig.\", \"i was just as lost on this. tried to buy some tx through my isa with ig a couple months back and couldn't, but can through a regular share dealing account. it's an adr listed on nyse so i've got no clue.\", \"i had the same thing with nio. i wasn't allowed that in an isa. could have in other accounts though\"]\n",
            "ausstocks  :  ['where is your money going! kids are 18+', \"open to high risk? then you're in the wrong sub, move over to r/asx_betssee you on the moon   \", 'etf and stick with it, if you want to invest passively.once you learn enough about the market and how cash-secured-puts work. start putting in small amounts on that side.ps: pay off the mortgage.', 'depends what the interest rate on the mortgage is and if you think you can surpass that amount in the market. at this current stage your tenants are basically paying off your mortgage. personally id either pay off mortgage or set it aside as an emergency fund if you havent already got a sizeable emergency fund', 'keep on building the savings in your offset/savings account and dump the cash savings in the investment loan when you are ready to start living in the property?', \"financial adviser here and this is what i would do:the reason why you would pay off your investment loan is to have a debt free asset with income. if that is your goal, pay down the loan but to me, it doesn't make sense when interest rates are at record low. if the house is in your name and the interest rate is 3% p.a., the effective loan interest rate based on your mtr is 1.9%you are much better off for the next 4 years investing in shares and after 4 years, selling those shares and paying down the mortgage because the loan is then non-deductible.\"]\n",
            "WallStreetBets  :  ['**user report**| | | |:--|:--|:--|:--**total submissions**|1|**first seen in wsb**|15 seconds ago**total comments**|0|**previous dd**|**account age**|5 months|[^scan ^comment ]( ^submission ]( 'wish lfg  holding these shorts', 'wish is my long term play. i also have options expiring 7/16 and 10/16. lets gooooo', 'wish is a multibagger at this level.. just buy and hold .. dont get distracted by the noise.', 'keep holding fellas ', 'the stock market is a device to take money from retards and give to slightly less retards - barren wuffet', 'wish to the moon lets make it possible apes wish at 17 eod', 'you have over a million dollars on robinhood? why? no, really, why? you know the reputation they have right?', 'search wish on wsb and upvote every bull thread!!!', 'fake account. literally first post ever.', 'this wish thing doesnt make any sense to me', \"i'm so happy i got out of this shit.\", 'you wish lolol', '[removed]', 'lets go!']\n",
            "dividends  :  ['none of the real brokerages charge for trades so dump robinhood', 'different stocks pay at different time frame. google each stock and you can see when they pay out, quite a few pay out monthly and i think there are a few specialty stocks that pay weekly. to get paid the dividend you need to own the stock before the ex-dividend date so again its different with each stock all the time so google each stock to find its next ex-dividend date.', 'welcome to r/dividends!if you are new to the world of dividend investing and are seeking advice, brokerage information, recommendations, and more, please check out the wiki [here]( direct all simple questions and \"rate my portfolio\" requests towards the weekly discussion threads (sort by hot, they\\'re at the top).  posts that contain solicitations for [due diligence]( will be removed.remember, this is a subreddit for genuine, high-quality discussion.  please keep all contributions civil, and report uncivil behavior for moderator review.  comment_stickied: true*i am a bot, and this action was performed automatically. please [contact the moderators of this subreddit](/message/compose/?to=/r/dividends) if you have any questions or concerns.*', 'fidelity is easy to open an account and doesn\\'t charge for trades.  that\\'s probably true for most of the brokerages.  there are many stocks, reits and funds that pay monthly, but there is little benefit to the more frequent payment schedule other than you get a little rush more frequently.  that doesn\\'t compare to the surprise of an unexpected $4 grand appearing from an annual payer though.dividend payers have four key dates, in my personal order of importance.  the *ex-date*, the date it becomes too late to get the current period\\'s declared dividend.  the *payment date,* the date the cash hits your account.  the *date of record*, the day you have to show owning the stock on the companies books (this always seems to be the day after the ex-date due to posting times) and the *declaration date*, which is when the company board of directors choose the amount and the other dates.  you can curate a list of stocks or funds that interest you, do your due diligence and look up those dates with a simple google search of the ticker you want  **ticker dividend history.**  for example \"t dividend history\" will give you several sites that will give you the dates and payouts for at&t.', \"until you understand a lot of these questions, i'd highly recommend that you not invest any additional capital. this is not trying to be rude, more....these questions are equities 101 and if you don't fully understand these, you are going to get your head taken off by the market eventually.\", \"read the wiki and faq. then look at the following books:    stocks for the long run, and the future for investors, both by jeremy   siegel; dividends still don't lie, by kelley wright, and the ultimate   dividend playbook, by josh peters. (for the process, not recommendations   for actual stocks to buy today)\", \">i do use robinhood i know it's a taboo but i can't really afford to pay for trades. any suggestion on a better app to use?my suggestion is to look at fidelity. they don't charge for trades and they have excellent customer service.\", 'a few if the reits pay monthly.  realty income corp (nyse: $o) comes to mind.r/barnaclestocks']\n"
          ],
          "name": "stdout"
        }
      ]
    },
    {
      "cell_type": "code",
      "metadata": {
        "id": "vpiNzwFYhZ7H"
      },
      "source": [
        "def data():\n",
        "  return list(posts.values())"
      ],
      "execution_count": null,
      "outputs": []
    },
    {
      "cell_type": "code",
      "metadata": {
        "id": "uSrc8AGChxYm"
      },
      "source": [
        "x = data()"
      ],
      "execution_count": null,
      "outputs": []
    },
    {
      "cell_type": "markdown",
      "metadata": {
        "id": "qkZjSaxGjqK0"
      },
      "source": [
        "# **END OF REDDIT SCRAPER AND DATA IS GATHERED **bold text**\n",
        "**"
      ]
    },
    {
      "cell_type": "code",
      "metadata": {
        "id": "MZ4QB3p8rP1s"
      },
      "source": [
        "flat_list = [item for sublist in x for item in sublist]"
      ],
      "execution_count": null,
      "outputs": []
    },
    {
      "cell_type": "code",
      "metadata": {
        "id": "rUbzeBipsMBE"
      },
      "source": [
        "model = export_model.predict(flat_list)"
      ],
      "execution_count": null,
      "outputs": []
    },
    {
      "cell_type": "code",
      "metadata": {
        "id": "DjdvpQfNlXPp"
      },
      "source": [
        "#interpret if the numbers [0,1] mean bullish or bearish\n",
        "bull = 0\n",
        "bear = 0\n",
        "\n",
        "for x in model:\n",
        "  if x < .5:\n",
        "    bear = bear + 1\n",
        "  else:\n",
        "    bull = bull + 1"
      ],
      "execution_count": null,
      "outputs": []
    },
    {
      "cell_type": "code",
      "metadata": {
        "colab": {
          "base_uri": "https://localhost:8080/",
          "height": 248
        },
        "id": "pk7_XieOvjcB",
        "outputId": "d070e845-4843-41c7-ec8a-91655266e4b4"
      },
      "source": [
        "labels = 'Bullish', 'Bearish'\n",
        "sizes = [bull, bear]\n",
        "\n",
        "fig1, ax1 = plt.subplots()\n",
        "ax1.pie(sizes, labels=labels, startangle=90, autopct='%1.1f%%')\n",
        "ax1.axis('equal')  # Equal aspect ratio ensures that pie is drawn as a circle.\n",
        "\n",
        "plt.show()"
      ],
      "execution_count": null,
      "outputs": [
        {
          "output_type": "display_data",
          "data": {
            "image/png": "[encoded data removed]",
            "text/plain": [
              "<Figure size 432x288 with 1 Axes>"
            ]
          },
          "metadata": {
            "tags": []
          }
        }
      ]
    },
    {
      "cell_type": "code",
      "metadata": {
        "id": "DnuGWl9Lx2OY"
      },
      "source": [
        ""
      ],
      "execution_count": null,
      "outputs": []
    }
  ]
}
